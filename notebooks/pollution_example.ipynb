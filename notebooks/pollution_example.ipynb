{
 "cells": [
  {
   "cell_type": "markdown",
   "id": "dietary-discipline",
   "metadata": {},
   "source": [
    "# Pollution Dataset"
   ]
  },
  {
   "cell_type": "code",
   "execution_count": 1,
   "id": "faced-joining",
   "metadata": {},
   "outputs": [],
   "source": [
    "import xarray as xr\n",
    "import pandas as pd\n",
    "import numpy as np\n",
    "from pathlib import Path\n",
    "import pickle\n",
    "import matplotlib.pyplot as plt\n",
    "\n",
    "base_dir = Path(\".\").absolute().parents[0]\n",
    "import sys\n",
    "\n",
    "if sys.path[0] != base_dir.as_posix():\n",
    "    sys.path = [base_dir.as_posix()] + sys.path"
   ]
  },
  {
   "cell_type": "code",
   "execution_count": 2,
   "id": "monthly-bacteria",
   "metadata": {},
   "outputs": [],
   "source": [
    "from spatio_temporal.config import Config\n",
    "from spatio_temporal.training.trainer import Trainer\n",
    "from spatio_temporal.training.tester import Tester\n",
    "from tests.utils import (\n",
    "    create_linear_ds,\n",
    "    _test_sklearn_model,\n",
    "    get_pollution_data_beijing,\n",
    ")\n",
    "from spatio_temporal.training.eval_utils import _plot_loss_curves, save_losses"
   ]
  },
  {
   "cell_type": "markdown",
   "id": "agricultural-exposure",
   "metadata": {},
   "source": [
    "# Load in Data"
   ]
  },
  {
   "cell_type": "code",
   "execution_count": 3,
   "id": "japanese-monday",
   "metadata": {},
   "outputs": [
    {
     "data": {
      "text/html": [
       "<div><svg style=\"position: absolute; width: 0; height: 0; overflow: hidden\">\n",
       "<defs>\n",
       "<symbol id=\"icon-database\" viewBox=\"0 0 32 32\">\n",
       "<path d=\"M16 0c-8.837 0-16 2.239-16 5v4c0 2.761 7.163 5 16 5s16-2.239 16-5v-4c0-2.761-7.163-5-16-5z\"></path>\n",
       "<path d=\"M16 17c-8.837 0-16-2.239-16-5v6c0 2.761 7.163 5 16 5s16-2.239 16-5v-6c0 2.761-7.163 5-16 5z\"></path>\n",
       "<path d=\"M16 26c-8.837 0-16-2.239-16-5v6c0 2.761 7.163 5 16 5s16-2.239 16-5v-6c0 2.761-7.163 5-16 5z\"></path>\n",
       "</symbol>\n",
       "<symbol id=\"icon-file-text2\" viewBox=\"0 0 32 32\">\n",
       "<path d=\"M28.681 7.159c-0.694-0.947-1.662-2.053-2.724-3.116s-2.169-2.030-3.116-2.724c-1.612-1.182-2.393-1.319-2.841-1.319h-15.5c-1.378 0-2.5 1.121-2.5 2.5v27c0 1.378 1.122 2.5 2.5 2.5h23c1.378 0 2.5-1.122 2.5-2.5v-19.5c0-0.448-0.137-1.23-1.319-2.841zM24.543 5.457c0.959 0.959 1.712 1.825 2.268 2.543h-4.811v-4.811c0.718 0.556 1.584 1.309 2.543 2.268zM28 29.5c0 0.271-0.229 0.5-0.5 0.5h-23c-0.271 0-0.5-0.229-0.5-0.5v-27c0-0.271 0.229-0.5 0.5-0.5 0 0 15.499-0 15.5 0v7c0 0.552 0.448 1 1 1h7v19.5z\"></path>\n",
       "<path d=\"M23 26h-14c-0.552 0-1-0.448-1-1s0.448-1 1-1h14c0.552 0 1 0.448 1 1s-0.448 1-1 1z\"></path>\n",
       "<path d=\"M23 22h-14c-0.552 0-1-0.448-1-1s0.448-1 1-1h14c0.552 0 1 0.448 1 1s-0.448 1-1 1z\"></path>\n",
       "<path d=\"M23 18h-14c-0.552 0-1-0.448-1-1s0.448-1 1-1h14c0.552 0 1 0.448 1 1s-0.448 1-1 1z\"></path>\n",
       "</symbol>\n",
       "</defs>\n",
       "</svg>\n",
       "<style>/* CSS stylesheet for displaying xarray objects in jupyterlab.\n",
       " *\n",
       " */\n",
       "\n",
       ":root {\n",
       "  --xr-font-color0: var(--jp-content-font-color0, rgba(0, 0, 0, 1));\n",
       "  --xr-font-color2: var(--jp-content-font-color2, rgba(0, 0, 0, 0.54));\n",
       "  --xr-font-color3: var(--jp-content-font-color3, rgba(0, 0, 0, 0.38));\n",
       "  --xr-border-color: var(--jp-border-color2, #e0e0e0);\n",
       "  --xr-disabled-color: var(--jp-layout-color3, #bdbdbd);\n",
       "  --xr-background-color: var(--jp-layout-color0, white);\n",
       "  --xr-background-color-row-even: var(--jp-layout-color1, white);\n",
       "  --xr-background-color-row-odd: var(--jp-layout-color2, #eeeeee);\n",
       "}\n",
       "\n",
       "html[theme=dark],\n",
       "body.vscode-dark {\n",
       "  --xr-font-color0: rgba(255, 255, 255, 1);\n",
       "  --xr-font-color2: rgba(255, 255, 255, 0.54);\n",
       "  --xr-font-color3: rgba(255, 255, 255, 0.38);\n",
       "  --xr-border-color: #1F1F1F;\n",
       "  --xr-disabled-color: #515151;\n",
       "  --xr-background-color: #111111;\n",
       "  --xr-background-color-row-even: #111111;\n",
       "  --xr-background-color-row-odd: #313131;\n",
       "}\n",
       "\n",
       ".xr-wrap {\n",
       "  display: block;\n",
       "  min-width: 300px;\n",
       "  max-width: 700px;\n",
       "}\n",
       "\n",
       ".xr-text-repr-fallback {\n",
       "  /* fallback to plain text repr when CSS is not injected (untrusted notebook) */\n",
       "  display: none;\n",
       "}\n",
       "\n",
       ".xr-header {\n",
       "  padding-top: 6px;\n",
       "  padding-bottom: 6px;\n",
       "  margin-bottom: 4px;\n",
       "  border-bottom: solid 1px var(--xr-border-color);\n",
       "}\n",
       "\n",
       ".xr-header > div,\n",
       ".xr-header > ul {\n",
       "  display: inline;\n",
       "  margin-top: 0;\n",
       "  margin-bottom: 0;\n",
       "}\n",
       "\n",
       ".xr-obj-type,\n",
       ".xr-array-name {\n",
       "  margin-left: 2px;\n",
       "  margin-right: 10px;\n",
       "}\n",
       "\n",
       ".xr-obj-type {\n",
       "  color: var(--xr-font-color2);\n",
       "}\n",
       "\n",
       ".xr-sections {\n",
       "  padding-left: 0 !important;\n",
       "  display: grid;\n",
       "  grid-template-columns: 150px auto auto 1fr 20px 20px;\n",
       "}\n",
       "\n",
       ".xr-section-item {\n",
       "  display: contents;\n",
       "}\n",
       "\n",
       ".xr-section-item input {\n",
       "  display: none;\n",
       "}\n",
       "\n",
       ".xr-section-item input + label {\n",
       "  color: var(--xr-disabled-color);\n",
       "}\n",
       "\n",
       ".xr-section-item input:enabled + label {\n",
       "  cursor: pointer;\n",
       "  color: var(--xr-font-color2);\n",
       "}\n",
       "\n",
       ".xr-section-item input:enabled + label:hover {\n",
       "  color: var(--xr-font-color0);\n",
       "}\n",
       "\n",
       ".xr-section-summary {\n",
       "  grid-column: 1;\n",
       "  color: var(--xr-font-color2);\n",
       "  font-weight: 500;\n",
       "}\n",
       "\n",
       ".xr-section-summary > span {\n",
       "  display: inline-block;\n",
       "  padding-left: 0.5em;\n",
       "}\n",
       "\n",
       ".xr-section-summary-in:disabled + label {\n",
       "  color: var(--xr-font-color2);\n",
       "}\n",
       "\n",
       ".xr-section-summary-in + label:before {\n",
       "  display: inline-block;\n",
       "  content: '►';\n",
       "  font-size: 11px;\n",
       "  width: 15px;\n",
       "  text-align: center;\n",
       "}\n",
       "\n",
       ".xr-section-summary-in:disabled + label:before {\n",
       "  color: var(--xr-disabled-color);\n",
       "}\n",
       "\n",
       ".xr-section-summary-in:checked + label:before {\n",
       "  content: '▼';\n",
       "}\n",
       "\n",
       ".xr-section-summary-in:checked + label > span {\n",
       "  display: none;\n",
       "}\n",
       "\n",
       ".xr-section-summary,\n",
       ".xr-section-inline-details {\n",
       "  padding-top: 4px;\n",
       "  padding-bottom: 4px;\n",
       "}\n",
       "\n",
       ".xr-section-inline-details {\n",
       "  grid-column: 2 / -1;\n",
       "}\n",
       "\n",
       ".xr-section-details {\n",
       "  display: none;\n",
       "  grid-column: 1 / -1;\n",
       "  margin-bottom: 5px;\n",
       "}\n",
       "\n",
       ".xr-section-summary-in:checked ~ .xr-section-details {\n",
       "  display: contents;\n",
       "}\n",
       "\n",
       ".xr-array-wrap {\n",
       "  grid-column: 1 / -1;\n",
       "  display: grid;\n",
       "  grid-template-columns: 20px auto;\n",
       "}\n",
       "\n",
       ".xr-array-wrap > label {\n",
       "  grid-column: 1;\n",
       "  vertical-align: top;\n",
       "}\n",
       "\n",
       ".xr-preview {\n",
       "  color: var(--xr-font-color3);\n",
       "}\n",
       "\n",
       ".xr-array-preview,\n",
       ".xr-array-data {\n",
       "  padding: 0 5px !important;\n",
       "  grid-column: 2;\n",
       "}\n",
       "\n",
       ".xr-array-data,\n",
       ".xr-array-in:checked ~ .xr-array-preview {\n",
       "  display: none;\n",
       "}\n",
       "\n",
       ".xr-array-in:checked ~ .xr-array-data,\n",
       ".xr-array-preview {\n",
       "  display: inline-block;\n",
       "}\n",
       "\n",
       ".xr-dim-list {\n",
       "  display: inline-block !important;\n",
       "  list-style: none;\n",
       "  padding: 0 !important;\n",
       "  margin: 0;\n",
       "}\n",
       "\n",
       ".xr-dim-list li {\n",
       "  display: inline-block;\n",
       "  padding: 0;\n",
       "  margin: 0;\n",
       "}\n",
       "\n",
       ".xr-dim-list:before {\n",
       "  content: '(';\n",
       "}\n",
       "\n",
       ".xr-dim-list:after {\n",
       "  content: ')';\n",
       "}\n",
       "\n",
       ".xr-dim-list li:not(:last-child):after {\n",
       "  content: ',';\n",
       "  padding-right: 5px;\n",
       "}\n",
       "\n",
       ".xr-has-index {\n",
       "  font-weight: bold;\n",
       "}\n",
       "\n",
       ".xr-var-list,\n",
       ".xr-var-item {\n",
       "  display: contents;\n",
       "}\n",
       "\n",
       ".xr-var-item > div,\n",
       ".xr-var-item label,\n",
       ".xr-var-item > .xr-var-name span {\n",
       "  background-color: var(--xr-background-color-row-even);\n",
       "  margin-bottom: 0;\n",
       "}\n",
       "\n",
       ".xr-var-item > .xr-var-name:hover span {\n",
       "  padding-right: 5px;\n",
       "}\n",
       "\n",
       ".xr-var-list > li:nth-child(odd) > div,\n",
       ".xr-var-list > li:nth-child(odd) > label,\n",
       ".xr-var-list > li:nth-child(odd) > .xr-var-name span {\n",
       "  background-color: var(--xr-background-color-row-odd);\n",
       "}\n",
       "\n",
       ".xr-var-name {\n",
       "  grid-column: 1;\n",
       "}\n",
       "\n",
       ".xr-var-dims {\n",
       "  grid-column: 2;\n",
       "}\n",
       "\n",
       ".xr-var-dtype {\n",
       "  grid-column: 3;\n",
       "  text-align: right;\n",
       "  color: var(--xr-font-color2);\n",
       "}\n",
       "\n",
       ".xr-var-preview {\n",
       "  grid-column: 4;\n",
       "}\n",
       "\n",
       ".xr-var-name,\n",
       ".xr-var-dims,\n",
       ".xr-var-dtype,\n",
       ".xr-preview,\n",
       ".xr-attrs dt {\n",
       "  white-space: nowrap;\n",
       "  overflow: hidden;\n",
       "  text-overflow: ellipsis;\n",
       "  padding-right: 10px;\n",
       "}\n",
       "\n",
       ".xr-var-name:hover,\n",
       ".xr-var-dims:hover,\n",
       ".xr-var-dtype:hover,\n",
       ".xr-attrs dt:hover {\n",
       "  overflow: visible;\n",
       "  width: auto;\n",
       "  z-index: 1;\n",
       "}\n",
       "\n",
       ".xr-var-attrs,\n",
       ".xr-var-data {\n",
       "  display: none;\n",
       "  background-color: var(--xr-background-color) !important;\n",
       "  padding-bottom: 5px !important;\n",
       "}\n",
       "\n",
       ".xr-var-attrs-in:checked ~ .xr-var-attrs,\n",
       ".xr-var-data-in:checked ~ .xr-var-data {\n",
       "  display: block;\n",
       "}\n",
       "\n",
       ".xr-var-data > table {\n",
       "  float: right;\n",
       "}\n",
       "\n",
       ".xr-var-name span,\n",
       ".xr-var-data,\n",
       ".xr-attrs {\n",
       "  padding-left: 25px !important;\n",
       "}\n",
       "\n",
       ".xr-attrs,\n",
       ".xr-var-attrs,\n",
       ".xr-var-data {\n",
       "  grid-column: 1 / -1;\n",
       "}\n",
       "\n",
       "dl.xr-attrs {\n",
       "  padding: 0;\n",
       "  margin: 0;\n",
       "  display: grid;\n",
       "  grid-template-columns: 125px auto;\n",
       "}\n",
       "\n",
       ".xr-attrs dt,\n",
       ".xr-attrs dd {\n",
       "  padding: 0;\n",
       "  margin: 0;\n",
       "  float: left;\n",
       "  padding-right: 10px;\n",
       "  width: auto;\n",
       "}\n",
       "\n",
       ".xr-attrs dt {\n",
       "  font-weight: normal;\n",
       "  grid-column: 1;\n",
       "}\n",
       "\n",
       ".xr-attrs dt:hover span {\n",
       "  display: inline-block;\n",
       "  background: var(--xr-background-color);\n",
       "  padding-right: 10px;\n",
       "}\n",
       "\n",
       ".xr-attrs dd {\n",
       "  grid-column: 2;\n",
       "  white-space: pre-wrap;\n",
       "  word-break: break-all;\n",
       "}\n",
       "\n",
       ".xr-icon-database,\n",
       ".xr-icon-file-text2 {\n",
       "  display: inline-block;\n",
       "  vertical-align: middle;\n",
       "  width: 1em;\n",
       "  height: 1.5em !important;\n",
       "  stroke-width: 0;\n",
       "  stroke: currentColor;\n",
       "  fill: currentColor;\n",
       "}\n",
       "</style><pre class='xr-text-repr-fallback'>&lt;xarray.Dataset&gt;\n",
       "Dimensions:    (point: 1, time: 43824)\n",
       "Coordinates:\n",
       "  * time       (time) datetime64[ns] 2010-01-01 ... 2014-12-31T23:00:00\n",
       "  * point      (point) object &#x27;1&#x27;\n",
       "Data variables:\n",
       "    pollution  (time, point) float64 nan nan nan nan nan ... 10.0 10.0 8.0 12.0\n",
       "    dew        (time, point) int64 -21 -21 -21 -21 -20 ... -23 -22 -22 -22 -21\n",
       "    temp       (time, point) float64 -11.0 -12.0 -11.0 -14.0 ... -3.0 -4.0 -3.0\n",
       "    press      (time, point) float64 1.021e+03 1.02e+03 ... 1.034e+03 1.034e+03\n",
       "    wnd_dir    (time, point) object &#x27;NW&#x27; &#x27;NW&#x27; &#x27;NW&#x27; &#x27;NW&#x27; ... &#x27;NW&#x27; &#x27;NW&#x27; &#x27;NW&#x27; &#x27;NW&#x27;\n",
       "    wnd_spd    (time, point) float64 1.79 4.92 6.71 9.84 ... 242.7 246.7 249.8\n",
       "    snow       (time, point) int64 0 0 0 0 0 0 0 0 0 0 0 ... 0 0 0 0 0 0 0 0 0 0\n",
       "    rain       (time, point) int64 0 0 0 0 0 0 0 0 0 0 0 ... 0 0 0 0 0 0 0 0 0 0</pre><div class='xr-wrap' hidden><div class='xr-header'><div class='xr-obj-type'>xarray.Dataset</div></div><ul class='xr-sections'><li class='xr-section-item'><input id='section-e4d0fe76-96c0-46ba-9e12-b5707df4a6a1' class='xr-section-summary-in' type='checkbox' disabled ><label for='section-e4d0fe76-96c0-46ba-9e12-b5707df4a6a1' class='xr-section-summary'  title='Expand/collapse section'>Dimensions:</label><div class='xr-section-inline-details'><ul class='xr-dim-list'><li><span class='xr-has-index'>point</span>: 1</li><li><span class='xr-has-index'>time</span>: 43824</li></ul></div><div class='xr-section-details'></div></li><li class='xr-section-item'><input id='section-65bf5778-88ed-4da8-83f1-718f9bba98ee' class='xr-section-summary-in' type='checkbox'  checked><label for='section-65bf5778-88ed-4da8-83f1-718f9bba98ee' class='xr-section-summary' >Coordinates: <span>(2)</span></label><div class='xr-section-inline-details'></div><div class='xr-section-details'><ul class='xr-var-list'><li class='xr-var-item'><div class='xr-var-name'><span class='xr-has-index'>time</span></div><div class='xr-var-dims'>(time)</div><div class='xr-var-dtype'>datetime64[ns]</div><div class='xr-var-preview xr-preview'>2010-01-01 ... 2014-12-31T23:00:00</div><input id='attrs-5f30c52b-acb5-45f6-8395-f6182c725b0c' class='xr-var-attrs-in' type='checkbox' disabled><label for='attrs-5f30c52b-acb5-45f6-8395-f6182c725b0c' title='Show/Hide attributes'><svg class='icon xr-icon-file-text2'><use xlink:href='#icon-file-text2'></use></svg></label><input id='data-f091497b-7ed1-49a1-b5d9-7d49f64a6d4f' class='xr-var-data-in' type='checkbox'><label for='data-f091497b-7ed1-49a1-b5d9-7d49f64a6d4f' title='Show/Hide data repr'><svg class='icon xr-icon-database'><use xlink:href='#icon-database'></use></svg></label><div class='xr-var-attrs'><dl class='xr-attrs'></dl></div><div class='xr-var-data'><pre>array([&#x27;2010-01-01T00:00:00.000000000&#x27;, &#x27;2010-01-01T01:00:00.000000000&#x27;,\n",
       "       &#x27;2010-01-01T02:00:00.000000000&#x27;, ..., &#x27;2014-12-31T21:00:00.000000000&#x27;,\n",
       "       &#x27;2014-12-31T22:00:00.000000000&#x27;, &#x27;2014-12-31T23:00:00.000000000&#x27;],\n",
       "      dtype=&#x27;datetime64[ns]&#x27;)</pre></div></li><li class='xr-var-item'><div class='xr-var-name'><span class='xr-has-index'>point</span></div><div class='xr-var-dims'>(point)</div><div class='xr-var-dtype'>object</div><div class='xr-var-preview xr-preview'>&#x27;1&#x27;</div><input id='attrs-667d8d2d-314a-4fb9-a89c-c02128190c2b' class='xr-var-attrs-in' type='checkbox' disabled><label for='attrs-667d8d2d-314a-4fb9-a89c-c02128190c2b' title='Show/Hide attributes'><svg class='icon xr-icon-file-text2'><use xlink:href='#icon-file-text2'></use></svg></label><input id='data-459b2b9f-9707-452b-b920-693d9fa6248a' class='xr-var-data-in' type='checkbox'><label for='data-459b2b9f-9707-452b-b920-693d9fa6248a' title='Show/Hide data repr'><svg class='icon xr-icon-database'><use xlink:href='#icon-database'></use></svg></label><div class='xr-var-attrs'><dl class='xr-attrs'></dl></div><div class='xr-var-data'><pre>array([&#x27;1&#x27;], dtype=object)</pre></div></li></ul></div></li><li class='xr-section-item'><input id='section-3cd9c693-130e-4819-b80f-520afa9949ca' class='xr-section-summary-in' type='checkbox'  checked><label for='section-3cd9c693-130e-4819-b80f-520afa9949ca' class='xr-section-summary' >Data variables: <span>(8)</span></label><div class='xr-section-inline-details'></div><div class='xr-section-details'><ul class='xr-var-list'><li class='xr-var-item'><div class='xr-var-name'><span>pollution</span></div><div class='xr-var-dims'>(time, point)</div><div class='xr-var-dtype'>float64</div><div class='xr-var-preview xr-preview'>nan nan nan nan ... 10.0 8.0 12.0</div><input id='attrs-bfc62843-8352-4d45-ac46-8070bb9598cd' class='xr-var-attrs-in' type='checkbox' disabled><label for='attrs-bfc62843-8352-4d45-ac46-8070bb9598cd' title='Show/Hide attributes'><svg class='icon xr-icon-file-text2'><use xlink:href='#icon-file-text2'></use></svg></label><input id='data-0f46520d-7d60-4d7a-b913-ed199a195e3f' class='xr-var-data-in' type='checkbox'><label for='data-0f46520d-7d60-4d7a-b913-ed199a195e3f' title='Show/Hide data repr'><svg class='icon xr-icon-database'><use xlink:href='#icon-database'></use></svg></label><div class='xr-var-attrs'><dl class='xr-attrs'></dl></div><div class='xr-var-data'><pre>array([[nan],\n",
       "       [nan],\n",
       "       [nan],\n",
       "       ...,\n",
       "       [10.],\n",
       "       [ 8.],\n",
       "       [12.]])</pre></div></li><li class='xr-var-item'><div class='xr-var-name'><span>dew</span></div><div class='xr-var-dims'>(time, point)</div><div class='xr-var-dtype'>int64</div><div class='xr-var-preview xr-preview'>-21 -21 -21 -21 ... -22 -22 -22 -21</div><input id='attrs-e2a842be-9e74-4430-95bb-18928e3533e0' class='xr-var-attrs-in' type='checkbox' disabled><label for='attrs-e2a842be-9e74-4430-95bb-18928e3533e0' title='Show/Hide attributes'><svg class='icon xr-icon-file-text2'><use xlink:href='#icon-file-text2'></use></svg></label><input id='data-1f57c169-b35e-40da-bf66-fbbf56568422' class='xr-var-data-in' type='checkbox'><label for='data-1f57c169-b35e-40da-bf66-fbbf56568422' title='Show/Hide data repr'><svg class='icon xr-icon-database'><use xlink:href='#icon-database'></use></svg></label><div class='xr-var-attrs'><dl class='xr-attrs'></dl></div><div class='xr-var-data'><pre>array([[-21],\n",
       "       [-21],\n",
       "       [-21],\n",
       "       ...,\n",
       "       [-22],\n",
       "       [-22],\n",
       "       [-21]])</pre></div></li><li class='xr-var-item'><div class='xr-var-name'><span>temp</span></div><div class='xr-var-dims'>(time, point)</div><div class='xr-var-dtype'>float64</div><div class='xr-var-preview xr-preview'>-11.0 -12.0 -11.0 ... -4.0 -3.0</div><input id='attrs-282adc1c-7c62-43a1-9640-c96b4d068399' class='xr-var-attrs-in' type='checkbox' disabled><label for='attrs-282adc1c-7c62-43a1-9640-c96b4d068399' title='Show/Hide attributes'><svg class='icon xr-icon-file-text2'><use xlink:href='#icon-file-text2'></use></svg></label><input id='data-fe95239d-4bb1-4d5d-ac6c-e912bc2d3380' class='xr-var-data-in' type='checkbox'><label for='data-fe95239d-4bb1-4d5d-ac6c-e912bc2d3380' title='Show/Hide data repr'><svg class='icon xr-icon-database'><use xlink:href='#icon-database'></use></svg></label><div class='xr-var-attrs'><dl class='xr-attrs'></dl></div><div class='xr-var-data'><pre>array([[-11.],\n",
       "       [-12.],\n",
       "       [-11.],\n",
       "       ...,\n",
       "       [ -3.],\n",
       "       [ -4.],\n",
       "       [ -3.]])</pre></div></li><li class='xr-var-item'><div class='xr-var-name'><span>press</span></div><div class='xr-var-dims'>(time, point)</div><div class='xr-var-dtype'>float64</div><div class='xr-var-preview xr-preview'>1.021e+03 1.02e+03 ... 1.034e+03</div><input id='attrs-bd1575ce-a3a8-42a9-9c3c-7ea2530b0b05' class='xr-var-attrs-in' type='checkbox' disabled><label for='attrs-bd1575ce-a3a8-42a9-9c3c-7ea2530b0b05' title='Show/Hide attributes'><svg class='icon xr-icon-file-text2'><use xlink:href='#icon-file-text2'></use></svg></label><input id='data-83ab36cd-2ff4-4b7a-8fdb-c886ffb97da9' class='xr-var-data-in' type='checkbox'><label for='data-83ab36cd-2ff4-4b7a-8fdb-c886ffb97da9' title='Show/Hide data repr'><svg class='icon xr-icon-database'><use xlink:href='#icon-database'></use></svg></label><div class='xr-var-attrs'><dl class='xr-attrs'></dl></div><div class='xr-var-data'><pre>array([[1021.],\n",
       "       [1020.],\n",
       "       [1019.],\n",
       "       ...,\n",
       "       [1034.],\n",
       "       [1034.],\n",
       "       [1034.]])</pre></div></li><li class='xr-var-item'><div class='xr-var-name'><span>wnd_dir</span></div><div class='xr-var-dims'>(time, point)</div><div class='xr-var-dtype'>object</div><div class='xr-var-preview xr-preview'>&#x27;NW&#x27; &#x27;NW&#x27; &#x27;NW&#x27; ... &#x27;NW&#x27; &#x27;NW&#x27; &#x27;NW&#x27;</div><input id='attrs-b971b640-bb0c-4aad-b223-dfe42d546f3f' class='xr-var-attrs-in' type='checkbox' disabled><label for='attrs-b971b640-bb0c-4aad-b223-dfe42d546f3f' title='Show/Hide attributes'><svg class='icon xr-icon-file-text2'><use xlink:href='#icon-file-text2'></use></svg></label><input id='data-896643c7-166a-4403-9f8c-6454e74fc8ec' class='xr-var-data-in' type='checkbox'><label for='data-896643c7-166a-4403-9f8c-6454e74fc8ec' title='Show/Hide data repr'><svg class='icon xr-icon-database'><use xlink:href='#icon-database'></use></svg></label><div class='xr-var-attrs'><dl class='xr-attrs'></dl></div><div class='xr-var-data'><pre>array([[&#x27;NW&#x27;],\n",
       "       [&#x27;NW&#x27;],\n",
       "       [&#x27;NW&#x27;],\n",
       "       ...,\n",
       "       [&#x27;NW&#x27;],\n",
       "       [&#x27;NW&#x27;],\n",
       "       [&#x27;NW&#x27;]], dtype=object)</pre></div></li><li class='xr-var-item'><div class='xr-var-name'><span>wnd_spd</span></div><div class='xr-var-dims'>(time, point)</div><div class='xr-var-dtype'>float64</div><div class='xr-var-preview xr-preview'>1.79 4.92 6.71 ... 246.7 249.8</div><input id='attrs-ed1286f5-883f-4157-8a1d-855be5990f99' class='xr-var-attrs-in' type='checkbox' disabled><label for='attrs-ed1286f5-883f-4157-8a1d-855be5990f99' title='Show/Hide attributes'><svg class='icon xr-icon-file-text2'><use xlink:href='#icon-file-text2'></use></svg></label><input id='data-bd2808f7-2910-43fb-8661-b221c51da54c' class='xr-var-data-in' type='checkbox'><label for='data-bd2808f7-2910-43fb-8661-b221c51da54c' title='Show/Hide data repr'><svg class='icon xr-icon-database'><use xlink:href='#icon-database'></use></svg></label><div class='xr-var-attrs'><dl class='xr-attrs'></dl></div><div class='xr-var-data'><pre>array([[  1.79],\n",
       "       [  4.92],\n",
       "       [  6.71],\n",
       "       ...,\n",
       "       [242.7 ],\n",
       "       [246.72],\n",
       "       [249.85]])</pre></div></li><li class='xr-var-item'><div class='xr-var-name'><span>snow</span></div><div class='xr-var-dims'>(time, point)</div><div class='xr-var-dtype'>int64</div><div class='xr-var-preview xr-preview'>0 0 0 0 0 0 0 0 ... 0 0 0 0 0 0 0 0</div><input id='attrs-66bac24c-50f1-4d4c-8635-92a0d1e7d0e5' class='xr-var-attrs-in' type='checkbox' disabled><label for='attrs-66bac24c-50f1-4d4c-8635-92a0d1e7d0e5' title='Show/Hide attributes'><svg class='icon xr-icon-file-text2'><use xlink:href='#icon-file-text2'></use></svg></label><input id='data-c99105f8-d13e-47b7-bb8a-e071866750f1' class='xr-var-data-in' type='checkbox'><label for='data-c99105f8-d13e-47b7-bb8a-e071866750f1' title='Show/Hide data repr'><svg class='icon xr-icon-database'><use xlink:href='#icon-database'></use></svg></label><div class='xr-var-attrs'><dl class='xr-attrs'></dl></div><div class='xr-var-data'><pre>array([[0],\n",
       "       [0],\n",
       "       [0],\n",
       "       ...,\n",
       "       [0],\n",
       "       [0],\n",
       "       [0]])</pre></div></li><li class='xr-var-item'><div class='xr-var-name'><span>rain</span></div><div class='xr-var-dims'>(time, point)</div><div class='xr-var-dtype'>int64</div><div class='xr-var-preview xr-preview'>0 0 0 0 0 0 0 0 ... 0 0 0 0 0 0 0 0</div><input id='attrs-48e3571f-fc4e-46d4-8933-ddfec0067657' class='xr-var-attrs-in' type='checkbox' disabled><label for='attrs-48e3571f-fc4e-46d4-8933-ddfec0067657' title='Show/Hide attributes'><svg class='icon xr-icon-file-text2'><use xlink:href='#icon-file-text2'></use></svg></label><input id='data-4c4860bc-dac8-4b55-bfe0-b6d64df25ead' class='xr-var-data-in' type='checkbox'><label for='data-4c4860bc-dac8-4b55-bfe0-b6d64df25ead' title='Show/Hide data repr'><svg class='icon xr-icon-database'><use xlink:href='#icon-database'></use></svg></label><div class='xr-var-attrs'><dl class='xr-attrs'></dl></div><div class='xr-var-data'><pre>array([[0],\n",
       "       [0],\n",
       "       [0],\n",
       "       ...,\n",
       "       [0],\n",
       "       [0],\n",
       "       [0]])</pre></div></li></ul></div></li><li class='xr-section-item'><input id='section-d0e0ef26-303d-4b1f-b183-14321c2c23b7' class='xr-section-summary-in' type='checkbox' disabled ><label for='section-d0e0ef26-303d-4b1f-b183-14321c2c23b7' class='xr-section-summary'  title='Expand/collapse section'>Attributes: <span>(0)</span></label><div class='xr-section-inline-details'></div><div class='xr-section-details'><dl class='xr-attrs'></dl></div></li></ul></div></div>"
      ],
      "text/plain": [
       "<xarray.Dataset>\n",
       "Dimensions:    (point: 1, time: 43824)\n",
       "Coordinates:\n",
       "  * time       (time) datetime64[ns] 2010-01-01 ... 2014-12-31T23:00:00\n",
       "  * point      (point) object '1'\n",
       "Data variables:\n",
       "    pollution  (time, point) float64 nan nan nan nan nan ... 10.0 10.0 8.0 12.0\n",
       "    dew        (time, point) int64 -21 -21 -21 -21 -20 ... -23 -22 -22 -22 -21\n",
       "    temp       (time, point) float64 -11.0 -12.0 -11.0 -14.0 ... -3.0 -4.0 -3.0\n",
       "    press      (time, point) float64 1.021e+03 1.02e+03 ... 1.034e+03 1.034e+03\n",
       "    wnd_dir    (time, point) object 'NW' 'NW' 'NW' 'NW' ... 'NW' 'NW' 'NW' 'NW'\n",
       "    wnd_spd    (time, point) float64 1.79 4.92 6.71 9.84 ... 242.7 246.7 249.8\n",
       "    snow       (time, point) int64 0 0 0 0 0 0 0 0 0 0 0 ... 0 0 0 0 0 0 0 0 0 0\n",
       "    rain       (time, point) int64 0 0 0 0 0 0 0 0 0 0 0 ... 0 0 0 0 0 0 0 0 0 0"
      ]
     },
     "execution_count": 3,
     "metadata": {},
     "output_type": "execute_result"
    }
   ],
   "source": [
    "ds = get_pollution_data_beijing().to_xarray()\n",
    "ds"
   ]
  },
  {
   "cell_type": "markdown",
   "id": "becoming-agenda",
   "metadata": {},
   "source": [
    "# Load in config file"
   ]
  },
  {
   "cell_type": "code",
   "execution_count": 4,
   "id": "hearing-patent",
   "metadata": {},
   "outputs": [
    {
     "data": {
      "text/plain": [
       "{'autoregressive': True,\n",
       " 'batch_size': 256,\n",
       " 'data_dir': PosixPath('data'),\n",
       " 'experiment_name': 'pollution',\n",
       " 'hidden_size': 64,\n",
       " 'horizon': 1,\n",
       " 'input_variables': ['temp', 'wnd_spd'],\n",
       " 'learning_rate': 0.01,\n",
       " 'loss': 'MSE',\n",
       " 'n_epochs': 2,\n",
       " 'num_workers': 4,\n",
       " 'optimizer': 'Adam',\n",
       " 'pixel_dims': ['point'],\n",
       " 'run_dir': None,\n",
       " 'seed': 1234,\n",
       " 'seq_length': 48,\n",
       " 'target_variable': 'pollution',\n",
       " 'test_end_date': Timestamp('2015-12-31 00:00:00'),\n",
       " 'test_start_date': Timestamp('2014-01-01 00:00:00'),\n",
       " 'train_end_date': Timestamp('2011-12-31 00:00:00'),\n",
       " 'train_start_date': Timestamp('2010-01-01 00:00:00'),\n",
       " 'validation_end_date': Timestamp('2013-12-31 00:00:00'),\n",
       " 'validation_start_date': Timestamp('2012-01-01 00:00:00')}"
      ]
     },
     "execution_count": 4,
     "metadata": {},
     "output_type": "execute_result"
    }
   ],
   "source": [
    "cfg = Config(base_dir / \"tests/testconfigs/pollution.yml\")\n",
    "cfg._cfg[\"n_epochs\"] = 2\n",
    "cfg._cfg[\"autoregressive\"] = True\n",
    "cfg._cfg[\"horizon\"] = 1\n",
    "cfg._cfg[\"seq_length\"] = 48\n",
    "cfg"
   ]
  },
  {
   "cell_type": "markdown",
   "id": "alone-peeing",
   "metadata": {},
   "source": [
    "# Create trainer"
   ]
  },
  {
   "cell_type": "code",
   "execution_count": 5,
   "id": "hearing-bundle",
   "metadata": {},
   "outputs": [
    {
     "name": "stderr",
     "output_type": "stream",
     "text": [
      "Loading Data: 100%|██████████| 1/1 [00:00<00:00,  1.17it/s]\n",
      "Loading Data: 100%|██████████| 1/1 [00:00<00:00, 56.26it/s]"
     ]
    },
    {
     "name": "stdout",
     "output_type": "stream",
     "text": [
      "** No scheduler selected ** \n"
     ]
    },
    {
     "name": "stderr",
     "output_type": "stream",
     "text": [
      "\n"
     ]
    }
   ],
   "source": [
    "trainer = Trainer(cfg, ds)"
   ]
  },
  {
   "cell_type": "code",
   "execution_count": 6,
   "id": "pressed-lindsay",
   "metadata": {},
   "outputs": [
    {
     "name": "stderr",
     "output_type": "stream",
     "text": [
      "Training Epoch 1: 100%|██████████| 53/53 [00:10<00:00,  5.08it/s, 0.14 -- LR 1.00e-02]\n",
      "Validation Epoch 1: 100%|██████████| 54/54 [00:07<00:00,  7.69it/s]\n",
      "Training Epoch 2:   0%|          | 0/53 [00:00<?, ?it/s]"
     ]
    },
    {
     "name": "stdout",
     "output_type": "stream",
     "text": [
      "Train Loss: 0.40\n",
      "Valid Loss: 0.16\n"
     ]
    },
    {
     "name": "stderr",
     "output_type": "stream",
     "text": [
      "Training Epoch 2: 100%|██████████| 53/53 [00:09<00:00,  5.59it/s, 0.22 -- LR 1.00e-02]\n",
      "Validation Epoch 2: 100%|██████████| 54/54 [00:07<00:00,  7.69it/s]"
     ]
    },
    {
     "name": "stdout",
     "output_type": "stream",
     "text": [
      "Train Loss: 0.23\n",
      "Valid Loss: 0.17\n"
     ]
    },
    {
     "name": "stderr",
     "output_type": "stream",
     "text": [
      "\n"
     ]
    }
   ],
   "source": [
    "losses = trainer.train_and_validate()"
   ]
  },
  {
   "cell_type": "markdown",
   "id": "illegal-reaction",
   "metadata": {},
   "source": [
    "# Check losses of trained model"
   ]
  },
  {
   "cell_type": "code",
   "execution_count": 7,
   "id": "expressed-likelihood",
   "metadata": {},
   "outputs": [
    {
     "data": {
      "text/plain": [
       "<matplotlib.legend.Legend at 0x7faf89881af0>"
      ]
     },
     "execution_count": 7,
     "metadata": {},
     "output_type": "execute_result"
    },
    {
     "data": {
      "image/png": "[encoded data removed]",
      "text/plain": [
       "<Figure size 432x288 with 1 Axes>"
      ]
     },
     "metadata": {
      "needs_background": "light"
     },
     "output_type": "display_data"
    }
   ],
   "source": [
    "train_losses, valid_losses = losses\n",
    "f, ax = plt.subplots()\n",
    "ax.plot(train_losses, label=\"Train\", color=\"C0\", marker=\"x\")\n",
    "ax.plot(valid_losses, label=\"Validation\", color=\"C1\", marker=\"x\")\n",
    "ax.set_xlabel(\"Epoch\")\n",
    "ax.set_ylabel(\"Loss\")\n",
    "plt.legend()"
   ]
  },
  {
   "cell_type": "markdown",
   "id": "valued-registrar",
   "metadata": {},
   "source": [
    "# Run Evaluation"
   ]
  },
  {
   "cell_type": "code",
   "execution_count": 8,
   "id": "incorrect-antigua",
   "metadata": {},
   "outputs": [
    {
     "name": "stderr",
     "output_type": "stream",
     "text": [
      "Loading Data: 100%|██████████| 1/1 [00:00<00:00, 104.81it/s]\n"
     ]
    }
   ],
   "source": [
    "tester = Tester(cfg, ds)"
   ]
  },
  {
   "cell_type": "code",
   "execution_count": 9,
   "id": "flush-approach",
   "metadata": {},
   "outputs": [
    {
     "name": "stderr",
     "output_type": "stream",
     "text": [
      "Test set Forward Pass: 100%|██████████| 29/29 [00:05<00:00,  4.87it/s]\n"
     ]
    },
    {
     "data": {
      "image/png": "[encoded data removed]",
      "text/plain": [
       "<Figure size 432x288 with 1 Axes>"
      ]
     },
     "metadata": {
      "needs_background": "light"
     },
     "output_type": "display_data"
    }
   ],
   "source": [
    "tester.run_test()"
   ]
  },
  {
   "cell_type": "markdown",
   "id": "hawaiian-product",
   "metadata": {},
   "source": [
    "# The output forecasts! "
   ]
  },
  {
   "cell_type": "code",
   "execution_count": 10,
   "id": "documented-marina",
   "metadata": {},
   "outputs": [
    {
     "ename": "ValueError",
     "evalue": "dimensions {'horizon'} do not exist. Expected one or more of Frozen(SortedKeysDict({'time': 7333, 'pixel': 1}))",
     "output_type": "error",
     "traceback": [
      "\u001b[0;31m---------------------------------------------------------------------------\u001b[0m",
      "\u001b[0;31mValueError\u001b[0m                                Traceback (most recent call last)",
      "\u001b[0;32m<ipython-input-10-1fc1fdd40bf6>\u001b[0m in \u001b[0;36m<module>\u001b[0;34m\u001b[0m\n\u001b[1;32m      1\u001b[0m \u001b[0mxr_path\u001b[0m \u001b[0;34m=\u001b[0m \u001b[0msorted\u001b[0m\u001b[0;34m(\u001b[0m\u001b[0mlist\u001b[0m\u001b[0;34m(\u001b[0m\u001b[0mcfg\u001b[0m\u001b[0;34m.\u001b[0m\u001b[0mrun_dir\u001b[0m\u001b[0;34m.\u001b[0m\u001b[0mglob\u001b[0m\u001b[0;34m(\u001b[0m\u001b[0;34m\"*.nc\"\u001b[0m\u001b[0;34m)\u001b[0m\u001b[0;34m)\u001b[0m\u001b[0;34m)\u001b[0m\u001b[0;34m[\u001b[0m\u001b[0;34m-\u001b[0m\u001b[0;36m1\u001b[0m\u001b[0;34m]\u001b[0m\u001b[0;34m\u001b[0m\u001b[0;34m\u001b[0m\u001b[0m\n\u001b[0;32m----> 2\u001b[0;31m \u001b[0mds\u001b[0m \u001b[0;34m=\u001b[0m \u001b[0mxr\u001b[0m\u001b[0;34m.\u001b[0m\u001b[0mopen_dataset\u001b[0m\u001b[0;34m(\u001b[0m\u001b[0mxr_path\u001b[0m\u001b[0;34m)\u001b[0m\u001b[0;34m.\u001b[0m\u001b[0misel\u001b[0m\u001b[0;34m(\u001b[0m\u001b[0mhorizon\u001b[0m\u001b[0;34m=\u001b[0m\u001b[0;36m0\u001b[0m\u001b[0;34m,\u001b[0m \u001b[0mpixel\u001b[0m\u001b[0;34m=\u001b[0m\u001b[0;36m0\u001b[0m\u001b[0;34m)\u001b[0m\u001b[0;34m.\u001b[0m\u001b[0mdrop\u001b[0m\u001b[0;34m(\u001b[0m\u001b[0;34m[\u001b[0m\u001b[0;34m\"horizon\"\u001b[0m\u001b[0;34m,\u001b[0m \u001b[0;34m\"pixel\"\u001b[0m\u001b[0;34m]\u001b[0m\u001b[0;34m)\u001b[0m\u001b[0;34m\u001b[0m\u001b[0;34m\u001b[0m\u001b[0m\n\u001b[0m\u001b[1;32m      3\u001b[0m \u001b[0mds\u001b[0m\u001b[0;34m\u001b[0m\u001b[0;34m\u001b[0m\u001b[0m\n",
      "\u001b[0;32m~/miniconda3/envs/ml/lib/python3.8/site-packages/xarray/core/dataset.py\u001b[0m in \u001b[0;36misel\u001b[0;34m(self, indexers, drop, missing_dims, **indexers_kwargs)\u001b[0m\n\u001b[1;32m   2034\u001b[0m         \u001b[0;31m# Much faster algorithm for when all indexers are ints, slices, one-dimensional\u001b[0m\u001b[0;34m\u001b[0m\u001b[0;34m\u001b[0m\u001b[0;34m\u001b[0m\u001b[0m\n\u001b[1;32m   2035\u001b[0m         \u001b[0;31m# lists, or zero or one-dimensional np.ndarray's\u001b[0m\u001b[0;34m\u001b[0m\u001b[0;34m\u001b[0m\u001b[0;34m\u001b[0m\u001b[0m\n\u001b[0;32m-> 2036\u001b[0;31m         \u001b[0mindexers\u001b[0m \u001b[0;34m=\u001b[0m \u001b[0mdrop_dims_from_indexers\u001b[0m\u001b[0;34m(\u001b[0m\u001b[0mindexers\u001b[0m\u001b[0;34m,\u001b[0m \u001b[0mself\u001b[0m\u001b[0;34m.\u001b[0m\u001b[0mdims\u001b[0m\u001b[0;34m,\u001b[0m \u001b[0mmissing_dims\u001b[0m\u001b[0;34m)\u001b[0m\u001b[0;34m\u001b[0m\u001b[0;34m\u001b[0m\u001b[0m\n\u001b[0m\u001b[1;32m   2037\u001b[0m \u001b[0;34m\u001b[0m\u001b[0m\n\u001b[1;32m   2038\u001b[0m         \u001b[0mvariables\u001b[0m \u001b[0;34m=\u001b[0m \u001b[0;34m{\u001b[0m\u001b[0;34m}\u001b[0m\u001b[0;34m\u001b[0m\u001b[0;34m\u001b[0m\u001b[0m\n",
      "\u001b[0;32m~/miniconda3/envs/ml/lib/python3.8/site-packages/xarray/core/utils.py\u001b[0m in \u001b[0;36mdrop_dims_from_indexers\u001b[0;34m(indexers, dims, missing_dims)\u001b[0m\n\u001b[1;32m    766\u001b[0m         \u001b[0minvalid\u001b[0m \u001b[0;34m=\u001b[0m \u001b[0mindexers\u001b[0m\u001b[0;34m.\u001b[0m\u001b[0mkeys\u001b[0m\u001b[0;34m(\u001b[0m\u001b[0;34m)\u001b[0m \u001b[0;34m-\u001b[0m \u001b[0mset\u001b[0m\u001b[0;34m(\u001b[0m\u001b[0mdims\u001b[0m\u001b[0;34m)\u001b[0m\u001b[0;34m\u001b[0m\u001b[0;34m\u001b[0m\u001b[0m\n\u001b[1;32m    767\u001b[0m         \u001b[0;32mif\u001b[0m \u001b[0minvalid\u001b[0m\u001b[0;34m:\u001b[0m\u001b[0;34m\u001b[0m\u001b[0;34m\u001b[0m\u001b[0m\n\u001b[0;32m--> 768\u001b[0;31m             raise ValueError(\n\u001b[0m\u001b[1;32m    769\u001b[0m                 \u001b[0;34mf\"dimensions {invalid} do not exist. Expected one or more of {dims}\"\u001b[0m\u001b[0;34m\u001b[0m\u001b[0;34m\u001b[0m\u001b[0m\n\u001b[1;32m    770\u001b[0m             )\n",
      "\u001b[0;31mValueError\u001b[0m: dimensions {'horizon'} do not exist. Expected one or more of Frozen(SortedKeysDict({'time': 7333, 'pixel': 1}))"
     ]
    }
   ],
   "source": [
    "xr_path = sorted(list(cfg.run_dir.glob(\"*.nc\")))[-1]\n",
    "ds = xr.open_dataset(xr_path).isel(horizon=0, pixel=0).drop([\"horizon\", \"pixel\"])\n",
    "ds "
   ]
  },
  {
   "cell_type": "code",
   "execution_count": null,
   "id": "owned-bridges",
   "metadata": {},
   "outputs": [],
   "source": [
    "# .sel(time=slice(\"2015-01-01\", \"2015-02-01\"))\n",
    "f, ax = plt.subplots(figsize=(12, 4))\n",
    "ds.isel(time=slice(0, 1000)).to_dataframe().plot(ax=ax)"
   ]
  }
 ],
 "metadata": {
  "kernelspec": {
   "display_name": "Python 3",
   "language": "python",
   "name": "python3"
  },
  "language_info": {
   "codemirror_mode": {
    "name": "ipython",
    "version": 3
   },
   "file_extension": ".py",
   "mimetype": "text/x-python",
   "name": "python",
   "nbconvert_exporter": "python",
   "pygments_lexer": "ipython3",
   "version": "3.8.5"
  }
 },
 "nbformat": 4,
 "nbformat_minor": 5
}
