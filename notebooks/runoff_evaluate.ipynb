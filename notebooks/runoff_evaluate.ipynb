{
 "cells": [
  {
   "cell_type": "markdown",
   "id": "still-mistake",
   "metadata": {},
   "source": [
    "# Explore Discharge Predictions (CamelsGB)"
   ]
  },
  {
   "cell_type": "code",
   "execution_count": null,
   "id": "pediatric-jackson",
   "metadata": {},
   "outputs": [],
   "source": [
    "import xarray as xr\n",
    "import pandas as pd\n",
    "import numpy as np\n",
    "from pathlib import Path\n",
    "import pickle\n",
    "import seaborn as sns\n",
    "import matplotlib.pyplot as plt\n",
    "\n",
    "base_dir = Path(\".\").absolute().parents[0]\n",
    "import sys\n",
    "\n",
    "if sys.path[0] != base_dir.as_posix():\n",
    "    sys.path = [base_dir.as_posix()] + sys.path"
   ]
  },
  {
   "cell_type": "code",
   "execution_count": null,
   "id": "sharp-factory",
   "metadata": {},
   "outputs": [],
   "source": [
    "from spatio_temporal.config import Config\n",
    "from spatio_temporal.training.trainer import Trainer\n",
    "from spatio_temporal.training.tester import Tester\n",
    "from tests.utils import (\n",
    "    create_linear_ds,\n",
    "    _test_sklearn_model,\n",
    "    download_test_jena_data,\n",
    "    load_test_jena_data_as_dataset\n",
    ")\n",
    "from spatio_temporal.training.eval_utils import _plot_loss_curves, save_losses"
   ]
  },
  {
   "cell_type": "markdown",
   "id": "russian-motorcycle",
   "metadata": {},
   "source": [
    "# Load in config file and predictions"
   ]
  },
  {
   "cell_type": "code",
   "execution_count": null,
   "id": "demonstrated-clinic",
   "metadata": {},
   "outputs": [],
   "source": [
    "ds = xr.open_dataset(base_dir / \"data/ALL_dynamic_ds.nc\")\n",
    "ds"
   ]
  },
  {
   "cell_type": "code",
   "execution_count": null,
   "id": "divine-abraham",
   "metadata": {},
   "outputs": [],
   "source": [
    "run_dir = base_dir / \"runs/runoff_step10/\"\n",
    "cfg = Config(run_dir / \"config.yml\")\n",
    "cfg"
   ]
  },
  {
   "cell_type": "code",
   "execution_count": null,
   "id": "alike-characteristic",
   "metadata": {},
   "outputs": [],
   "source": [
    "xr_path = sorted(list(run_dir.glob(\"*.nc\")))[-1]\n",
    "preds = xr.open_dataset(xr_path).isel(horizon=0).drop(\"horizon\")\n",
    "preds"
   ]
  },
  {
   "cell_type": "code",
   "execution_count": null,
   "id": "fiscal-wound",
   "metadata": {},
   "outputs": [],
   "source": [
    "for i in range(5):\n",
    "    f, ax = plt.subplots(figsize=(12, 4))\n",
    "    pixel = np.random.choice(preds.pixel.values)\n",
    "    preds.sel(time=\"2007\", pixel=pixel).to_dataframe().plot(ax=ax)"
   ]
  },
  {
   "cell_type": "markdown",
   "id": "worst-ukraine",
   "metadata": {},
   "source": [
    "# Test specific epoch"
   ]
  },
  {
   "cell_type": "code",
   "execution_count": null,
   "id": "laughing-exclusive",
   "metadata": {},
   "outputs": [],
   "source": [
    "# # sorted(list(run_dir.glob(\"*.pt\")))\n",
    "# cfg._cfg[\"run_dir\"] = run_dir\n",
    "# cfg._cfg[\"device\"] = \"cpu\"\n",
    "# cfg._cfg[\"num_workers\"] = 4\n",
    "# tester = Tester(cfg, ds)"
   ]
  },
  {
   "cell_type": "code",
   "execution_count": null,
   "id": "incorrect-orleans",
   "metadata": {},
   "outputs": [],
   "source": [
    "# tester.run_test(epoch=5)"
   ]
  },
  {
   "cell_type": "code",
   "execution_count": null,
   "id": "temporal-pepper",
   "metadata": {},
   "outputs": [],
   "source": []
  }
 ],
 "metadata": {
  "kernelspec": {
   "display_name": "Python 3",
   "language": "python",
   "name": "python3"
  },
  "language_info": {
   "codemirror_mode": {
    "name": "ipython",
    "version": 3
   },
   "file_extension": ".py",
   "mimetype": "text/x-python",
   "name": "python",
   "nbconvert_exporter": "python",
   "pygments_lexer": "ipython3",
   "version": "3.8.5"
  }
 },
 "nbformat": 4,
 "nbformat_minor": 5
}
