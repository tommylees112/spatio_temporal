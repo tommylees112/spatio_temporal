{
 "cells": [
  {
   "cell_type": "markdown",
   "id": "editorial-confirmation",
   "metadata": {},
   "source": [
    "# MPI Jena Weather Dataset"
   ]
  },
  {
   "cell_type": "code",
   "execution_count": 1,
   "id": "brilliant-sunday",
   "metadata": {},
   "outputs": [],
   "source": [
    "import xarray as xr\n",
    "import pandas as pd\n",
    "import numpy as np\n",
    "from pathlib import Path\n",
    "import pickle\n",
    "import seaborn as sns\n",
    "import matplotlib.pyplot as plt\n",
    "\n",
    "base_dir = Path(\".\").absolute().parents[0]\n",
    "import sys\n",
    "\n",
    "if sys.path[0] != base_dir.as_posix():\n",
    "    sys.path = [base_dir.as_posix()] + sys.path"
   ]
  },
  {
   "cell_type": "code",
   "execution_count": 2,
   "id": "mental-plenty",
   "metadata": {},
   "outputs": [],
   "source": [
    "from spatio_temporal.config import Config\n",
    "from spatio_temporal.training.trainer import Trainer\n",
    "from spatio_temporal.training.tester import Tester\n",
    "from tests.utils import (\n",
    "    create_linear_ds,\n",
    "    _test_sklearn_model,\n",
    "    download_test_jena_data,\n",
    "    load_test_jena_data_as_dataset\n",
    ")\n",
    "from spatio_temporal.training.eval_utils import _plot_loss_curves, save_losses"
   ]
  },
  {
   "cell_type": "markdown",
   "id": "international-method",
   "metadata": {},
   "source": [
    "# Load in Data"
   ]
  },
  {
   "cell_type": "code",
   "execution_count": 3,
   "id": "demonstrated-gross",
   "metadata": {},
   "outputs": [],
   "source": [
    "if not (base_dir / \"data/jena_climate_2009_2016.csv\").exists():\n",
    "    download_test_jena_data(base_dir / \"data\")"
   ]
  },
  {
   "cell_type": "code",
   "execution_count": 4,
   "id": "connected-event",
   "metadata": {},
   "outputs": [],
   "source": [
    "ds = load_test_jena_data_as_dataset(base_dir / \"data\")"
   ]
  },
  {
   "cell_type": "markdown",
   "id": "exact-picnic",
   "metadata": {},
   "source": [
    "# Load in config file"
   ]
  },
  {
   "cell_type": "code",
   "execution_count": 5,
   "id": "incident-infrared",
   "metadata": {},
   "outputs": [
    {
     "data": {
      "text/plain": [
       "{'autoregressive': True,\n",
       " 'batch_size': 30,\n",
       " 'data_dir': PosixPath('data'),\n",
       " 'experiment_name': 'jena',\n",
       " 'hidden_size': '10',\n",
       " 'horizon': 2,\n",
       " 'input_variables': ['p (mbar)', 'rh (%)'],\n",
       " 'learning_rate': 0.01,\n",
       " 'loss': 'MSE',\n",
       " 'n_epochs': 10,\n",
       " 'num_workers': 4,\n",
       " 'optimizer': 'AdamW',\n",
       " 'pixel_dims': ['pixel'],\n",
       " 'run_dir': None,\n",
       " 'scheduler': 'cycle',\n",
       " 'seed': 1234,\n",
       " 'seq_length': 48,\n",
       " 'target_variable': 'T (degC)',\n",
       " 'test_end_date': Timestamp('2009-07-06 00:00:00'),\n",
       " 'test_start_date': Timestamp('2009-01-06 00:00:00'),\n",
       " 'train_end_date': Timestamp('2009-01-05 00:00:00'),\n",
       " 'train_start_date': Timestamp('2009-01-02 00:00:00'),\n",
       " 'validation_end_date': Timestamp('2009-01-02 00:00:00'),\n",
       " 'validation_start_date': Timestamp('2009-01-01 00:00:00')}"
      ]
     },
     "execution_count": 5,
     "metadata": {},
     "output_type": "execute_result"
    }
   ],
   "source": [
    "cfg = Config(base_dir / \"tests/testconfigs/jena.yml\")\n",
    "cfg._cfg[\"n_epochs\"] = 10\n",
    "cfg._cfg[\"autoregressive\"] = True\n",
    "cfg._cfg[\"horizon\"] = 2\n",
    "cfg._cfg[\"seq_length\"] = 48\n",
    "cfg._cfg[\"scheduler\"] = \"cycle\"\n",
    "cfg._cfg[\"optimizer\"] = \"AdamW\"\n",
    "cfg._cfg[\"hidden_size\"] = 10\n",
    "\n",
    "#  NOTE: this means we are testing on the train period!\n",
    "# Swap test, train periods\n",
    "# test_start = cfg._cfg[\"test_start_date\"]\n",
    "# test_end = cfg._cfg[\"test_end_date\"]\n",
    "# cfg._cfg[\"test_start_date\"] = cfg._cfg[\"train_start_date\"]\n",
    "# cfg._cfg[\"test_end_date\"] = cfg._cfg[\"train_end_date\"]\n",
    "\n",
    "# cfg._cfg[\"train_start_date\"] = test_start\n",
    "# cfg._cfg[\"train_end_date\"] = test_end\n",
    "cfg"
   ]
  },
  {
   "cell_type": "markdown",
   "id": "unavailable-bouquet",
   "metadata": {},
   "source": [
    "### Interesting that the train/test period are so different"
   ]
  },
  {
   "cell_type": "code",
   "execution_count": 6,
   "id": "complex-france",
   "metadata": {},
   "outputs": [
    {
     "data": {
      "text/plain": [
       "<matplotlib.legend.Legend at 0x7fdff8cbdd00>"
      ]
     },
     "execution_count": 6,
     "metadata": {},
     "output_type": "execute_result"
    },
    {
     "data": {
      "image/png": "[encoded data removed]",
      "text/plain": [
       "<Figure size 432x288 with 1 Axes>"
      ]
     },
     "metadata": {
      "needs_background": "light"
     },
     "output_type": "display_data"
    }
   ],
   "source": [
    "test = ds.isel(pixel=0).sel(time=slice(cfg._cfg[\"test_start_date\"], cfg._cfg[\"test_end_date\"]))\n",
    "train = ds.isel(pixel=0).sel(time=slice(cfg._cfg[\"train_start_date\"], cfg._cfg[\"train_end_date\"]))\n",
    "\n",
    "sns.kdeplot(train[cfg.target_variable], label=\"Train\")\n",
    "sns.kdeplot(test[cfg.target_variable], label=\"Test\")\n",
    "plt.legend()"
   ]
  },
  {
   "cell_type": "markdown",
   "id": "missing-session",
   "metadata": {},
   "source": [
    "# Create trainer"
   ]
  },
  {
   "cell_type": "code",
   "execution_count": 7,
   "id": "polished-maker",
   "metadata": {},
   "outputs": [
    {
     "name": "stderr",
     "output_type": "stream",
     "text": [
      "Loading Data: 100%|██████████| 1/1 [00:00<00:00, 141.00it/s]\n",
      "Loading Data: 100%|██████████| 1/1 [00:00<00:00, 372.99it/s]\n"
     ]
    }
   ],
   "source": [
    "trainer = Trainer(cfg, ds)"
   ]
  },
  {
   "cell_type": "code",
   "execution_count": null,
   "id": "accredited-claim",
   "metadata": {},
   "outputs": [
    {
     "name": "stderr",
     "output_type": "stream",
     "text": [
      "Training Epoch 1:   0%|          | 0/13 [00:00<?, ?it/s]"
     ]
    }
   ],
   "source": [
    "losses = trainer.train_and_validate()"
   ]
  },
  {
   "cell_type": "markdown",
   "id": "social-hazard",
   "metadata": {},
   "source": [
    "# Check losses of trained model"
   ]
  },
  {
   "cell_type": "code",
   "execution_count": null,
   "id": "approximate-shower",
   "metadata": {},
   "outputs": [],
   "source": [
    "train_losses, valid_losses = losses\n",
    "f, ax = plt.subplots()\n",
    "ax.plot(train_losses, label=\"Train\", color=\"C0\", marker=\"x\")\n",
    "ax.plot(valid_losses, label=\"Validation\", color=\"C1\", marker=\"x\")\n",
    "ax.set_xlabel(\"Epoch\")\n",
    "ax.set_ylabel(\"Loss\")\n",
    "plt.legend()"
   ]
  },
  {
   "cell_type": "markdown",
   "id": "tired-point",
   "metadata": {},
   "source": [
    "# Run Evaluation"
   ]
  },
  {
   "cell_type": "code",
   "execution_count": null,
   "id": "canadian-ceiling",
   "metadata": {},
   "outputs": [],
   "source": [
    "# ds.sel(time=slice(cfg.test_start_date, cfg.test_end_date))\n",
    "print(ds.time.min())\n",
    "print(ds.time.max())"
   ]
  },
  {
   "cell_type": "code",
   "execution_count": null,
   "id": "spatial-relaxation",
   "metadata": {},
   "outputs": [],
   "source": [
    "tester = Tester(cfg, ds)"
   ]
  },
  {
   "cell_type": "code",
   "execution_count": null,
   "id": "official-strip",
   "metadata": {},
   "outputs": [],
   "source": [
    "_ = tester.run_test(unnormalize=False)"
   ]
  },
  {
   "cell_type": "markdown",
   "id": "lined-vector",
   "metadata": {},
   "source": [
    "### check normalisations"
   ]
  },
  {
   "cell_type": "code",
   "execution_count": null,
   "id": "retired-table",
   "metadata": {},
   "outputs": [],
   "source": [
    "true_mean = ds.sel(time=slice(cfg.train_start_date, cfg.train_end_date))[cfg.input_variables + [cfg.target_variable]].mean().to_array().values\n",
    "calc_mean = trainer.train_dl.dataset.normalizer.mean_.to_array().values\n",
    "\n",
    "assert np.allclose(true_mean.flatten(), calc_mean.flatten())"
   ]
  },
  {
   "cell_type": "markdown",
   "id": "commercial-spain",
   "metadata": {},
   "source": [
    "# The output forecasts! "
   ]
  },
  {
   "cell_type": "code",
   "execution_count": null,
   "id": "eligible-defendant",
   "metadata": {},
   "outputs": [],
   "source": [
    "xr_path = sorted(list(cfg.run_dir.glob(\"*.nc\")))[-1]\n",
    "preds = xr.open_dataset(xr_path).drop([\"horizon\"])\n",
    "preds"
   ]
  },
  {
   "cell_type": "markdown",
   "id": "detected-scientist",
   "metadata": {},
   "source": [
    "- there seems to be a normalisation problem\n",
    "- Missing the scale of the observations"
   ]
  },
  {
   "cell_type": "code",
   "execution_count": null,
   "id": "moral-memphis",
   "metadata": {},
   "outputs": [],
   "source": [
    "# .sel(time=slice(\"2015-01-01\", \"2015-02-01\"))\n",
    "f, ax = plt.subplots(figsize=(12, 4))\n",
    "preds.isel(time=slice(0, 100)).to_dataframe().plot(ax=ax)\n",
    "\n",
    "# artificial improvement\n",
    "# ((ds.isel(time=slice(0, 100)).to_dataframe()[\"sim\"] ** 6)).plot(ax=ax)\n",
    "\n",
    "plt.xticks(rotation=70);\n",
    "sns.despine()"
   ]
  },
  {
   "cell_type": "code",
   "execution_count": null,
   "id": "handed-water",
   "metadata": {},
   "outputs": [],
   "source": [
    "# .sel(time=slice(\"2015-01-01\", \"2015-02-01\"))\n",
    "f, ax = plt.subplots(figsize=(12, 4))\n",
    "pixel = np.random.choice(preds.pixel.values)\n",
    "preds.sel(pixel=pixel).to_dataframe().plot(ax=ax)\n",
    "ax.set_title(pixel)\n",
    "plt.xticks(rotation=70);\n",
    "sns.despine()"
   ]
  },
  {
   "cell_type": "code",
   "execution_count": null,
   "id": "middle-spectacular",
   "metadata": {},
   "outputs": [],
   "source": []
  }
 ],
 "metadata": {
  "kernelspec": {
   "display_name": "Python 3",
   "language": "python",
   "name": "python3"
  },
  "language_info": {
   "codemirror_mode": {
    "name": "ipython",
    "version": 3
   },
   "file_extension": ".py",
   "mimetype": "text/x-python",
   "name": "python",
   "nbconvert_exporter": "python",
   "pygments_lexer": "ipython3",
   "version": "3.8.2"
  }
 },
 "nbformat": 4,
 "nbformat_minor": 5
}
