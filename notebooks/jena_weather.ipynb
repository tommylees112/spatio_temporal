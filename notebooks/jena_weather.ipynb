{
 "cells": [
  {
   "cell_type": "markdown",
   "id": "distinguished-policy",
   "metadata": {},
   "source": [
    "# MPI Jena Weather Dataset"
   ]
  },
  {
   "cell_type": "code",
   "execution_count": 1,
   "id": "painful-north",
   "metadata": {},
   "outputs": [],
   "source": [
    "import xarray as xr\n",
    "import pandas as pd\n",
    "import numpy as np\n",
    "from pathlib import Path\n",
    "import pickle\n",
    "import seaborn as sns\n",
    "import matplotlib.pyplot as plt\n",
    "\n",
    "base_dir = Path(\".\").absolute().parents[0]\n",
    "import sys\n",
    "\n",
    "if sys.path[0] != base_dir.as_posix():\n",
    "    sys.path = [base_dir.as_posix()] + sys.path"
   ]
  },
  {
   "cell_type": "code",
   "execution_count": 2,
   "id": "developmental-hearts",
   "metadata": {},
   "outputs": [],
   "source": [
    "from spatio_temporal.config import Config\n",
    "from spatio_temporal.training.trainer import Trainer\n",
    "from spatio_temporal.training.tester import Tester\n",
    "from tests.utils import (\n",
    "    create_linear_ds,\n",
    "    _test_sklearn_model,\n",
    "    download_test_jena_data,\n",
    "    load_test_jena_data_as_dataset\n",
    ")\n",
    "from spatio_temporal.training.eval_utils import _plot_loss_curves, save_losses"
   ]
  },
  {
   "cell_type": "markdown",
   "id": "activated-swaziland",
   "metadata": {},
   "source": [
    "# Load in Data"
   ]
  },
  {
   "cell_type": "code",
   "execution_count": 3,
   "id": "surprising-insulin",
   "metadata": {},
   "outputs": [],
   "source": [
    "if not (base_dir / \"data/jena_climate_2009_2016.csv\").exists():\n",
    "    download_test_jena_data(base_dir / \"data\")"
   ]
  },
  {
   "cell_type": "code",
   "execution_count": 4,
   "id": "operating-northern",
   "metadata": {},
   "outputs": [],
   "source": [
    "ds = load_test_jena_data_as_dataset(base_dir / \"data\")"
   ]
  },
  {
   "cell_type": "markdown",
   "id": "informal-campbell",
   "metadata": {},
   "source": [
    "# Load in config file"
   ]
  },
  {
   "cell_type": "code",
   "execution_count": 5,
   "id": "persistent-trinidad",
   "metadata": {},
   "outputs": [
    {
     "data": {
      "text/plain": [
       "{'autoregressive': True,\n",
       " 'batch_size': 30,\n",
       " 'data_dir': PosixPath('data'),\n",
       " 'experiment_name': 'jena',\n",
       " 'hidden_size': 64,\n",
       " 'horizon': 2,\n",
       " 'input_variables': ['p (mbar)', 'rh (%)'],\n",
       " 'learning_rate': 0.01,\n",
       " 'loss': 'MSE',\n",
       " 'n_epochs': 10,\n",
       " 'num_workers': 4,\n",
       " 'optimizer': 'Adam',\n",
       " 'pixel_dims': ['pixel'],\n",
       " 'run_dir': None,\n",
       " 'scheduler': 'cycle',\n",
       " 'seed': 1234,\n",
       " 'seq_length': 48,\n",
       " 'target_variable': 'T (degC)',\n",
       " 'test_end_date': Timestamp('2009-07-06 00:00:00'),\n",
       " 'test_start_date': Timestamp('2009-01-06 00:00:00'),\n",
       " 'train_end_date': Timestamp('2009-01-05 00:00:00'),\n",
       " 'train_start_date': Timestamp('2009-01-02 00:00:00'),\n",
       " 'validation_end_date': Timestamp('2009-01-02 00:00:00'),\n",
       " 'validation_start_date': Timestamp('2009-01-01 00:00:00')}"
      ]
     },
     "execution_count": 5,
     "metadata": {},
     "output_type": "execute_result"
    }
   ],
   "source": [
    "cfg = Config(base_dir / \"tests/testconfigs/jena.yml\")\n",
    "cfg._cfg[\"n_epochs\"] = 10\n",
    "cfg._cfg[\"autoregressive\"] = True\n",
    "cfg._cfg[\"horizon\"] = 2\n",
    "cfg._cfg[\"seq_length\"] = 48\n",
    "cfg._cfg[\"scheduler\"] = \"cycle\"\n",
    "\n",
    "#  NOTE: this means we are testing on the train period!\n",
    "# Swap test, train periods\n",
    "# test_start = cfg._cfg[\"test_start_date\"]\n",
    "# test_end = cfg._cfg[\"test_end_date\"]\n",
    "# cfg._cfg[\"test_start_date\"] = cfg._cfg[\"train_start_date\"]\n",
    "# cfg._cfg[\"test_end_date\"] = cfg._cfg[\"train_end_date\"]\n",
    "\n",
    "# cfg._cfg[\"train_start_date\"] = test_start\n",
    "# cfg._cfg[\"train_end_date\"] = test_end\n",
    "cfg"
   ]
  },
  {
   "cell_type": "markdown",
   "id": "infectious-squad",
   "metadata": {},
   "source": [
    "### Interesting that the train/test period are so different"
   ]
  },
  {
   "cell_type": "code",
   "execution_count": 28,
   "id": "recreational-klein",
   "metadata": {},
   "outputs": [
    {
     "data": {
      "text/plain": [
       "<matplotlib.legend.Legend at 0x7f9f854bee50>"
      ]
     },
     "execution_count": 28,
     "metadata": {},
     "output_type": "execute_result"
    },
    {
     "data": {
      "image/png": "[encoded data removed]",
      "text/plain": [
       "<Figure size 432x288 with 1 Axes>"
      ]
     },
     "metadata": {
      "needs_background": "light"
     },
     "output_type": "display_data"
    }
   ],
   "source": [
    "test = ds.isel(pixel=0).sel(time=slice(cfg._cfg[\"test_start_date\"], cfg._cfg[\"test_end_date\"]))\n",
    "train = ds.isel(pixel=0).sel(time=slice(cfg._cfg[\"train_start_date\"], cfg._cfg[\"train_end_date\"]))\n",
    "\n",
    "sns.kdeplot(train[cfg.target_variable], label=\"Train\")\n",
    "sns.kdeplot(test[cfg.target_variable], label=\"Test\")\n",
    "plt.legend()"
   ]
  },
  {
   "cell_type": "markdown",
   "id": "august-colonial",
   "metadata": {},
   "source": [
    "# Create trainer"
   ]
  },
  {
   "cell_type": "code",
   "execution_count": 7,
   "id": "protective-likelihood",
   "metadata": {},
   "outputs": [
    {
     "name": "stderr",
     "output_type": "stream",
     "text": [
      "Loading Data: 100%|██████████| 1/1 [00:00<00:00,  1.61it/s]\n",
      "Loading Data: 100%|██████████| 1/1 [00:00<00:00, 605.41it/s]\n"
     ]
    }
   ],
   "source": [
    "trainer = Trainer(cfg, ds)"
   ]
  },
  {
   "cell_type": "code",
   "execution_count": 8,
   "id": "renewable-insulation",
   "metadata": {},
   "outputs": [
    {
     "name": "stderr",
     "output_type": "stream",
     "text": [
      "Training Epoch 1: 100%|██████████| 13/13 [00:01<00:00,  6.52it/s, 1.81 -- LR 4.03e-04]\n",
      "Validation Epoch 1: 100%|██████████| 4/4 [00:01<00:00,  2.49it/s]\n",
      "Training Epoch 2:   0%|          | 0/13 [00:00<?, ?it/s]"
     ]
    },
    {
     "name": "stdout",
     "output_type": "stream",
     "text": [
      "Train Loss: 1.31\n",
      "Valid Loss: 1.98\n"
     ]
    },
    {
     "name": "stderr",
     "output_type": "stream",
     "text": [
      "Training Epoch 2: 100%|██████████| 13/13 [00:01<00:00,  7.27it/s, 0.67 -- LR 4.11e-04]\n",
      "Validation Epoch 2: 100%|██████████| 4/4 [00:01<00:00,  2.65it/s]\n",
      "Training Epoch 3:   0%|          | 0/13 [00:00<?, ?it/s]"
     ]
    },
    {
     "name": "stdout",
     "output_type": "stream",
     "text": [
      "Train Loss: 0.74\n",
      "Valid Loss: 1.53\n"
     ]
    },
    {
     "name": "stderr",
     "output_type": "stream",
     "text": [
      "Training Epoch 3: 100%|██████████| 13/13 [00:01<00:00,  7.36it/s, 0.36 -- LR 4.26e-04]\n",
      "Validation Epoch 3: 100%|██████████| 4/4 [00:01<00:00,  2.56it/s]\n",
      "Training Epoch 4:   0%|          | 0/13 [00:00<?, ?it/s]"
     ]
    },
    {
     "name": "stdout",
     "output_type": "stream",
     "text": [
      "Train Loss: 0.41\n",
      "Valid Loss: 0.91\n"
     ]
    },
    {
     "name": "stderr",
     "output_type": "stream",
     "text": [
      "Training Epoch 4: 100%|██████████| 13/13 [00:01<00:00,  7.41it/s, 0.08 -- LR 4.47e-04]\n",
      "Validation Epoch 4: 100%|██████████| 4/4 [00:01<00:00,  2.53it/s]\n",
      "Training Epoch 5:   0%|          | 0/13 [00:00<?, ?it/s]"
     ]
    },
    {
     "name": "stdout",
     "output_type": "stream",
     "text": [
      "Train Loss: 0.27\n",
      "Valid Loss: 0.68\n"
     ]
    },
    {
     "name": "stderr",
     "output_type": "stream",
     "text": [
      "Training Epoch 5: 100%|██████████| 13/13 [00:01<00:00,  7.23it/s, 0.14 -- LR 4.74e-04]\n",
      "Validation Epoch 5: 100%|██████████| 4/4 [00:01<00:00,  2.55it/s]\n",
      "Training Epoch 6:   0%|          | 0/13 [00:00<?, ?it/s]"
     ]
    },
    {
     "name": "stdout",
     "output_type": "stream",
     "text": [
      "Train Loss: 0.23\n",
      "Valid Loss: 0.53\n"
     ]
    },
    {
     "name": "stderr",
     "output_type": "stream",
     "text": [
      "Training Epoch 6: 100%|██████████| 13/13 [00:01<00:00,  7.36it/s, 0.16 -- LR 5.07e-04]\n",
      "Validation Epoch 6: 100%|██████████| 4/4 [00:01<00:00,  2.55it/s]\n",
      "Training Epoch 7:   0%|          | 0/13 [00:00<?, ?it/s]"
     ]
    },
    {
     "name": "stdout",
     "output_type": "stream",
     "text": [
      "Train Loss: 0.21\n",
      "Valid Loss: 0.28\n"
     ]
    },
    {
     "name": "stderr",
     "output_type": "stream",
     "text": [
      "Training Epoch 7: 100%|██████████| 13/13 [00:01<00:00,  7.28it/s, 0.09 -- LR 5.46e-04]\n",
      "Validation Epoch 7: 100%|██████████| 4/4 [00:01<00:00,  2.60it/s]\n",
      "Training Epoch 8:   0%|          | 0/13 [00:00<?, ?it/s]"
     ]
    },
    {
     "name": "stdout",
     "output_type": "stream",
     "text": [
      "Train Loss: 0.15\n",
      "Valid Loss: 0.24\n"
     ]
    },
    {
     "name": "stderr",
     "output_type": "stream",
     "text": [
      "Training Epoch 8: 100%|██████████| 13/13 [00:01<00:00,  7.14it/s, 0.20 -- LR 5.90e-04]\n",
      "Validation Epoch 8: 100%|██████████| 4/4 [00:01<00:00,  2.64it/s]\n",
      "Training Epoch 9:   0%|          | 0/13 [00:00<?, ?it/s]"
     ]
    },
    {
     "name": "stdout",
     "output_type": "stream",
     "text": [
      "Train Loss: 0.14\n",
      "Valid Loss: 0.24\n"
     ]
    },
    {
     "name": "stderr",
     "output_type": "stream",
     "text": [
      "Training Epoch 9: 100%|██████████| 13/13 [00:01<00:00,  7.50it/s, 0.09 -- LR 6.41e-04]\n",
      "Validation Epoch 9: 100%|██████████| 4/4 [00:01<00:00,  2.64it/s]\n",
      "Training Epoch 10:   0%|          | 0/13 [00:00<?, ?it/s]"
     ]
    },
    {
     "name": "stdout",
     "output_type": "stream",
     "text": [
      "Train Loss: 0.10\n",
      "Valid Loss: 0.20\n"
     ]
    },
    {
     "name": "stderr",
     "output_type": "stream",
     "text": [
      "Training Epoch 10: 100%|██████████| 13/13 [00:01<00:00,  7.44it/s, 0.16 -- LR 6.98e-04]\n",
      "Validation Epoch 10: 100%|██████████| 4/4 [00:01<00:00,  2.58it/s]"
     ]
    },
    {
     "name": "stdout",
     "output_type": "stream",
     "text": [
      "Train Loss: 0.11\n",
      "Valid Loss: 0.21\n"
     ]
    },
    {
     "name": "stderr",
     "output_type": "stream",
     "text": [
      "\n"
     ]
    }
   ],
   "source": [
    "losses = trainer.train_and_validate()"
   ]
  },
  {
   "cell_type": "markdown",
   "id": "running-response",
   "metadata": {},
   "source": [
    "# Check losses of trained model"
   ]
  },
  {
   "cell_type": "code",
   "execution_count": 9,
   "id": "innocent-biodiversity",
   "metadata": {},
   "outputs": [
    {
     "data": {
      "text/plain": [
       "<matplotlib.legend.Legend at 0x7f9f8567a580>"
      ]
     },
     "execution_count": 9,
     "metadata": {},
     "output_type": "execute_result"
    },
    {
     "data": {
      "image/png": "[encoded data removed]",
      "text/plain": [
       "<Figure size 432x288 with 1 Axes>"
      ]
     },
     "metadata": {
      "needs_background": "light"
     },
     "output_type": "display_data"
    }
   ],
   "source": [
    "train_losses, valid_losses = losses\n",
    "f, ax = plt.subplots()\n",
    "ax.plot(train_losses, label=\"Train\", color=\"C0\", marker=\"x\")\n",
    "ax.plot(valid_losses, label=\"Validation\", color=\"C1\", marker=\"x\")\n",
    "ax.set_xlabel(\"Epoch\")\n",
    "ax.set_ylabel(\"Loss\")\n",
    "plt.legend()"
   ]
  },
  {
   "cell_type": "markdown",
   "id": "applied-organization",
   "metadata": {},
   "source": [
    "# Run Evaluation"
   ]
  },
  {
   "cell_type": "code",
   "execution_count": 10,
   "id": "statistical-compromise",
   "metadata": {},
   "outputs": [
    {
     "name": "stdout",
     "output_type": "stream",
     "text": [
      "<xarray.DataArray 'time' ()>\n",
      "array('2009-01-01T00:10:00.000000000', dtype='datetime64[ns]')\n",
      "<xarray.DataArray 'time' ()>\n",
      "array('2009-01-07T22:40:00.000000000', dtype='datetime64[ns]')\n"
     ]
    }
   ],
   "source": [
    "# ds.sel(time=slice(cfg.test_start_date, cfg.test_end_date))\n",
    "print(ds.time.min())\n",
    "print(ds.time.max())"
   ]
  },
  {
   "cell_type": "code",
   "execution_count": 11,
   "id": "postal-holiday",
   "metadata": {},
   "outputs": [
    {
     "name": "stderr",
     "output_type": "stream",
     "text": [
      "Loading Data: 100%|██████████| 1/1 [00:00<00:00, 261.49it/s]\n"
     ]
    }
   ],
   "source": [
    "tester = Tester(cfg, ds)"
   ]
  },
  {
   "cell_type": "code",
   "execution_count": 12,
   "id": "civilian-above",
   "metadata": {},
   "outputs": [
    {
     "name": "stderr",
     "output_type": "stream",
     "text": [
      "Test set Forward Pass: 100%|██████████| 8/8 [00:01<00:00,  5.12it/s]\n"
     ]
    },
    {
     "data": {
      "image/png": "[encoded data removed]",
      "text/plain": [
       "<Figure size 432x288 with 1 Axes>"
      ]
     },
     "metadata": {
      "needs_background": "light"
     },
     "output_type": "display_data"
    }
   ],
   "source": [
    "_ = tester.run_test(unnormalize=False)"
   ]
  },
  {
   "cell_type": "markdown",
   "id": "developed-ottawa",
   "metadata": {},
   "source": [
    "### check normalisations"
   ]
  },
  {
   "cell_type": "code",
   "execution_count": 13,
   "id": "amateur-effort",
   "metadata": {},
   "outputs": [],
   "source": [
    "true_mean = ds.sel(time=slice(cfg.train_start_date, cfg.train_end_date))[cfg.input_variables + [cfg.target_variable]].mean().to_array().values\n",
    "calc_mean = trainer.train_dl.dataset.normalizer.mean_.to_array().values\n",
    "\n",
    "assert np.allclose(true_mean.flatten(), calc_mean.flatten())"
   ]
  },
  {
   "cell_type": "code",
   "execution_count": null,
   "id": "julian-fifth",
   "metadata": {},
   "outputs": [],
   "source": []
  },
  {
   "cell_type": "markdown",
   "id": "motivated-therapy",
   "metadata": {},
   "source": [
    "# The output forecasts! "
   ]
  },
  {
   "cell_type": "code",
   "execution_count": 14,
   "id": "personalized-response",
   "metadata": {},
   "outputs": [
    {
     "data": {
      "text/html": [
       "<div><svg style=\"position: absolute; width: 0; height: 0; overflow: hidden\">\n",
       "<defs>\n",
       "<symbol id=\"icon-database\" viewBox=\"0 0 32 32\">\n",
       "<path d=\"M16 0c-8.837 0-16 2.239-16 5v4c0 2.761 7.163 5 16 5s16-2.239 16-5v-4c0-2.761-7.163-5-16-5z\"></path>\n",
       "<path d=\"M16 17c-8.837 0-16-2.239-16-5v6c0 2.761 7.163 5 16 5s16-2.239 16-5v-6c0 2.761-7.163 5-16 5z\"></path>\n",
       "<path d=\"M16 26c-8.837 0-16-2.239-16-5v6c0 2.761 7.163 5 16 5s16-2.239 16-5v-6c0 2.761-7.163 5-16 5z\"></path>\n",
       "</symbol>\n",
       "<symbol id=\"icon-file-text2\" viewBox=\"0 0 32 32\">\n",
       "<path d=\"M28.681 7.159c-0.694-0.947-1.662-2.053-2.724-3.116s-2.169-2.030-3.116-2.724c-1.612-1.182-2.393-1.319-2.841-1.319h-15.5c-1.378 0-2.5 1.121-2.5 2.5v27c0 1.378 1.122 2.5 2.5 2.5h23c1.378 0 2.5-1.122 2.5-2.5v-19.5c0-0.448-0.137-1.23-1.319-2.841zM24.543 5.457c0.959 0.959 1.712 1.825 2.268 2.543h-4.811v-4.811c0.718 0.556 1.584 1.309 2.543 2.268zM28 29.5c0 0.271-0.229 0.5-0.5 0.5h-23c-0.271 0-0.5-0.229-0.5-0.5v-27c0-0.271 0.229-0.5 0.5-0.5 0 0 15.499-0 15.5 0v7c0 0.552 0.448 1 1 1h7v19.5z\"></path>\n",
       "<path d=\"M23 26h-14c-0.552 0-1-0.448-1-1s0.448-1 1-1h14c0.552 0 1 0.448 1 1s-0.448 1-1 1z\"></path>\n",
       "<path d=\"M23 22h-14c-0.552 0-1-0.448-1-1s0.448-1 1-1h14c0.552 0 1 0.448 1 1s-0.448 1-1 1z\"></path>\n",
       "<path d=\"M23 18h-14c-0.552 0-1-0.448-1-1s0.448-1 1-1h14c0.552 0 1 0.448 1 1s-0.448 1-1 1z\"></path>\n",
       "</symbol>\n",
       "</defs>\n",
       "</svg>\n",
       "<style>/* CSS stylesheet for displaying xarray objects in jupyterlab.\n",
       " *\n",
       " */\n",
       "\n",
       ":root {\n",
       "  --xr-font-color0: var(--jp-content-font-color0, rgba(0, 0, 0, 1));\n",
       "  --xr-font-color2: var(--jp-content-font-color2, rgba(0, 0, 0, 0.54));\n",
       "  --xr-font-color3: var(--jp-content-font-color3, rgba(0, 0, 0, 0.38));\n",
       "  --xr-border-color: var(--jp-border-color2, #e0e0e0);\n",
       "  --xr-disabled-color: var(--jp-layout-color3, #bdbdbd);\n",
       "  --xr-background-color: var(--jp-layout-color0, white);\n",
       "  --xr-background-color-row-even: var(--jp-layout-color1, white);\n",
       "  --xr-background-color-row-odd: var(--jp-layout-color2, #eeeeee);\n",
       "}\n",
       "\n",
       "html[theme=dark],\n",
       "body.vscode-dark {\n",
       "  --xr-font-color0: rgba(255, 255, 255, 1);\n",
       "  --xr-font-color2: rgba(255, 255, 255, 0.54);\n",
       "  --xr-font-color3: rgba(255, 255, 255, 0.38);\n",
       "  --xr-border-color: #1F1F1F;\n",
       "  --xr-disabled-color: #515151;\n",
       "  --xr-background-color: #111111;\n",
       "  --xr-background-color-row-even: #111111;\n",
       "  --xr-background-color-row-odd: #313131;\n",
       "}\n",
       "\n",
       ".xr-wrap {\n",
       "  display: block;\n",
       "  min-width: 300px;\n",
       "  max-width: 700px;\n",
       "}\n",
       "\n",
       ".xr-text-repr-fallback {\n",
       "  /* fallback to plain text repr when CSS is not injected (untrusted notebook) */\n",
       "  display: none;\n",
       "}\n",
       "\n",
       ".xr-header {\n",
       "  padding-top: 6px;\n",
       "  padding-bottom: 6px;\n",
       "  margin-bottom: 4px;\n",
       "  border-bottom: solid 1px var(--xr-border-color);\n",
       "}\n",
       "\n",
       ".xr-header > div,\n",
       ".xr-header > ul {\n",
       "  display: inline;\n",
       "  margin-top: 0;\n",
       "  margin-bottom: 0;\n",
       "}\n",
       "\n",
       ".xr-obj-type,\n",
       ".xr-array-name {\n",
       "  margin-left: 2px;\n",
       "  margin-right: 10px;\n",
       "}\n",
       "\n",
       ".xr-obj-type {\n",
       "  color: var(--xr-font-color2);\n",
       "}\n",
       "\n",
       ".xr-sections {\n",
       "  padding-left: 0 !important;\n",
       "  display: grid;\n",
       "  grid-template-columns: 150px auto auto 1fr 20px 20px;\n",
       "}\n",
       "\n",
       ".xr-section-item {\n",
       "  display: contents;\n",
       "}\n",
       "\n",
       ".xr-section-item input {\n",
       "  display: none;\n",
       "}\n",
       "\n",
       ".xr-section-item input + label {\n",
       "  color: var(--xr-disabled-color);\n",
       "}\n",
       "\n",
       ".xr-section-item input:enabled + label {\n",
       "  cursor: pointer;\n",
       "  color: var(--xr-font-color2);\n",
       "}\n",
       "\n",
       ".xr-section-item input:enabled + label:hover {\n",
       "  color: var(--xr-font-color0);\n",
       "}\n",
       "\n",
       ".xr-section-summary {\n",
       "  grid-column: 1;\n",
       "  color: var(--xr-font-color2);\n",
       "  font-weight: 500;\n",
       "}\n",
       "\n",
       ".xr-section-summary > span {\n",
       "  display: inline-block;\n",
       "  padding-left: 0.5em;\n",
       "}\n",
       "\n",
       ".xr-section-summary-in:disabled + label {\n",
       "  color: var(--xr-font-color2);\n",
       "}\n",
       "\n",
       ".xr-section-summary-in + label:before {\n",
       "  display: inline-block;\n",
       "  content: '►';\n",
       "  font-size: 11px;\n",
       "  width: 15px;\n",
       "  text-align: center;\n",
       "}\n",
       "\n",
       ".xr-section-summary-in:disabled + label:before {\n",
       "  color: var(--xr-disabled-color);\n",
       "}\n",
       "\n",
       ".xr-section-summary-in:checked + label:before {\n",
       "  content: '▼';\n",
       "}\n",
       "\n",
       ".xr-section-summary-in:checked + label > span {\n",
       "  display: none;\n",
       "}\n",
       "\n",
       ".xr-section-summary,\n",
       ".xr-section-inline-details {\n",
       "  padding-top: 4px;\n",
       "  padding-bottom: 4px;\n",
       "}\n",
       "\n",
       ".xr-section-inline-details {\n",
       "  grid-column: 2 / -1;\n",
       "}\n",
       "\n",
       ".xr-section-details {\n",
       "  display: none;\n",
       "  grid-column: 1 / -1;\n",
       "  margin-bottom: 5px;\n",
       "}\n",
       "\n",
       ".xr-section-summary-in:checked ~ .xr-section-details {\n",
       "  display: contents;\n",
       "}\n",
       "\n",
       ".xr-array-wrap {\n",
       "  grid-column: 1 / -1;\n",
       "  display: grid;\n",
       "  grid-template-columns: 20px auto;\n",
       "}\n",
       "\n",
       ".xr-array-wrap > label {\n",
       "  grid-column: 1;\n",
       "  vertical-align: top;\n",
       "}\n",
       "\n",
       ".xr-preview {\n",
       "  color: var(--xr-font-color3);\n",
       "}\n",
       "\n",
       ".xr-array-preview,\n",
       ".xr-array-data {\n",
       "  padding: 0 5px !important;\n",
       "  grid-column: 2;\n",
       "}\n",
       "\n",
       ".xr-array-data,\n",
       ".xr-array-in:checked ~ .xr-array-preview {\n",
       "  display: none;\n",
       "}\n",
       "\n",
       ".xr-array-in:checked ~ .xr-array-data,\n",
       ".xr-array-preview {\n",
       "  display: inline-block;\n",
       "}\n",
       "\n",
       ".xr-dim-list {\n",
       "  display: inline-block !important;\n",
       "  list-style: none;\n",
       "  padding: 0 !important;\n",
       "  margin: 0;\n",
       "}\n",
       "\n",
       ".xr-dim-list li {\n",
       "  display: inline-block;\n",
       "  padding: 0;\n",
       "  margin: 0;\n",
       "}\n",
       "\n",
       ".xr-dim-list:before {\n",
       "  content: '(';\n",
       "}\n",
       "\n",
       ".xr-dim-list:after {\n",
       "  content: ')';\n",
       "}\n",
       "\n",
       ".xr-dim-list li:not(:last-child):after {\n",
       "  content: ',';\n",
       "  padding-right: 5px;\n",
       "}\n",
       "\n",
       ".xr-has-index {\n",
       "  font-weight: bold;\n",
       "}\n",
       "\n",
       ".xr-var-list,\n",
       ".xr-var-item {\n",
       "  display: contents;\n",
       "}\n",
       "\n",
       ".xr-var-item > div,\n",
       ".xr-var-item label,\n",
       ".xr-var-item > .xr-var-name span {\n",
       "  background-color: var(--xr-background-color-row-even);\n",
       "  margin-bottom: 0;\n",
       "}\n",
       "\n",
       ".xr-var-item > .xr-var-name:hover span {\n",
       "  padding-right: 5px;\n",
       "}\n",
       "\n",
       ".xr-var-list > li:nth-child(odd) > div,\n",
       ".xr-var-list > li:nth-child(odd) > label,\n",
       ".xr-var-list > li:nth-child(odd) > .xr-var-name span {\n",
       "  background-color: var(--xr-background-color-row-odd);\n",
       "}\n",
       "\n",
       ".xr-var-name {\n",
       "  grid-column: 1;\n",
       "}\n",
       "\n",
       ".xr-var-dims {\n",
       "  grid-column: 2;\n",
       "}\n",
       "\n",
       ".xr-var-dtype {\n",
       "  grid-column: 3;\n",
       "  text-align: right;\n",
       "  color: var(--xr-font-color2);\n",
       "}\n",
       "\n",
       ".xr-var-preview {\n",
       "  grid-column: 4;\n",
       "}\n",
       "\n",
       ".xr-var-name,\n",
       ".xr-var-dims,\n",
       ".xr-var-dtype,\n",
       ".xr-preview,\n",
       ".xr-attrs dt {\n",
       "  white-space: nowrap;\n",
       "  overflow: hidden;\n",
       "  text-overflow: ellipsis;\n",
       "  padding-right: 10px;\n",
       "}\n",
       "\n",
       ".xr-var-name:hover,\n",
       ".xr-var-dims:hover,\n",
       ".xr-var-dtype:hover,\n",
       ".xr-attrs dt:hover {\n",
       "  overflow: visible;\n",
       "  width: auto;\n",
       "  z-index: 1;\n",
       "}\n",
       "\n",
       ".xr-var-attrs,\n",
       ".xr-var-data {\n",
       "  display: none;\n",
       "  background-color: var(--xr-background-color) !important;\n",
       "  padding-bottom: 5px !important;\n",
       "}\n",
       "\n",
       ".xr-var-attrs-in:checked ~ .xr-var-attrs,\n",
       ".xr-var-data-in:checked ~ .xr-var-data {\n",
       "  display: block;\n",
       "}\n",
       "\n",
       ".xr-var-data > table {\n",
       "  float: right;\n",
       "}\n",
       "\n",
       ".xr-var-name span,\n",
       ".xr-var-data,\n",
       ".xr-attrs {\n",
       "  padding-left: 25px !important;\n",
       "}\n",
       "\n",
       ".xr-attrs,\n",
       ".xr-var-attrs,\n",
       ".xr-var-data {\n",
       "  grid-column: 1 / -1;\n",
       "}\n",
       "\n",
       "dl.xr-attrs {\n",
       "  padding: 0;\n",
       "  margin: 0;\n",
       "  display: grid;\n",
       "  grid-template-columns: 125px auto;\n",
       "}\n",
       "\n",
       ".xr-attrs dt,\n",
       ".xr-attrs dd {\n",
       "  padding: 0;\n",
       "  margin: 0;\n",
       "  float: left;\n",
       "  padding-right: 10px;\n",
       "  width: auto;\n",
       "}\n",
       "\n",
       ".xr-attrs dt {\n",
       "  font-weight: normal;\n",
       "  grid-column: 1;\n",
       "}\n",
       "\n",
       ".xr-attrs dt:hover span {\n",
       "  display: inline-block;\n",
       "  background: var(--xr-background-color);\n",
       "  padding-right: 10px;\n",
       "}\n",
       "\n",
       ".xr-attrs dd {\n",
       "  grid-column: 2;\n",
       "  white-space: pre-wrap;\n",
       "  word-break: break-all;\n",
       "}\n",
       "\n",
       ".xr-icon-database,\n",
       ".xr-icon-file-text2 {\n",
       "  display: inline-block;\n",
       "  vertical-align: middle;\n",
       "  width: 1em;\n",
       "  height: 1.5em !important;\n",
       "  stroke-width: 0;\n",
       "  stroke: currentColor;\n",
       "  fill: currentColor;\n",
       "}\n",
       "</style><pre class='xr-text-repr-fallback'>&lt;xarray.Dataset&gt;\n",
       "Dimensions:  (horizon: 1, pixel: 1, time: 230)\n",
       "Coordinates:\n",
       "  * time     (time) datetime64[ns] 2009-01-06T08:19:19.687634944 ... 2009-01-...\n",
       "  * pixel    (pixel) object &#x27;1_1&#x27;\n",
       "Dimensions without coordinates: horizon\n",
       "Data variables:\n",
       "    sim      (time, horizon, pixel) float32 1.153 1.159 1.164 ... 1.364 1.362\n",
       "    obs      (time, horizon, pixel) float32 1.697 1.704 1.749 ... 2.829 2.806</pre><div class='xr-wrap' hidden><div class='xr-header'><div class='xr-obj-type'>xarray.Dataset</div></div><ul class='xr-sections'><li class='xr-section-item'><input id='section-c9251567-8a82-4f4b-82ca-a9ef7155c518' class='xr-section-summary-in' type='checkbox' disabled ><label for='section-c9251567-8a82-4f4b-82ca-a9ef7155c518' class='xr-section-summary'  title='Expand/collapse section'>Dimensions:</label><div class='xr-section-inline-details'><ul class='xr-dim-list'><li><span>horizon</span>: 1</li><li><span class='xr-has-index'>pixel</span>: 1</li><li><span class='xr-has-index'>time</span>: 230</li></ul></div><div class='xr-section-details'></div></li><li class='xr-section-item'><input id='section-eddbb788-2af4-414f-bfc1-ebf2538654a4' class='xr-section-summary-in' type='checkbox'  checked><label for='section-eddbb788-2af4-414f-bfc1-ebf2538654a4' class='xr-section-summary' >Coordinates: <span>(2)</span></label><div class='xr-section-inline-details'></div><div class='xr-section-details'><ul class='xr-var-list'><li class='xr-var-item'><div class='xr-var-name'><span class='xr-has-index'>time</span></div><div class='xr-var-dims'>(time)</div><div class='xr-var-dtype'>datetime64[ns]</div><div class='xr-var-preview xr-preview'>2009-01-06T08:19:19.687634944 .....</div><input id='attrs-acd27019-b5f9-4e71-9f83-c6149471e803' class='xr-var-attrs-in' type='checkbox' disabled><label for='attrs-acd27019-b5f9-4e71-9f83-c6149471e803' title='Show/Hide attributes'><svg class='icon xr-icon-file-text2'><use xlink:href='#icon-file-text2'></use></svg></label><input id='data-486d8da4-78c8-4b20-90dd-e2e404eb99c1' class='xr-var-data-in' type='checkbox'><label for='data-486d8da4-78c8-4b20-90dd-e2e404eb99c1' title='Show/Hide data repr'><svg class='icon xr-icon-database'><use xlink:href='#icon-database'></use></svg></label><div class='xr-var-attrs'><dl class='xr-attrs'></dl></div><div class='xr-var-data'><pre>array([&#x27;2009-01-06T08:19:19.687634944&#x27;, &#x27;2009-01-06T08:30:46.882402304&#x27;,\n",
       "       &#x27;2009-01-06T08:39:56.638216192&#x27;, ..., &#x27;2009-01-07T22:09:21.690525695&#x27;,\n",
       "       &#x27;2009-01-07T22:20:48.885293056&#x27;, &#x27;2009-01-07T22:29:58.641106944&#x27;],\n",
       "      dtype=&#x27;datetime64[ns]&#x27;)</pre></div></li><li class='xr-var-item'><div class='xr-var-name'><span class='xr-has-index'>pixel</span></div><div class='xr-var-dims'>(pixel)</div><div class='xr-var-dtype'>object</div><div class='xr-var-preview xr-preview'>&#x27;1_1&#x27;</div><input id='attrs-36b17d85-6d2b-42cd-bf1d-2b39a5dd6782' class='xr-var-attrs-in' type='checkbox' disabled><label for='attrs-36b17d85-6d2b-42cd-bf1d-2b39a5dd6782' title='Show/Hide attributes'><svg class='icon xr-icon-file-text2'><use xlink:href='#icon-file-text2'></use></svg></label><input id='data-95af7c29-9784-4382-991c-fde05037b751' class='xr-var-data-in' type='checkbox'><label for='data-95af7c29-9784-4382-991c-fde05037b751' title='Show/Hide data repr'><svg class='icon xr-icon-database'><use xlink:href='#icon-database'></use></svg></label><div class='xr-var-attrs'><dl class='xr-attrs'></dl></div><div class='xr-var-data'><pre>array([&#x27;1_1&#x27;], dtype=object)</pre></div></li></ul></div></li><li class='xr-section-item'><input id='section-9d0d3e40-1c18-45be-9925-79ef0e6778bc' class='xr-section-summary-in' type='checkbox'  checked><label for='section-9d0d3e40-1c18-45be-9925-79ef0e6778bc' class='xr-section-summary' >Data variables: <span>(2)</span></label><div class='xr-section-inline-details'></div><div class='xr-section-details'><ul class='xr-var-list'><li class='xr-var-item'><div class='xr-var-name'><span>sim</span></div><div class='xr-var-dims'>(time, horizon, pixel)</div><div class='xr-var-dtype'>float32</div><div class='xr-var-preview xr-preview'>...</div><input id='attrs-24bfeb8f-0170-4efa-9224-d1fa80f01965' class='xr-var-attrs-in' type='checkbox' disabled><label for='attrs-24bfeb8f-0170-4efa-9224-d1fa80f01965' title='Show/Hide attributes'><svg class='icon xr-icon-file-text2'><use xlink:href='#icon-file-text2'></use></svg></label><input id='data-d1539be7-333c-4327-91e6-ff39757f6379' class='xr-var-data-in' type='checkbox'><label for='data-d1539be7-333c-4327-91e6-ff39757f6379' title='Show/Hide data repr'><svg class='icon xr-icon-database'><use xlink:href='#icon-database'></use></svg></label><div class='xr-var-attrs'><dl class='xr-attrs'></dl></div><div class='xr-var-data'><pre>array([[[1.152721]],\n",
       "\n",
       "       [[1.158867]],\n",
       "\n",
       "       ...,\n",
       "\n",
       "       [[1.363862]],\n",
       "\n",
       "       [[1.361706]]], dtype=float32)</pre></div></li><li class='xr-var-item'><div class='xr-var-name'><span>obs</span></div><div class='xr-var-dims'>(time, horizon, pixel)</div><div class='xr-var-dtype'>float32</div><div class='xr-var-preview xr-preview'>...</div><input id='attrs-25ebf3d2-7abe-498a-8ad6-7bd329c39ff4' class='xr-var-attrs-in' type='checkbox' disabled><label for='attrs-25ebf3d2-7abe-498a-8ad6-7bd329c39ff4' title='Show/Hide attributes'><svg class='icon xr-icon-file-text2'><use xlink:href='#icon-file-text2'></use></svg></label><input id='data-7b0806e8-21ae-4ff2-8c38-f86ef8dc7ef5' class='xr-var-data-in' type='checkbox'><label for='data-7b0806e8-21ae-4ff2-8c38-f86ef8dc7ef5' title='Show/Hide data repr'><svg class='icon xr-icon-database'><use xlink:href='#icon-database'></use></svg></label><div class='xr-var-attrs'><dl class='xr-attrs'></dl></div><div class='xr-var-data'><pre>array([[[1.697186]],\n",
       "\n",
       "       [[1.704138]],\n",
       "\n",
       "       ...,\n",
       "\n",
       "       [[2.828629]],\n",
       "\n",
       "       [[2.806035]]], dtype=float32)</pre></div></li></ul></div></li><li class='xr-section-item'><input id='section-f17febba-99d7-4f10-90e4-6da80e050c6b' class='xr-section-summary-in' type='checkbox' disabled ><label for='section-f17febba-99d7-4f10-90e4-6da80e050c6b' class='xr-section-summary'  title='Expand/collapse section'>Attributes: <span>(0)</span></label><div class='xr-section-inline-details'></div><div class='xr-section-details'><dl class='xr-attrs'></dl></div></li></ul></div></div>"
      ],
      "text/plain": [
       "<xarray.Dataset>\n",
       "Dimensions:  (horizon: 1, pixel: 1, time: 230)\n",
       "Coordinates:\n",
       "  * time     (time) datetime64[ns] 2009-01-06T08:19:19.687634944 ... 2009-01-...\n",
       "  * pixel    (pixel) object '1_1'\n",
       "Dimensions without coordinates: horizon\n",
       "Data variables:\n",
       "    sim      (time, horizon, pixel) float32 ...\n",
       "    obs      (time, horizon, pixel) float32 ..."
      ]
     },
     "execution_count": 14,
     "metadata": {},
     "output_type": "execute_result"
    }
   ],
   "source": [
    "xr_path = sorted(list(cfg.run_dir.glob(\"*.nc\")))[-1]\n",
    "preds = xr.open_dataset(xr_path).drop([\"horizon\"])\n",
    "preds"
   ]
  },
  {
   "cell_type": "markdown",
   "id": "silver-mitchell",
   "metadata": {},
   "source": [
    "- there seems to be a normalisation problem\n",
    "- Missing the scale of the observations"
   ]
  },
  {
   "cell_type": "code",
   "execution_count": 15,
   "id": "running-allowance",
   "metadata": {},
   "outputs": [
    {
     "data": {
      "image/png": "[encoded data removed]",
      "text/plain": [
       "<Figure size 864x288 with 1 Axes>"
      ]
     },
     "metadata": {
      "needs_background": "light"
     },
     "output_type": "display_data"
    }
   ],
   "source": [
    "# .sel(time=slice(\"2015-01-01\", \"2015-02-01\"))\n",
    "f, ax = plt.subplots(figsize=(12, 4))\n",
    "preds.isel(time=slice(0, 100)).to_dataframe().plot(ax=ax)\n",
    "\n",
    "# artificial improvement\n",
    "# ((ds.isel(time=slice(0, 100)).to_dataframe()[\"sim\"] ** 6)).plot(ax=ax)\n",
    "\n",
    "plt.xticks(rotation=70);\n",
    "sns.despine()"
   ]
  },
  {
   "cell_type": "code",
   "execution_count": 16,
   "id": "published-northwest",
   "metadata": {},
   "outputs": [
    {
     "data": {
      "image/png": "[encoded data removed]",
      "text/plain": [
       "<Figure size 864x288 with 1 Axes>"
      ]
     },
     "metadata": {
      "needs_background": "light"
     },
     "output_type": "display_data"
    }
   ],
   "source": [
    "# .sel(time=slice(\"2015-01-01\", \"2015-02-01\"))\n",
    "f, ax = plt.subplots(figsize=(12, 4))\n",
    "pixel = np.random.choice(preds.pixel.values)\n",
    "preds.sel(pixel=pixel).to_dataframe().plot(ax=ax)\n",
    "ax.set_title(pixel)\n",
    "plt.xticks(rotation=70);\n",
    "sns.despine()"
   ]
  },
  {
   "cell_type": "code",
   "execution_count": null,
   "id": "juvenile-dream",
   "metadata": {},
   "outputs": [],
   "source": []
  }
 ],
 "metadata": {
  "kernelspec": {
   "display_name": "Python 3",
   "language": "python",
   "name": "python3"
  },
  "language_info": {
   "codemirror_mode": {
    "name": "ipython",
    "version": 3
   },
   "file_extension": ".py",
   "mimetype": "text/x-python",
   "name": "python",
   "nbconvert_exporter": "python",
   "pygments_lexer": "ipython3",
   "version": "3.8.2"
  }
 },
 "nbformat": 4,
 "nbformat_minor": 5
}
