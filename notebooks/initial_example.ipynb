{
 "cells": [
  {
   "cell_type": "code",
   "execution_count": 1,
   "id": "legendary-report",
   "metadata": {},
   "outputs": [],
   "source": [
    "import xarray as xr\n",
    "import pandas as pd\n",
    "import numpy as np\n",
    "from pathlib import Path\n",
    "import pickle\n",
    "import matplotlib.pyplot as plt\n",
    "\n",
    "base_dir = Path(\".\").absolute().parents[0]\n",
    "import sys\n",
    "\n",
    "if sys.path[0] != base_dir.as_posix():\n",
    "    sys.path = [base_dir.as_posix()] + sys.path"
   ]
  },
  {
   "cell_type": "code",
   "execution_count": 2,
   "id": "under-logistics",
   "metadata": {},
   "outputs": [],
   "source": [
    "from spatio_temporal.config import Config\n",
    "from spatio_temporal.training.trainer import Trainer\n",
    "from spatio_temporal.training.tester import Tester\n",
    "from tests.utils import (\n",
    "    create_linear_ds,\n",
    "    _test_sklearn_model,\n",
    "    get_pollution_data_beijing,\n",
    ")\n",
    "from spatio_temporal.training.eval_utils import _plot_loss_curves, save_losses"
   ]
  },
  {
   "cell_type": "markdown",
   "id": "exciting-understanding",
   "metadata": {},
   "source": [
    "# Load in Data"
   ]
  },
  {
   "cell_type": "code",
   "execution_count": 3,
   "id": "material-importance",
   "metadata": {},
   "outputs": [
    {
     "data": {
      "text/html": [
       "<div><svg style=\"position: absolute; width: 0; height: 0; overflow: hidden\">\n",
       "<defs>\n",
       "<symbol id=\"icon-database\" viewBox=\"0 0 32 32\">\n",
       "<path d=\"M16 0c-8.837 0-16 2.239-16 5v4c0 2.761 7.163 5 16 5s16-2.239 16-5v-4c0-2.761-7.163-5-16-5z\"></path>\n",
       "<path d=\"M16 17c-8.837 0-16-2.239-16-5v6c0 2.761 7.163 5 16 5s16-2.239 16-5v-6c0 2.761-7.163 5-16 5z\"></path>\n",
       "<path d=\"M16 26c-8.837 0-16-2.239-16-5v6c0 2.761 7.163 5 16 5s16-2.239 16-5v-6c0 2.761-7.163 5-16 5z\"></path>\n",
       "</symbol>\n",
       "<symbol id=\"icon-file-text2\" viewBox=\"0 0 32 32\">\n",
       "<path d=\"M28.681 7.159c-0.694-0.947-1.662-2.053-2.724-3.116s-2.169-2.030-3.116-2.724c-1.612-1.182-2.393-1.319-2.841-1.319h-15.5c-1.378 0-2.5 1.121-2.5 2.5v27c0 1.378 1.122 2.5 2.5 2.5h23c1.378 0 2.5-1.122 2.5-2.5v-19.5c0-0.448-0.137-1.23-1.319-2.841zM24.543 5.457c0.959 0.959 1.712 1.825 2.268 2.543h-4.811v-4.811c0.718 0.556 1.584 1.309 2.543 2.268zM28 29.5c0 0.271-0.229 0.5-0.5 0.5h-23c-0.271 0-0.5-0.229-0.5-0.5v-27c0-0.271 0.229-0.5 0.5-0.5 0 0 15.499-0 15.5 0v7c0 0.552 0.448 1 1 1h7v19.5z\"></path>\n",
       "<path d=\"M23 26h-14c-0.552 0-1-0.448-1-1s0.448-1 1-1h14c0.552 0 1 0.448 1 1s-0.448 1-1 1z\"></path>\n",
       "<path d=\"M23 22h-14c-0.552 0-1-0.448-1-1s0.448-1 1-1h14c0.552 0 1 0.448 1 1s-0.448 1-1 1z\"></path>\n",
       "<path d=\"M23 18h-14c-0.552 0-1-0.448-1-1s0.448-1 1-1h14c0.552 0 1 0.448 1 1s-0.448 1-1 1z\"></path>\n",
       "</symbol>\n",
       "</defs>\n",
       "</svg>\n",
       "<style>/* CSS stylesheet for displaying xarray objects in jupyterlab.\n",
       " *\n",
       " */\n",
       "\n",
       ":root {\n",
       "  --xr-font-color0: var(--jp-content-font-color0, rgba(0, 0, 0, 1));\n",
       "  --xr-font-color2: var(--jp-content-font-color2, rgba(0, 0, 0, 0.54));\n",
       "  --xr-font-color3: var(--jp-content-font-color3, rgba(0, 0, 0, 0.38));\n",
       "  --xr-border-color: var(--jp-border-color2, #e0e0e0);\n",
       "  --xr-disabled-color: var(--jp-layout-color3, #bdbdbd);\n",
       "  --xr-background-color: var(--jp-layout-color0, white);\n",
       "  --xr-background-color-row-even: var(--jp-layout-color1, white);\n",
       "  --xr-background-color-row-odd: var(--jp-layout-color2, #eeeeee);\n",
       "}\n",
       "\n",
       "html[theme=dark],\n",
       "body.vscode-dark {\n",
       "  --xr-font-color0: rgba(255, 255, 255, 1);\n",
       "  --xr-font-color2: rgba(255, 255, 255, 0.54);\n",
       "  --xr-font-color3: rgba(255, 255, 255, 0.38);\n",
       "  --xr-border-color: #1F1F1F;\n",
       "  --xr-disabled-color: #515151;\n",
       "  --xr-background-color: #111111;\n",
       "  --xr-background-color-row-even: #111111;\n",
       "  --xr-background-color-row-odd: #313131;\n",
       "}\n",
       "\n",
       ".xr-wrap {\n",
       "  display: block;\n",
       "  min-width: 300px;\n",
       "  max-width: 700px;\n",
       "}\n",
       "\n",
       ".xr-text-repr-fallback {\n",
       "  /* fallback to plain text repr when CSS is not injected (untrusted notebook) */\n",
       "  display: none;\n",
       "}\n",
       "\n",
       ".xr-header {\n",
       "  padding-top: 6px;\n",
       "  padding-bottom: 6px;\n",
       "  margin-bottom: 4px;\n",
       "  border-bottom: solid 1px var(--xr-border-color);\n",
       "}\n",
       "\n",
       ".xr-header > div,\n",
       ".xr-header > ul {\n",
       "  display: inline;\n",
       "  margin-top: 0;\n",
       "  margin-bottom: 0;\n",
       "}\n",
       "\n",
       ".xr-obj-type,\n",
       ".xr-array-name {\n",
       "  margin-left: 2px;\n",
       "  margin-right: 10px;\n",
       "}\n",
       "\n",
       ".xr-obj-type {\n",
       "  color: var(--xr-font-color2);\n",
       "}\n",
       "\n",
       ".xr-sections {\n",
       "  padding-left: 0 !important;\n",
       "  display: grid;\n",
       "  grid-template-columns: 150px auto auto 1fr 20px 20px;\n",
       "}\n",
       "\n",
       ".xr-section-item {\n",
       "  display: contents;\n",
       "}\n",
       "\n",
       ".xr-section-item input {\n",
       "  display: none;\n",
       "}\n",
       "\n",
       ".xr-section-item input + label {\n",
       "  color: var(--xr-disabled-color);\n",
       "}\n",
       "\n",
       ".xr-section-item input:enabled + label {\n",
       "  cursor: pointer;\n",
       "  color: var(--xr-font-color2);\n",
       "}\n",
       "\n",
       ".xr-section-item input:enabled + label:hover {\n",
       "  color: var(--xr-font-color0);\n",
       "}\n",
       "\n",
       ".xr-section-summary {\n",
       "  grid-column: 1;\n",
       "  color: var(--xr-font-color2);\n",
       "  font-weight: 500;\n",
       "}\n",
       "\n",
       ".xr-section-summary > span {\n",
       "  display: inline-block;\n",
       "  padding-left: 0.5em;\n",
       "}\n",
       "\n",
       ".xr-section-summary-in:disabled + label {\n",
       "  color: var(--xr-font-color2);\n",
       "}\n",
       "\n",
       ".xr-section-summary-in + label:before {\n",
       "  display: inline-block;\n",
       "  content: '►';\n",
       "  font-size: 11px;\n",
       "  width: 15px;\n",
       "  text-align: center;\n",
       "}\n",
       "\n",
       ".xr-section-summary-in:disabled + label:before {\n",
       "  color: var(--xr-disabled-color);\n",
       "}\n",
       "\n",
       ".xr-section-summary-in:checked + label:before {\n",
       "  content: '▼';\n",
       "}\n",
       "\n",
       ".xr-section-summary-in:checked + label > span {\n",
       "  display: none;\n",
       "}\n",
       "\n",
       ".xr-section-summary,\n",
       ".xr-section-inline-details {\n",
       "  padding-top: 4px;\n",
       "  padding-bottom: 4px;\n",
       "}\n",
       "\n",
       ".xr-section-inline-details {\n",
       "  grid-column: 2 / -1;\n",
       "}\n",
       "\n",
       ".xr-section-details {\n",
       "  display: none;\n",
       "  grid-column: 1 / -1;\n",
       "  margin-bottom: 5px;\n",
       "}\n",
       "\n",
       ".xr-section-summary-in:checked ~ .xr-section-details {\n",
       "  display: contents;\n",
       "}\n",
       "\n",
       ".xr-array-wrap {\n",
       "  grid-column: 1 / -1;\n",
       "  display: grid;\n",
       "  grid-template-columns: 20px auto;\n",
       "}\n",
       "\n",
       ".xr-array-wrap > label {\n",
       "  grid-column: 1;\n",
       "  vertical-align: top;\n",
       "}\n",
       "\n",
       ".xr-preview {\n",
       "  color: var(--xr-font-color3);\n",
       "}\n",
       "\n",
       ".xr-array-preview,\n",
       ".xr-array-data {\n",
       "  padding: 0 5px !important;\n",
       "  grid-column: 2;\n",
       "}\n",
       "\n",
       ".xr-array-data,\n",
       ".xr-array-in:checked ~ .xr-array-preview {\n",
       "  display: none;\n",
       "}\n",
       "\n",
       ".xr-array-in:checked ~ .xr-array-data,\n",
       ".xr-array-preview {\n",
       "  display: inline-block;\n",
       "}\n",
       "\n",
       ".xr-dim-list {\n",
       "  display: inline-block !important;\n",
       "  list-style: none;\n",
       "  padding: 0 !important;\n",
       "  margin: 0;\n",
       "}\n",
       "\n",
       ".xr-dim-list li {\n",
       "  display: inline-block;\n",
       "  padding: 0;\n",
       "  margin: 0;\n",
       "}\n",
       "\n",
       ".xr-dim-list:before {\n",
       "  content: '(';\n",
       "}\n",
       "\n",
       ".xr-dim-list:after {\n",
       "  content: ')';\n",
       "}\n",
       "\n",
       ".xr-dim-list li:not(:last-child):after {\n",
       "  content: ',';\n",
       "  padding-right: 5px;\n",
       "}\n",
       "\n",
       ".xr-has-index {\n",
       "  font-weight: bold;\n",
       "}\n",
       "\n",
       ".xr-var-list,\n",
       ".xr-var-item {\n",
       "  display: contents;\n",
       "}\n",
       "\n",
       ".xr-var-item > div,\n",
       ".xr-var-item label,\n",
       ".xr-var-item > .xr-var-name span {\n",
       "  background-color: var(--xr-background-color-row-even);\n",
       "  margin-bottom: 0;\n",
       "}\n",
       "\n",
       ".xr-var-item > .xr-var-name:hover span {\n",
       "  padding-right: 5px;\n",
       "}\n",
       "\n",
       ".xr-var-list > li:nth-child(odd) > div,\n",
       ".xr-var-list > li:nth-child(odd) > label,\n",
       ".xr-var-list > li:nth-child(odd) > .xr-var-name span {\n",
       "  background-color: var(--xr-background-color-row-odd);\n",
       "}\n",
       "\n",
       ".xr-var-name {\n",
       "  grid-column: 1;\n",
       "}\n",
       "\n",
       ".xr-var-dims {\n",
       "  grid-column: 2;\n",
       "}\n",
       "\n",
       ".xr-var-dtype {\n",
       "  grid-column: 3;\n",
       "  text-align: right;\n",
       "  color: var(--xr-font-color2);\n",
       "}\n",
       "\n",
       ".xr-var-preview {\n",
       "  grid-column: 4;\n",
       "}\n",
       "\n",
       ".xr-var-name,\n",
       ".xr-var-dims,\n",
       ".xr-var-dtype,\n",
       ".xr-preview,\n",
       ".xr-attrs dt {\n",
       "  white-space: nowrap;\n",
       "  overflow: hidden;\n",
       "  text-overflow: ellipsis;\n",
       "  padding-right: 10px;\n",
       "}\n",
       "\n",
       ".xr-var-name:hover,\n",
       ".xr-var-dims:hover,\n",
       ".xr-var-dtype:hover,\n",
       ".xr-attrs dt:hover {\n",
       "  overflow: visible;\n",
       "  width: auto;\n",
       "  z-index: 1;\n",
       "}\n",
       "\n",
       ".xr-var-attrs,\n",
       ".xr-var-data {\n",
       "  display: none;\n",
       "  background-color: var(--xr-background-color) !important;\n",
       "  padding-bottom: 5px !important;\n",
       "}\n",
       "\n",
       ".xr-var-attrs-in:checked ~ .xr-var-attrs,\n",
       ".xr-var-data-in:checked ~ .xr-var-data {\n",
       "  display: block;\n",
       "}\n",
       "\n",
       ".xr-var-data > table {\n",
       "  float: right;\n",
       "}\n",
       "\n",
       ".xr-var-name span,\n",
       ".xr-var-data,\n",
       ".xr-attrs {\n",
       "  padding-left: 25px !important;\n",
       "}\n",
       "\n",
       ".xr-attrs,\n",
       ".xr-var-attrs,\n",
       ".xr-var-data {\n",
       "  grid-column: 1 / -1;\n",
       "}\n",
       "\n",
       "dl.xr-attrs {\n",
       "  padding: 0;\n",
       "  margin: 0;\n",
       "  display: grid;\n",
       "  grid-template-columns: 125px auto;\n",
       "}\n",
       "\n",
       ".xr-attrs dt,\n",
       ".xr-attrs dd {\n",
       "  padding: 0;\n",
       "  margin: 0;\n",
       "  float: left;\n",
       "  padding-right: 10px;\n",
       "  width: auto;\n",
       "}\n",
       "\n",
       ".xr-attrs dt {\n",
       "  font-weight: normal;\n",
       "  grid-column: 1;\n",
       "}\n",
       "\n",
       ".xr-attrs dt:hover span {\n",
       "  display: inline-block;\n",
       "  background: var(--xr-background-color);\n",
       "  padding-right: 10px;\n",
       "}\n",
       "\n",
       ".xr-attrs dd {\n",
       "  grid-column: 2;\n",
       "  white-space: pre-wrap;\n",
       "  word-break: break-all;\n",
       "}\n",
       "\n",
       ".xr-icon-database,\n",
       ".xr-icon-file-text2 {\n",
       "  display: inline-block;\n",
       "  vertical-align: middle;\n",
       "  width: 1em;\n",
       "  height: 1.5em !important;\n",
       "  stroke-width: 0;\n",
       "  stroke: currentColor;\n",
       "  fill: currentColor;\n",
       "}\n",
       "</style><pre class='xr-text-repr-fallback'>&lt;xarray.Dataset&gt;\n",
       "Dimensions:  (lat: 10, lon: 10, time: 252)\n",
       "Coordinates:\n",
       "  * lat      (lat) float64 -55.15 -40.69 -26.22 -11.76 ... 46.1 60.56 75.02\n",
       "  * lon      (lon) float64 -180.0 -140.0 -100.0 -60.0 ... 60.0 100.0 140.0 180.0\n",
       "  * time     (time) datetime64[ns] 2000-01-31 2000-02-29 ... 2020-12-31\n",
       "Data variables:\n",
       "    feature  (lat, lon, time) float64 79.0 58.0 85.0 23.0 ... 3.0 60.0 18.0 nan\n",
       "    target   (lat, lon, time) float64 140.0 276.5 203.0 ... 10.5 210.0 63.0</pre><div class='xr-wrap' hidden><div class='xr-header'><div class='xr-obj-type'>xarray.Dataset</div></div><ul class='xr-sections'><li class='xr-section-item'><input id='section-ebb8ad0f-130e-4ab1-bdc6-2e98791a0ca9' class='xr-section-summary-in' type='checkbox' disabled ><label for='section-ebb8ad0f-130e-4ab1-bdc6-2e98791a0ca9' class='xr-section-summary'  title='Expand/collapse section'>Dimensions:</label><div class='xr-section-inline-details'><ul class='xr-dim-list'><li><span class='xr-has-index'>lat</span>: 10</li><li><span class='xr-has-index'>lon</span>: 10</li><li><span class='xr-has-index'>time</span>: 252</li></ul></div><div class='xr-section-details'></div></li><li class='xr-section-item'><input id='section-e5576211-64c0-4233-969a-cd6e704e5868' class='xr-section-summary-in' type='checkbox'  checked><label for='section-e5576211-64c0-4233-969a-cd6e704e5868' class='xr-section-summary' >Coordinates: <span>(3)</span></label><div class='xr-section-inline-details'></div><div class='xr-section-details'><ul class='xr-var-list'><li class='xr-var-item'><div class='xr-var-name'><span class='xr-has-index'>lat</span></div><div class='xr-var-dims'>(lat)</div><div class='xr-var-dtype'>float64</div><div class='xr-var-preview xr-preview'>-55.15 -40.69 ... 60.56 75.02</div><input id='attrs-765a136d-4b9e-4290-baa5-1443631b101d' class='xr-var-attrs-in' type='checkbox' disabled><label for='attrs-765a136d-4b9e-4290-baa5-1443631b101d' title='Show/Hide attributes'><svg class='icon xr-icon-file-text2'><use xlink:href='#icon-file-text2'></use></svg></label><input id='data-c50a970c-7c2c-4013-bdba-c6b14939f300' class='xr-var-data-in' type='checkbox'><label for='data-c50a970c-7c2c-4013-bdba-c6b14939f300' title='Show/Hide data repr'><svg class='icon xr-icon-database'><use xlink:href='#icon-database'></use></svg></label><div class='xr-var-attrs'><dl class='xr-attrs'></dl></div><div class='xr-var-data'><pre>array([-55.152, -40.688, -26.224, -11.76 ,   2.704,  17.168,  31.632,  46.096,\n",
       "        60.56 ,  75.024])</pre></div></li><li class='xr-var-item'><div class='xr-var-name'><span class='xr-has-index'>lon</span></div><div class='xr-var-dims'>(lon)</div><div class='xr-var-dtype'>float64</div><div class='xr-var-preview xr-preview'>-180.0 -140.0 ... 140.0 180.0</div><input id='attrs-abdd679e-1435-4ec5-96c4-fa4294c90734' class='xr-var-attrs-in' type='checkbox' disabled><label for='attrs-abdd679e-1435-4ec5-96c4-fa4294c90734' title='Show/Hide attributes'><svg class='icon xr-icon-file-text2'><use xlink:href='#icon-file-text2'></use></svg></label><input id='data-11aac4dd-4450-451e-814e-974b736eed69' class='xr-var-data-in' type='checkbox'><label for='data-11aac4dd-4450-451e-814e-974b736eed69' title='Show/Hide data repr'><svg class='icon xr-icon-database'><use xlink:href='#icon-database'></use></svg></label><div class='xr-var-attrs'><dl class='xr-attrs'></dl></div><div class='xr-var-data'><pre>array([-180., -140., -100.,  -60.,  -20.,   20.,   60.,  100.,  140.,  180.])</pre></div></li><li class='xr-var-item'><div class='xr-var-name'><span class='xr-has-index'>time</span></div><div class='xr-var-dims'>(time)</div><div class='xr-var-dtype'>datetime64[ns]</div><div class='xr-var-preview xr-preview'>2000-01-31 ... 2020-12-31</div><input id='attrs-ed98e9f6-1d82-4990-b360-590c23098cb0' class='xr-var-attrs-in' type='checkbox' disabled><label for='attrs-ed98e9f6-1d82-4990-b360-590c23098cb0' title='Show/Hide attributes'><svg class='icon xr-icon-file-text2'><use xlink:href='#icon-file-text2'></use></svg></label><input id='data-6c5b7f7b-1cbe-4e88-8a6b-658eeeb44c0c' class='xr-var-data-in' type='checkbox'><label for='data-6c5b7f7b-1cbe-4e88-8a6b-658eeeb44c0c' title='Show/Hide data repr'><svg class='icon xr-icon-database'><use xlink:href='#icon-database'></use></svg></label><div class='xr-var-attrs'><dl class='xr-attrs'></dl></div><div class='xr-var-data'><pre>array([&#x27;2000-01-31T00:00:00.000000000&#x27;, &#x27;2000-02-29T00:00:00.000000000&#x27;,\n",
       "       &#x27;2000-03-31T00:00:00.000000000&#x27;, ..., &#x27;2020-10-31T00:00:00.000000000&#x27;,\n",
       "       &#x27;2020-11-30T00:00:00.000000000&#x27;, &#x27;2020-12-31T00:00:00.000000000&#x27;],\n",
       "      dtype=&#x27;datetime64[ns]&#x27;)</pre></div></li></ul></div></li><li class='xr-section-item'><input id='section-3f062fe2-2953-4065-ba00-e79123fd15b7' class='xr-section-summary-in' type='checkbox'  checked><label for='section-3f062fe2-2953-4065-ba00-e79123fd15b7' class='xr-section-summary' >Data variables: <span>(2)</span></label><div class='xr-section-inline-details'></div><div class='xr-section-details'><ul class='xr-var-list'><li class='xr-var-item'><div class='xr-var-name'><span>feature</span></div><div class='xr-var-dims'>(lat, lon, time)</div><div class='xr-var-dtype'>float64</div><div class='xr-var-preview xr-preview'>79.0 58.0 85.0 ... 60.0 18.0 nan</div><input id='attrs-9cf8a858-c597-456c-9f6b-d1704e4aaeb5' class='xr-var-attrs-in' type='checkbox' disabled><label for='attrs-9cf8a858-c597-456c-9f6b-d1704e4aaeb5' title='Show/Hide attributes'><svg class='icon xr-icon-file-text2'><use xlink:href='#icon-file-text2'></use></svg></label><input id='data-3bdb91a9-82f9-4223-8a5a-0b943fcfb032' class='xr-var-data-in' type='checkbox'><label for='data-3bdb91a9-82f9-4223-8a5a-0b943fcfb032' title='Show/Hide data repr'><svg class='icon xr-icon-database'><use xlink:href='#icon-database'></use></svg></label><div class='xr-var-attrs'><dl class='xr-attrs'></dl></div><div class='xr-var-data'><pre>array([[[79., 58., 85., ..., 17., 72., nan],\n",
       "        [61., 50., 55., ..., 52., 63., nan],\n",
       "        [46., 43.,  6., ..., 87., 20., nan],\n",
       "        ...,\n",
       "        [74., 46., 61., ..., 99.,  1., nan],\n",
       "        [10., 47., 15., ..., 82.,  6., nan],\n",
       "        [29., 10., 42., ..., 93., 78., nan]],\n",
       "\n",
       "       [[81., 97., 45., ...,  2., 14., nan],\n",
       "        [24., 42., 67., ..., 28., 43., nan],\n",
       "        [80.,  6., 36., ..., 12., 12., nan],\n",
       "        ...,\n",
       "        [12., 92.,  8., ..., 82., 19., nan],\n",
       "        [43., 46., 31., ..., 37., 67., nan],\n",
       "        [12., 74., 43., ..., 84., 39., nan]],\n",
       "\n",
       "       [[87., 20.,  2., ..., 54., 84., nan],\n",
       "        [91., 68., 36., ..., 94., 36., nan],\n",
       "        [43., 54., 82., ..., 13., 20., nan],\n",
       "        ...,\n",
       "...\n",
       "        ...,\n",
       "        [40., 20., 58., ...,  0., 10., nan],\n",
       "        [48., 59., 24., ...,  9., 25., nan],\n",
       "        [98., 40., 73., ..., 72., 14., nan]],\n",
       "\n",
       "       [[95., 39., 61., ..., 52., 27., nan],\n",
       "        [95., 33., 92., ..., 53., 69., nan],\n",
       "        [ 9., 50., 38., ..., 91., 52., nan],\n",
       "        ...,\n",
       "        [22., 30., 54., ..., 97., 48., nan],\n",
       "        [91., 97., 85., ..., 21., 45., nan],\n",
       "        [45., 27., 44., ..., 97., 77., nan]],\n",
       "\n",
       "       [[55., 35., 28., ..., 89., 32., nan],\n",
       "        [45., 42., 39., ..., 82., 41., nan],\n",
       "        [53., 96.,  8., ..., 45., 21., nan],\n",
       "        ...,\n",
       "        [36.,  8., 38., ..., 66., 50., nan],\n",
       "        [56., 13., 88., ..., 22., 25., nan],\n",
       "        [20., 18., 29., ..., 60., 18., nan]]])</pre></div></li><li class='xr-var-item'><div class='xr-var-name'><span>target</span></div><div class='xr-var-dims'>(lat, lon, time)</div><div class='xr-var-dtype'>float64</div><div class='xr-var-preview xr-preview'>140.0 276.5 203.0 ... 210.0 63.0</div><input id='attrs-3aa10346-34aa-44f7-a566-0ac9e3cf7ada' class='xr-var-attrs-in' type='checkbox' disabled><label for='attrs-3aa10346-34aa-44f7-a566-0ac9e3cf7ada' title='Show/Hide attributes'><svg class='icon xr-icon-file-text2'><use xlink:href='#icon-file-text2'></use></svg></label><input id='data-971be66c-88db-4bff-96e0-475eca9c7fe6' class='xr-var-data-in' type='checkbox'><label for='data-971be66c-88db-4bff-96e0-475eca9c7fe6' title='Show/Hide data repr'><svg class='icon xr-icon-database'><use xlink:href='#icon-database'></use></svg></label><div class='xr-var-attrs'><dl class='xr-attrs'></dl></div><div class='xr-var-data'><pre>array([[[140. , 276.5, 203. , ...,  63. ,  59.5, 252. ],\n",
       "        [203. , 213.5, 175. , ..., 315. , 182. , 220.5],\n",
       "        [336. , 161. , 150.5, ..., 189. , 304.5,  70. ],\n",
       "        ...,\n",
       "        [231. , 259. , 161. , ..., 318.5, 346.5,   3.5],\n",
       "        [ 10.5,  35. , 164.5, ..., 304.5, 287. ,  21. ],\n",
       "        [339.5, 101.5,  35. , ..., 168. , 325.5, 273. ]],\n",
       "\n",
       "       [[311.5, 283.5, 339.5, ..., 252. ,   7. ,  49. ],\n",
       "        [ 21. ,  84. , 147. , ..., 203. ,  98. , 150.5],\n",
       "        [ 35. , 280. ,  21. , ..., 199.5,  42. ,  42. ],\n",
       "        ...,\n",
       "        [182. ,  42. , 322. , ..., 336. , 287. ,  66.5],\n",
       "        [255.5, 150.5, 161. , ...,  52.5, 129.5, 234.5],\n",
       "        [115.5,  42. , 259. , ...,   7. , 294. , 136.5]],\n",
       "\n",
       "       [[266. , 304.5,  70. , ..., 210. , 189. , 294. ],\n",
       "        [ 24.5, 318.5, 238. , ..., 224. , 329. , 126. ],\n",
       "        [276.5, 150.5, 189. , ..., 287. ,  45.5,  70. ],\n",
       "        ...,\n",
       "...\n",
       "        ...,\n",
       "        [227.5, 140. ,  70. , ...,  84. ,   0. ,  35. ],\n",
       "        [171.5, 168. , 206.5, ..., 210. ,  31.5,  87.5],\n",
       "        [161. , 343. , 140. , ..., 105. , 252. ,  49. ]],\n",
       "\n",
       "       [[147. , 332.5, 136.5, ...,  38.5, 182. ,  94.5],\n",
       "        [175. , 332.5, 115.5, ..., 168. , 185.5, 241.5],\n",
       "        [192.5,  31.5, 175. , ...,  98. , 318.5, 182. ],\n",
       "        ...,\n",
       "        [164.5,  77. , 105. , ...,  59.5, 339.5, 168. ],\n",
       "        [245. , 318.5, 339.5, ...,   0. ,  73.5, 157.5],\n",
       "        [ 35. , 157.5,  94.5, ...,  80.5, 339.5, 269.5]],\n",
       "\n",
       "       [[241.5, 192.5, 122.5, ..., 280. , 311.5, 112. ],\n",
       "        [ 91. , 157.5, 147. , ...,  94.5, 287. , 143.5],\n",
       "        [ 45.5, 185.5, 336. , ..., 192.5, 157.5,  73.5],\n",
       "        ...,\n",
       "        [ 35. , 126. ,  28. , ...,  28. , 231. , 175. ],\n",
       "        [122.5, 196. ,  45.5, ..., 304.5,  77. ,  87.5],\n",
       "        [231. ,  70. ,  63. , ...,  10.5, 210. ,  63. ]]])</pre></div></li></ul></div></li><li class='xr-section-item'><input id='section-6f462247-5b17-4214-9312-361479d93de1' class='xr-section-summary-in' type='checkbox' disabled ><label for='section-6f462247-5b17-4214-9312-361479d93de1' class='xr-section-summary'  title='Expand/collapse section'>Attributes: <span>(0)</span></label><div class='xr-section-inline-details'></div><div class='xr-section-details'><dl class='xr-attrs'></dl></div></li></ul></div></div>"
      ],
      "text/plain": [
       "<xarray.Dataset>\n",
       "Dimensions:  (lat: 10, lon: 10, time: 252)\n",
       "Coordinates:\n",
       "  * lat      (lat) float64 -55.15 -40.69 -26.22 -11.76 ... 46.1 60.56 75.02\n",
       "  * lon      (lon) float64 -180.0 -140.0 -100.0 -60.0 ... 60.0 100.0 140.0 180.0\n",
       "  * time     (time) datetime64[ns] 2000-01-31 2000-02-29 ... 2020-12-31\n",
       "Data variables:\n",
       "    feature  (lat, lon, time) float64 79.0 58.0 85.0 23.0 ... 3.0 60.0 18.0 nan\n",
       "    target   (lat, lon, time) float64 140.0 276.5 203.0 ... 10.5 210.0 63.0"
      ]
     },
     "execution_count": 3,
     "metadata": {},
     "output_type": "execute_result"
    }
   ],
   "source": [
    "ds = create_linear_ds()\n",
    "ds"
   ]
  },
  {
   "cell_type": "markdown",
   "id": "commercial-tract",
   "metadata": {},
   "source": [
    "# Load in Config File"
   ]
  },
  {
   "cell_type": "code",
   "execution_count": 10,
   "id": "remarkable-casting",
   "metadata": {},
   "outputs": [
    {
     "data": {
      "text/plain": [
       "2"
      ]
     },
     "execution_count": 10,
     "metadata": {},
     "output_type": "execute_result"
    }
   ],
   "source": [
    "cfg = Config(base_dir / \"configs/test_config.yml\")\n",
    "cfg.n_epochs"
   ]
  },
  {
   "cell_type": "markdown",
   "id": "ordinary-ratio",
   "metadata": {},
   "source": [
    "# Create Trainer"
   ]
  },
  {
   "cell_type": "code",
   "execution_count": 16,
   "id": "generic-portugal",
   "metadata": {},
   "outputs": [
    {
     "name": "stderr",
     "output_type": "stream",
     "text": [
      "Loading Data: 100%|██████████| 100/100 [00:00<00:00, 335.57it/s]\n",
      "Loading Data: 100%|██████████| 100/100 [00:00<00:00, 676.15it/s]\n"
     ]
    }
   ],
   "source": [
    "trainer = Trainer(cfg, ds)"
   ]
  },
  {
   "cell_type": "code",
   "execution_count": 17,
   "id": "living-stevens",
   "metadata": {},
   "outputs": [
    {
     "data": {
      "text/plain": [
       "30"
      ]
     },
     "execution_count": 17,
     "metadata": {},
     "output_type": "execute_result"
    }
   ],
   "source": [
    "len(trainer.train_dl)\n",
    "trainer.train_dl.batch_size"
   ]
  },
  {
   "cell_type": "code",
   "execution_count": 18,
   "id": "forty-folks",
   "metadata": {},
   "outputs": [
    {
     "name": "stderr",
     "output_type": "stream",
     "text": [
      "Training Epoch 1: 100%|██████████| 514/514 [00:05<00:00, 86.96it/s, 0.01] \n",
      "Validation Epoch 1: 100%|██████████| 114/114 [00:04<00:00, 24.23it/s]\n",
      "Training Epoch 2:   0%|          | 0/514 [00:00<?, ?it/s]"
     ]
    },
    {
     "name": "stdout",
     "output_type": "stream",
     "text": [
      "Train Loss: 0.03\n",
      "Valid Loss: 0.01\n"
     ]
    },
    {
     "name": "stderr",
     "output_type": "stream",
     "text": [
      "Training Epoch 2: 100%|██████████| 514/514 [00:05<00:00, 86.78it/s, 0.02] \n",
      "Validation Epoch 2: 100%|██████████| 114/114 [00:04<00:00, 24.31it/s]\n",
      "Training Epoch 3:   0%|          | 0/514 [00:00<?, ?it/s]"
     ]
    },
    {
     "name": "stdout",
     "output_type": "stream",
     "text": [
      "Train Loss: 0.01\n",
      "Valid Loss: 0.01\n"
     ]
    },
    {
     "name": "stderr",
     "output_type": "stream",
     "text": [
      "Training Epoch 3: 100%|██████████| 514/514 [00:06<00:00, 79.03it/s, 0.01] \n",
      "Validation Epoch 3: 100%|██████████| 114/114 [00:04<00:00, 24.30it/s]\n",
      "Training Epoch 4:   0%|          | 0/514 [00:00<?, ?it/s]"
     ]
    },
    {
     "name": "stdout",
     "output_type": "stream",
     "text": [
      "Train Loss: 0.01\n",
      "Valid Loss: 0.02\n"
     ]
    },
    {
     "name": "stderr",
     "output_type": "stream",
     "text": [
      "Training Epoch 4: 100%|██████████| 514/514 [00:05<00:00, 86.31it/s, 0.01] \n",
      "Validation Epoch 4: 100%|██████████| 114/114 [00:04<00:00, 24.23it/s]\n",
      "Training Epoch 5:   0%|          | 0/514 [00:00<?, ?it/s]"
     ]
    },
    {
     "name": "stdout",
     "output_type": "stream",
     "text": [
      "Train Loss: 0.01\n",
      "Valid Loss: 0.01\n"
     ]
    },
    {
     "name": "stderr",
     "output_type": "stream",
     "text": [
      "Training Epoch 5: 100%|██████████| 514/514 [00:05<00:00, 87.48it/s, 0.01] \n",
      "Validation Epoch 5: 100%|██████████| 114/114 [00:04<00:00, 24.30it/s]"
     ]
    },
    {
     "name": "stdout",
     "output_type": "stream",
     "text": [
      "Train Loss: 0.01\n",
      "Valid Loss: 0.01\n"
     ]
    },
    {
     "name": "stderr",
     "output_type": "stream",
     "text": [
      "\n"
     ]
    }
   ],
   "source": [
    "losses = trainer.train_and_validate()"
   ]
  },
  {
   "cell_type": "code",
   "execution_count": 19,
   "id": "endangered-literature",
   "metadata": {},
   "outputs": [
    {
     "data": {
      "text/plain": [
       "<matplotlib.legend.Legend at 0x7fb33a332580>"
      ]
     },
     "execution_count": 19,
     "metadata": {},
     "output_type": "execute_result"
    },
    {
     "data": {
      "image/png": "[encoded data removed]",
      "text/plain": [
       "<Figure size 432x288 with 1 Axes>"
      ]
     },
     "metadata": {
      "needs_background": "light"
     },
     "output_type": "display_data"
    }
   ],
   "source": [
    "train_losses, valid_losses = losses\n",
    "f, ax = plt.subplots()\n",
    "ax.plot(train_losses, label=\"Train\", color=\"C0\", marker=\"x\")\n",
    "ax.plot(valid_losses, label=\"Validation\", color=\"C1\", marker=\"x\")\n",
    "ax.set_xlabel(\"Epoch\")\n",
    "ax.set_ylabel(\"Loss\")\n",
    "plt.legend()"
   ]
  },
  {
   "cell_type": "markdown",
   "id": "external-somewhere",
   "metadata": {},
   "source": [
    "# Load the trained data"
   ]
  },
  {
   "cell_type": "code",
   "execution_count": 25,
   "id": "damaged-fusion",
   "metadata": {},
   "outputs": [
    {
     "name": "stderr",
     "output_type": "stream",
     "text": [
      "Loading Data: 100%|██████████| 100/100 [00:00<00:00, 503.94it/s]\n"
     ]
    }
   ],
   "source": [
    "tester = Tester(cfg, ds)"
   ]
  },
  {
   "cell_type": "code",
   "execution_count": 26,
   "id": "desperate-literacy",
   "metadata": {},
   "outputs": [
    {
     "name": "stderr",
     "output_type": "stream",
     "text": [
      "Test set Forward Pass: 100%|██████████| 194/194 [00:04<00:00, 39.54it/s]\n"
     ]
    },
    {
     "ename": "ValueError",
     "evalue": "all the input array dimensions for the concatenation axis must match exactly, but along dimension 1, the array at index 0 has size 30 and the array at index 193 has size 10",
     "output_type": "error",
     "traceback": [
      "\u001b[0;31m---------------------------------------------------------------------------\u001b[0m",
      "\u001b[0;31mValueError\u001b[0m                                Traceback (most recent call last)",
      "\u001b[0;32m<ipython-input-26-c06f68c91b3e>\u001b[0m in \u001b[0;36m<module>\u001b[0;34m\u001b[0m\n\u001b[0;32m----> 1\u001b[0;31m \u001b[0mtester\u001b[0m\u001b[0;34m.\u001b[0m\u001b[0mrun_test\u001b[0m\u001b[0;34m(\u001b[0m\u001b[0;34m)\u001b[0m\u001b[0;34m\u001b[0m\u001b[0;34m\u001b[0m\u001b[0m\n\u001b[0m",
      "\u001b[0;32m~/github/spatio_temporal/spatio_temporal/training/tester.py\u001b[0m in \u001b[0;36mrun_test\u001b[0;34m(self)\u001b[0m\n\u001b[1;32m    129\u001b[0m         \u001b[0;32mfor\u001b[0m \u001b[0mkey\u001b[0m \u001b[0;32min\u001b[0m \u001b[0mout\u001b[0m\u001b[0;34m.\u001b[0m\u001b[0mkeys\u001b[0m\u001b[0;34m(\u001b[0m\u001b[0;34m)\u001b[0m\u001b[0;34m:\u001b[0m\u001b[0;34m\u001b[0m\u001b[0;34m\u001b[0m\u001b[0m\n\u001b[1;32m    130\u001b[0m             \u001b[0;31m# concatenate over batch dimension (dimension = 0)\u001b[0m\u001b[0;34m\u001b[0m\u001b[0;34m\u001b[0m\u001b[0;34m\u001b[0m\u001b[0m\n\u001b[0;32m--> 131\u001b[0;31m             \u001b[0mvar_\u001b[0m \u001b[0;34m=\u001b[0m \u001b[0mnp\u001b[0m\u001b[0;34m.\u001b[0m\u001b[0mconcatenate\u001b[0m\u001b[0;34m(\u001b[0m\u001b[0mout\u001b[0m\u001b[0;34m[\u001b[0m\u001b[0mkey\u001b[0m\u001b[0;34m]\u001b[0m\u001b[0;34m)\u001b[0m\u001b[0;34m\u001b[0m\u001b[0;34m\u001b[0m\u001b[0m\n\u001b[0m\u001b[1;32m    132\u001b[0m             \u001b[0mvar_\u001b[0m \u001b[0;34m=\u001b[0m \u001b[0mvar_\u001b[0m\u001b[0;34m.\u001b[0m\u001b[0msqueeze\u001b[0m\u001b[0;34m(\u001b[0m\u001b[0;34m)\u001b[0m \u001b[0;32mif\u001b[0m \u001b[0mvar_\u001b[0m\u001b[0;34m.\u001b[0m\u001b[0mndim\u001b[0m \u001b[0;34m==\u001b[0m \u001b[0;36m3\u001b[0m \u001b[0;32melse\u001b[0m \u001b[0mvar_\u001b[0m\u001b[0;34m\u001b[0m\u001b[0;34m\u001b[0m\u001b[0m\n\u001b[1;32m    133\u001b[0m             \u001b[0mvar_\u001b[0m \u001b[0;34m=\u001b[0m \u001b[0m_reshape\u001b[0m\u001b[0;34m(\u001b[0m\u001b[0mvar_\u001b[0m\u001b[0;34m)\u001b[0m\u001b[0;34m\u001b[0m\u001b[0;34m\u001b[0m\u001b[0m\n",
      "\u001b[0;32m<__array_function__ internals>\u001b[0m in \u001b[0;36mconcatenate\u001b[0;34m(*args, **kwargs)\u001b[0m\n",
      "\u001b[0;31mValueError\u001b[0m: all the input array dimensions for the concatenation axis must match exactly, but along dimension 1, the array at index 0 has size 30 and the array at index 193 has size 10"
     ]
    }
   ],
   "source": [
    "tester.run_test()"
   ]
  },
  {
   "cell_type": "code",
   "execution_count": null,
   "id": "chronic-softball",
   "metadata": {},
   "outputs": [
    {
     "name": "stdout",
     "output_type": "stream",
     "text": [
      "> \u001b[0;32m<__array_function__ internals>\u001b[0m(5)\u001b[0;36mconcatenate\u001b[0;34m()\u001b[0m\n",
      "\n"
     ]
    },
    {
     "name": "stdin",
     "output_type": "stream",
     "text": [
      "ipdb>  ll\n"
     ]
    },
    {
     "name": "stdout",
     "output_type": "stream",
     "text": [
      "*** could not get source code\n"
     ]
    },
    {
     "name": "stdin",
     "output_type": "stream",
     "text": [
      "ipdb>  u\n"
     ]
    },
    {
     "name": "stdout",
     "output_type": "stream",
     "text": [
      "> \u001b[0;32m/Users/tommylees/github/spatio_temporal/spatio_temporal/training/tester.py\u001b[0m(131)\u001b[0;36mrun_test\u001b[0;34m()\u001b[0m\n",
      "\u001b[0;32m    129 \u001b[0;31m        \u001b[0;32mfor\u001b[0m \u001b[0mkey\u001b[0m \u001b[0;32min\u001b[0m \u001b[0mout\u001b[0m\u001b[0;34m.\u001b[0m\u001b[0mkeys\u001b[0m\u001b[0;34m(\u001b[0m\u001b[0;34m)\u001b[0m\u001b[0;34m:\u001b[0m\u001b[0;34m\u001b[0m\u001b[0;34m\u001b[0m\u001b[0m\n",
      "\u001b[0m\u001b[0;32m    130 \u001b[0;31m            \u001b[0;31m# concatenate over batch dimension (dimension = 0)\u001b[0m\u001b[0;34m\u001b[0m\u001b[0;34m\u001b[0m\u001b[0;34m\u001b[0m\u001b[0m\n",
      "\u001b[0m\u001b[0;32m--> 131 \u001b[0;31m            \u001b[0mvar_\u001b[0m \u001b[0;34m=\u001b[0m \u001b[0mnp\u001b[0m\u001b[0;34m.\u001b[0m\u001b[0mconcatenate\u001b[0m\u001b[0;34m(\u001b[0m\u001b[0mout\u001b[0m\u001b[0;34m[\u001b[0m\u001b[0mkey\u001b[0m\u001b[0;34m]\u001b[0m\u001b[0;34m)\u001b[0m\u001b[0;34m\u001b[0m\u001b[0;34m\u001b[0m\u001b[0m\n",
      "\u001b[0m\u001b[0;32m    132 \u001b[0;31m            \u001b[0mvar_\u001b[0m \u001b[0;34m=\u001b[0m \u001b[0mvar_\u001b[0m\u001b[0;34m.\u001b[0m\u001b[0msqueeze\u001b[0m\u001b[0;34m(\u001b[0m\u001b[0;34m)\u001b[0m \u001b[0;32mif\u001b[0m \u001b[0mvar_\u001b[0m\u001b[0;34m.\u001b[0m\u001b[0mndim\u001b[0m \u001b[0;34m==\u001b[0m \u001b[0;36m3\u001b[0m \u001b[0;32melse\u001b[0m \u001b[0mvar_\u001b[0m\u001b[0;34m\u001b[0m\u001b[0;34m\u001b[0m\u001b[0m\n",
      "\u001b[0m\u001b[0;32m    133 \u001b[0;31m            \u001b[0mvar_\u001b[0m \u001b[0;34m=\u001b[0m \u001b[0m_reshape\u001b[0m\u001b[0;34m(\u001b[0m\u001b[0mvar_\u001b[0m\u001b[0;34m)\u001b[0m\u001b[0;34m\u001b[0m\u001b[0;34m\u001b[0m\u001b[0m\n",
      "\u001b[0m\n"
     ]
    },
    {
     "name": "stdin",
     "output_type": "stream",
     "text": [
      "ipdb>  np.concatenate(out[key])\n"
     ]
    },
    {
     "name": "stdout",
     "output_type": "stream",
     "text": [
      "*** ValueError: all the input array dimensions for the concatenation axis must match exactly, but along dimension 1, the array at index 0 has size 30 and the array at index 193 has size 10\n"
     ]
    },
    {
     "name": "stdin",
     "output_type": "stream",
     "text": [
      "ipdb>  key\n"
     ]
    },
    {
     "name": "stdout",
     "output_type": "stream",
     "text": [
      "'time'\n"
     ]
    },
    {
     "name": "stdin",
     "output_type": "stream",
     "text": [
      "ipdb>  out[\"time\"].shape\n"
     ]
    },
    {
     "name": "stdout",
     "output_type": "stream",
     "text": [
      "*** AttributeError: 'list' object has no attribute 'shape'\n"
     ]
    },
    {
     "name": "stdin",
     "output_type": "stream",
     "text": [
      "ipdb>  len(out[\"time\"]\n"
     ]
    },
    {
     "name": "stdout",
     "output_type": "stream",
     "text": [
      "*** SyntaxError: unexpected EOF while parsing\n"
     ]
    },
    {
     "name": "stdin",
     "output_type": "stream",
     "text": [
      "ipdb>  len(out[\"time\"])\n"
     ]
    },
    {
     "name": "stdout",
     "output_type": "stream",
     "text": [
      "194\n"
     ]
    },
    {
     "name": "stdin",
     "output_type": "stream",
     "text": [
      "ipdb>  [k.shape for k in out[key]]\n"
     ]
    },
    {
     "name": "stdout",
     "output_type": "stream",
     "text": [
      "[(1, 30), (1, 30), (1, 30), (1, 30), (1, 30), (1, 30), (1, 30), (1, 30), (1, 30), (1, 30), (1, 30), (1, 30), (1, 30), (1, 30), (1, 30), (1, 30), (1, 30), (1, 30), (1, 30), (1, 30), (1, 30), (1, 30), (1, 30), (1, 30), (1, 30), (1, 30), (1, 30), (1, 30), (1, 30), (1, 30), (1, 30), (1, 30), (1, 30), (1, 30), (1, 30), (1, 30), (1, 30), (1, 30), (1, 30), (1, 30), (1, 30), (1, 30), (1, 30), (1, 30), (1, 30), (1, 30), (1, 30), (1, 30), (1, 30), (1, 30), (1, 30), (1, 30), (1, 30), (1, 30), (1, 30), (1, 30), (1, 30), (1, 30), (1, 30), (1, 30), (1, 30), (1, 30), (1, 30), (1, 30), (1, 30), (1, 30), (1, 30), (1, 30), (1, 30), (1, 30), (1, 30), (1, 30), (1, 30), (1, 30), (1, 30), (1, 30), (1, 30), (1, 30), (1, 30), (1, 30), (1, 30), (1, 30), (1, 30), (1, 30), (1, 30), (1, 30), (1, 30), (1, 30), (1, 30), (1, 30), (1, 30), (1, 30), (1, 30), (1, 30), (1, 30), (1, 30), (1, 30), (1, 30), (1, 30), (1, 30), (1, 30), (1, 30), (1, 30), (1, 30), (1, 30), (1, 30), (1, 30), (1, 30), (1, 30), (1, 30), (1, 30), (1, 30), (1, 30), (1, 30), (1, 30), (1, 30), (1, 30), (1, 30), (1, 30), (1, 30), (1, 30), (1, 30), (1, 30), (1, 30), (1, 30), (1, 30), (1, 30), (1, 30), (1, 30), (1, 30), (1, 30), (1, 30), (1, 30), (1, 30), (1, 30), (1, 30), (1, 30), (1, 30), (1, 30), (1, 30), (1, 30), (1, 30), (1, 30), (1, 30), (1, 30), (1, 30), (1, 30), (1, 30), (1, 30), (1, 30), (1, 30), (1, 30), (1, 30), (1, 30), (1, 30), (1, 30), (1, 30), (1, 30), (1, 30), (1, 30), (1, 30), (1, 30), (1, 30), (1, 30), (1, 30), (1, 30), (1, 30), (1, 30), (1, 30), (1, 30), (1, 30), (1, 30), (1, 30), (1, 30), (1, 30), (1, 30), (1, 30), (1, 30), (1, 30), (1, 30), (1, 30), (1, 30), (1, 30), (1, 30), (1, 30), (1, 30), (1, 30), (1, 30), (1, 30), (1, 30), (1, 30), (1, 30), (1, 30), (1, 10)]\n"
     ]
    },
    {
     "name": "stdin",
     "output_type": "stream",
     "text": [
      "ipdb>  self.cfg.batch_size\n"
     ]
    },
    {
     "name": "stdout",
     "output_type": "stream",
     "text": [
      "30\n"
     ]
    },
    {
     "name": "stdin",
     "output_type": "stream",
     "text": [
      "ipdb>  times[0].shape[0] == self.cfg.batch_size\n"
     ]
    },
    {
     "name": "stdout",
     "output_type": "stream",
     "text": [
      "False\n"
     ]
    },
    {
     "name": "stdin",
     "output_type": "stream",
     "text": [
      "ipdb>  (times if times[0].shape[0] == self.cfg.batch_size else times.T).shape\n"
     ]
    },
    {
     "name": "stdout",
     "output_type": "stream",
     "text": [
      "(10, 1)\n"
     ]
    },
    {
     "name": "stdin",
     "output_type": "stream",
     "text": [
      "ipdb>  [k.shape for k in out[y]]\n"
     ]
    },
    {
     "name": "stdout",
     "output_type": "stream",
     "text": [
      "[]\n"
     ]
    },
    {
     "name": "stdin",
     "output_type": "stream",
     "text": [
      "ipdb>  [k.shape for k in out[\"y\"]]\n"
     ]
    },
    {
     "name": "stdout",
     "output_type": "stream",
     "text": [
      "[]\n"
     ]
    },
    {
     "name": "stdin",
     "output_type": "stream",
     "text": [
      "ipdb>  out.keys()\n"
     ]
    },
    {
     "name": "stdout",
     "output_type": "stream",
     "text": [
      "dict_keys(['sim', 'obs', 'time', 'pixel', tensor([[[-0.1283]],\n",
      "\n",
      "        [[-0.5160]],\n",
      "\n",
      "        [[-1.4322]],\n",
      "\n",
      "        [[ 1.4223]],\n",
      "\n",
      "        [[-0.3750]],\n",
      "\n",
      "        [[-1.6789]],\n",
      "\n",
      "        [[ 1.3870]],\n",
      "\n",
      "        [[ 0.6822]],\n",
      "\n",
      "        [[-1.7846]],\n",
      "\n",
      "        [[ 0.2241]]]), 'y'])\n"
     ]
    },
    {
     "name": "stdin",
     "output_type": "stream",
     "text": [
      "ipdb>  [k.shape for k in out[\"obs\"]]\n"
     ]
    },
    {
     "name": "stdout",
     "output_type": "stream",
     "text": [
      "[(30, 1, 1), (30, 1, 1), (30, 1, 1), (30, 1, 1), (30, 1, 1), (30, 1, 1), (30, 1, 1), (30, 1, 1), (30, 1, 1), (30, 1, 1), (30, 1, 1), (30, 1, 1), (30, 1, 1), (30, 1, 1), (30, 1, 1), (30, 1, 1), (30, 1, 1), (30, 1, 1), (30, 1, 1), (30, 1, 1), (30, 1, 1), (30, 1, 1), (30, 1, 1), (30, 1, 1), (30, 1, 1), (30, 1, 1), (30, 1, 1), (30, 1, 1), (30, 1, 1), (30, 1, 1), (30, 1, 1), (30, 1, 1), (30, 1, 1), (30, 1, 1), (30, 1, 1), (30, 1, 1), (30, 1, 1), (30, 1, 1), (30, 1, 1), (30, 1, 1), (30, 1, 1), (30, 1, 1), (30, 1, 1), (30, 1, 1), (30, 1, 1), (30, 1, 1), (30, 1, 1), (30, 1, 1), (30, 1, 1), (30, 1, 1), (30, 1, 1), (30, 1, 1), (30, 1, 1), (30, 1, 1), (30, 1, 1), (30, 1, 1), (30, 1, 1), (30, 1, 1), (30, 1, 1), (30, 1, 1), (30, 1, 1), (30, 1, 1), (30, 1, 1), (30, 1, 1), (30, 1, 1), (30, 1, 1), (30, 1, 1), (30, 1, 1), (30, 1, 1), (30, 1, 1), (30, 1, 1), (30, 1, 1), (30, 1, 1), (30, 1, 1), (30, 1, 1), (30, 1, 1), (30, 1, 1), (30, 1, 1), (30, 1, 1), (30, 1, 1), (30, 1, 1), (30, 1, 1), (30, 1, 1), (30, 1, 1), (30, 1, 1), (30, 1, 1), (30, 1, 1), (30, 1, 1), (30, 1, 1), (30, 1, 1), (30, 1, 1), (30, 1, 1), (30, 1, 1), (30, 1, 1), (30, 1, 1), (30, 1, 1), (30, 1, 1), (30, 1, 1), (30, 1, 1), (30, 1, 1), (30, 1, 1), (30, 1, 1), (30, 1, 1), (30, 1, 1), (30, 1, 1), (30, 1, 1), (30, 1, 1), (30, 1, 1), (30, 1, 1), (30, 1, 1), (30, 1, 1), (30, 1, 1), (30, 1, 1), (30, 1, 1), (30, 1, 1), (30, 1, 1), (30, 1, 1), (30, 1, 1), (30, 1, 1), (30, 1, 1), (30, 1, 1), (30, 1, 1), (30, 1, 1), (30, 1, 1), (30, 1, 1), (30, 1, 1), (30, 1, 1), (30, 1, 1), (30, 1, 1), (30, 1, 1), (30, 1, 1), (30, 1, 1), (30, 1, 1), (30, 1, 1), (30, 1, 1), (30, 1, 1), (30, 1, 1), (30, 1, 1), (30, 1, 1), (30, 1, 1), (30, 1, 1), (30, 1, 1), (30, 1, 1), (30, 1, 1), (30, 1, 1), (30, 1, 1), (30, 1, 1), (30, 1, 1), (30, 1, 1), (30, 1, 1), (30, 1, 1), (30, 1, 1), (30, 1, 1), (30, 1, 1), (30, 1, 1), (30, 1, 1), (30, 1, 1), (30, 1, 1), (30, 1, 1), (30, 1, 1), (30, 1, 1), (30, 1, 1), (30, 1, 1), (30, 1, 1), (30, 1, 1), (30, 1, 1), (30, 1, 1), (30, 1, 1), (30, 1, 1), (30, 1, 1), (30, 1, 1), (30, 1, 1), (30, 1, 1), (30, 1, 1), (30, 1, 1), (30, 1, 1), (30, 1, 1), (30, 1, 1), (30, 1, 1), (30, 1, 1), (30, 1, 1), (30, 1, 1), (30, 1, 1), (30, 1, 1), (30, 1, 1), (30, 1, 1), (30, 1, 1), (30, 1, 1), (30, 1, 1), (30, 1, 1), (30, 1, 1), (30, 1, 1), (30, 1, 1), (10, 1, 1)]\n"
     ]
    },
    {
     "name": "stdin",
     "output_type": "stream",
     "text": [
      "ipdb>  [k.shape for k in out[\"sim\"]]\n"
     ]
    },
    {
     "name": "stdout",
     "output_type": "stream",
     "text": [
      "[(30, 1, 1), (30, 1, 1), (30, 1, 1), (30, 1, 1), (30, 1, 1), (30, 1, 1), (30, 1, 1), (30, 1, 1), (30, 1, 1), (30, 1, 1), (30, 1, 1), (30, 1, 1), (30, 1, 1), (30, 1, 1), (30, 1, 1), (30, 1, 1), (30, 1, 1), (30, 1, 1), (30, 1, 1), (30, 1, 1), (30, 1, 1), (30, 1, 1), (30, 1, 1), (30, 1, 1), (30, 1, 1), (30, 1, 1), (30, 1, 1), (30, 1, 1), (30, 1, 1), (30, 1, 1), (30, 1, 1), (30, 1, 1), (30, 1, 1), (30, 1, 1), (30, 1, 1), (30, 1, 1), (30, 1, 1), (30, 1, 1), (30, 1, 1), (30, 1, 1), (30, 1, 1), (30, 1, 1), (30, 1, 1), (30, 1, 1), (30, 1, 1), (30, 1, 1), (30, 1, 1), (30, 1, 1), (30, 1, 1), (30, 1, 1), (30, 1, 1), (30, 1, 1), (30, 1, 1), (30, 1, 1), (30, 1, 1), (30, 1, 1), (30, 1, 1), (30, 1, 1), (30, 1, 1), (30, 1, 1), (30, 1, 1), (30, 1, 1), (30, 1, 1), (30, 1, 1), (30, 1, 1), (30, 1, 1), (30, 1, 1), (30, 1, 1), (30, 1, 1), (30, 1, 1), (30, 1, 1), (30, 1, 1), (30, 1, 1), (30, 1, 1), (30, 1, 1), (30, 1, 1), (30, 1, 1), (30, 1, 1), (30, 1, 1), (30, 1, 1), (30, 1, 1), (30, 1, 1), (30, 1, 1), (30, 1, 1), (30, 1, 1), (30, 1, 1), (30, 1, 1), (30, 1, 1), (30, 1, 1), (30, 1, 1), (30, 1, 1), (30, 1, 1), (30, 1, 1), (30, 1, 1), (30, 1, 1), (30, 1, 1), (30, 1, 1), (30, 1, 1), (30, 1, 1), (30, 1, 1), (30, 1, 1), (30, 1, 1), (30, 1, 1), (30, 1, 1), (30, 1, 1), (30, 1, 1), (30, 1, 1), (30, 1, 1), (30, 1, 1), (30, 1, 1), (30, 1, 1), (30, 1, 1), (30, 1, 1), (30, 1, 1), (30, 1, 1), (30, 1, 1), (30, 1, 1), (30, 1, 1), (30, 1, 1), (30, 1, 1), (30, 1, 1), (30, 1, 1), (30, 1, 1), (30, 1, 1), (30, 1, 1), (30, 1, 1), (30, 1, 1), (30, 1, 1), (30, 1, 1), (30, 1, 1), (30, 1, 1), (30, 1, 1), (30, 1, 1), (30, 1, 1), (30, 1, 1), (30, 1, 1), (30, 1, 1), (30, 1, 1), (30, 1, 1), (30, 1, 1), (30, 1, 1), (30, 1, 1), (30, 1, 1), (30, 1, 1), (30, 1, 1), (30, 1, 1), (30, 1, 1), (30, 1, 1), (30, 1, 1), (30, 1, 1), (30, 1, 1), (30, 1, 1), (30, 1, 1), (30, 1, 1), (30, 1, 1), (30, 1, 1), (30, 1, 1), (30, 1, 1), (30, 1, 1), (30, 1, 1), (30, 1, 1), (30, 1, 1), (30, 1, 1), (30, 1, 1), (30, 1, 1), (30, 1, 1), (30, 1, 1), (30, 1, 1), (30, 1, 1), (30, 1, 1), (30, 1, 1), (30, 1, 1), (30, 1, 1), (30, 1, 1), (30, 1, 1), (30, 1, 1), (30, 1, 1), (30, 1, 1), (30, 1, 1), (30, 1, 1), (30, 1, 1), (30, 1, 1), (30, 1, 1), (30, 1, 1), (30, 1, 1), (30, 1, 1), (30, 1, 1), (30, 1, 1), (30, 1, 1), (30, 1, 1), (30, 1, 1), (30, 1, 1), (30, 1, 1), (10, 1, 1)]\n"
     ]
    },
    {
     "name": "stdin",
     "output_type": "stream",
     "text": [
      "ipdb>  [k.shape for k in out[\"pixel\"]]\n"
     ]
    },
    {
     "name": "stdout",
     "output_type": "stream",
     "text": [
      "[(30,), (30,), (30,), (30,), (30,), (30,), (30,), (30,), (30,), (30,), (30,), (30,), (30,), (30,), (30,), (30,), (30,), (30,), (30,), (30,), (30,), (30,), (30,), (30,), (30,), (30,), (30,), (30,), (30,), (30,), (30,), (30,), (30,), (30,), (30,), (30,), (30,), (30,), (30,), (30,), (30,), (30,), (30,), (30,), (30,), (30,), (30,), (30,), (30,), (30,), (30,), (30,), (30,), (30,), (30,), (30,), (30,), (30,), (30,), (30,), (30,), (30,), (30,), (30,), (30,), (30,), (30,), (30,), (30,), (30,), (30,), (30,), (30,), (30,), (30,), (30,), (30,), (30,), (30,), (30,), (30,), (30,), (30,), (30,), (30,), (30,), (30,), (30,), (30,), (30,), (30,), (30,), (30,), (30,), (30,), (30,), (30,), (30,), (30,), (30,), (30,), (30,), (30,), (30,), (30,), (30,), (30,), (30,), (30,), (30,), (30,), (30,), (30,), (30,), (30,), (30,), (30,), (30,), (30,), (30,), (30,), (30,), (30,), (30,), (30,), (30,), (30,), (30,), (30,), (30,), (30,), (30,), (30,), (30,), (30,), (30,), (30,), (30,), (30,), (30,), (30,), (30,), (30,), (30,), (30,), (30,), (30,), (30,), (30,), (30,), (30,), (30,), (30,), (30,), (30,), (30,), (30,), (30,), (30,), (30,), (30,), (30,), (30,), (30,), (30,), (30,), (30,), (30,), (30,), (30,), (30,), (30,), (30,), (30,), (30,), (30,), (30,), (30,), (30,), (30,), (30,), (30,), (30,), (30,), (30,), (30,), (30,), (30,), (30,), (30,), (30,), (30,), (30,), (10,)]\n"
     ]
    }
   ],
   "source": [
    "%debug"
   ]
  },
  {
   "cell_type": "code",
   "execution_count": null,
   "id": "loose-provincial",
   "metadata": {},
   "outputs": [],
   "source": []
  }
 ],
 "metadata": {
  "kernelspec": {
   "display_name": "Python 3",
   "language": "python",
   "name": "python3"
  },
  "language_info": {
   "codemirror_mode": {
    "name": "ipython",
    "version": 3
   },
   "file_extension": ".py",
   "mimetype": "text/x-python",
   "name": "python",
   "nbconvert_exporter": "python",
   "pygments_lexer": "ipython3",
   "version": "3.8.5"
  }
 },
 "nbformat": 4,
 "nbformat_minor": 5
}
