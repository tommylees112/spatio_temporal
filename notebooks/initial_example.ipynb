{
 "cells": [
  {
   "cell_type": "markdown",
   "id": "1985ec41",
   "metadata": {},
   "source": [
    "# Linear Dataset where t=1 is a linear function of t=0"
   ]
  },
  {
   "cell_type": "code",
   "execution_count": 1,
   "id": "8d16e13c",
   "metadata": {},
   "outputs": [],
   "source": [
    "import xarray as xr\n",
    "import pandas as pd\n",
    "import numpy as np\n",
    "from pathlib import Path\n",
    "import pickle\n",
    "import matplotlib.pyplot as plt\n",
    "import seaborn as sns \n",
    "\n",
    "base_dir = Path(\".\").absolute().parents[0]\n",
    "import sys\n",
    "\n",
    "if sys.path[0] != base_dir.as_posix():\n",
    "    sys.path = [base_dir.as_posix()] + sys.path"
   ]
  },
  {
   "cell_type": "code",
   "execution_count": 2,
   "id": "1aaa31cc",
   "metadata": {},
   "outputs": [],
   "source": [
    "from spatio_temporal.config import Config\n",
    "from spatio_temporal.training.trainer import Trainer\n",
    "from spatio_temporal.training.tester import Tester\n",
    "from tests.utils import (\n",
    "    create_linear_ds,\n",
    "    _test_sklearn_model,\n",
    "    get_pollution_data_beijing,\n",
    ")\n",
    "from spatio_temporal.data.data_utils import _stack_xarray\n",
    "from spatio_temporal.training.eval_utils import _plot_loss_curves, save_losses"
   ]
  },
  {
   "cell_type": "markdown",
   "id": "b75b4a1e",
   "metadata": {},
   "source": [
    "# Load in Data"
   ]
  },
  {
   "cell_type": "code",
   "execution_count": 3,
   "id": "2eb085fc",
   "metadata": {},
   "outputs": [
    {
     "data": {
      "text/html": [
       "<div><svg style=\"position: absolute; width: 0; height: 0; overflow: hidden\">\n",
       "<defs>\n",
       "<symbol id=\"icon-database\" viewBox=\"0 0 32 32\">\n",
       "<path d=\"M16 0c-8.837 0-16 2.239-16 5v4c0 2.761 7.163 5 16 5s16-2.239 16-5v-4c0-2.761-7.163-5-16-5z\"></path>\n",
       "<path d=\"M16 17c-8.837 0-16-2.239-16-5v6c0 2.761 7.163 5 16 5s16-2.239 16-5v-6c0 2.761-7.163 5-16 5z\"></path>\n",
       "<path d=\"M16 26c-8.837 0-16-2.239-16-5v6c0 2.761 7.163 5 16 5s16-2.239 16-5v-6c0 2.761-7.163 5-16 5z\"></path>\n",
       "</symbol>\n",
       "<symbol id=\"icon-file-text2\" viewBox=\"0 0 32 32\">\n",
       "<path d=\"M28.681 7.159c-0.694-0.947-1.662-2.053-2.724-3.116s-2.169-2.030-3.116-2.724c-1.612-1.182-2.393-1.319-2.841-1.319h-15.5c-1.378 0-2.5 1.121-2.5 2.5v27c0 1.378 1.122 2.5 2.5 2.5h23c1.378 0 2.5-1.122 2.5-2.5v-19.5c0-0.448-0.137-1.23-1.319-2.841zM24.543 5.457c0.959 0.959 1.712 1.825 2.268 2.543h-4.811v-4.811c0.718 0.556 1.584 1.309 2.543 2.268zM28 29.5c0 0.271-0.229 0.5-0.5 0.5h-23c-0.271 0-0.5-0.229-0.5-0.5v-27c0-0.271 0.229-0.5 0.5-0.5 0 0 15.499-0 15.5 0v7c0 0.552 0.448 1 1 1h7v19.5z\"></path>\n",
       "<path d=\"M23 26h-14c-0.552 0-1-0.448-1-1s0.448-1 1-1h14c0.552 0 1 0.448 1 1s-0.448 1-1 1z\"></path>\n",
       "<path d=\"M23 22h-14c-0.552 0-1-0.448-1-1s0.448-1 1-1h14c0.552 0 1 0.448 1 1s-0.448 1-1 1z\"></path>\n",
       "<path d=\"M23 18h-14c-0.552 0-1-0.448-1-1s0.448-1 1-1h14c0.552 0 1 0.448 1 1s-0.448 1-1 1z\"></path>\n",
       "</symbol>\n",
       "</defs>\n",
       "</svg>\n",
       "<style>/* CSS stylesheet for displaying xarray objects in jupyterlab.\n",
       " *\n",
       " */\n",
       "\n",
       ":root {\n",
       "  --xr-font-color0: var(--jp-content-font-color0, rgba(0, 0, 0, 1));\n",
       "  --xr-font-color2: var(--jp-content-font-color2, rgba(0, 0, 0, 0.54));\n",
       "  --xr-font-color3: var(--jp-content-font-color3, rgba(0, 0, 0, 0.38));\n",
       "  --xr-border-color: var(--jp-border-color2, #e0e0e0);\n",
       "  --xr-disabled-color: var(--jp-layout-color3, #bdbdbd);\n",
       "  --xr-background-color: var(--jp-layout-color0, white);\n",
       "  --xr-background-color-row-even: var(--jp-layout-color1, white);\n",
       "  --xr-background-color-row-odd: var(--jp-layout-color2, #eeeeee);\n",
       "}\n",
       "\n",
       "html[theme=dark],\n",
       "body.vscode-dark {\n",
       "  --xr-font-color0: rgba(255, 255, 255, 1);\n",
       "  --xr-font-color2: rgba(255, 255, 255, 0.54);\n",
       "  --xr-font-color3: rgba(255, 255, 255, 0.38);\n",
       "  --xr-border-color: #1F1F1F;\n",
       "  --xr-disabled-color: #515151;\n",
       "  --xr-background-color: #111111;\n",
       "  --xr-background-color-row-even: #111111;\n",
       "  --xr-background-color-row-odd: #313131;\n",
       "}\n",
       "\n",
       ".xr-wrap {\n",
       "  display: block;\n",
       "  min-width: 300px;\n",
       "  max-width: 700px;\n",
       "}\n",
       "\n",
       ".xr-text-repr-fallback {\n",
       "  /* fallback to plain text repr when CSS is not injected (untrusted notebook) */\n",
       "  display: none;\n",
       "}\n",
       "\n",
       ".xr-header {\n",
       "  padding-top: 6px;\n",
       "  padding-bottom: 6px;\n",
       "  margin-bottom: 4px;\n",
       "  border-bottom: solid 1px var(--xr-border-color);\n",
       "}\n",
       "\n",
       ".xr-header > div,\n",
       ".xr-header > ul {\n",
       "  display: inline;\n",
       "  margin-top: 0;\n",
       "  margin-bottom: 0;\n",
       "}\n",
       "\n",
       ".xr-obj-type,\n",
       ".xr-array-name {\n",
       "  margin-left: 2px;\n",
       "  margin-right: 10px;\n",
       "}\n",
       "\n",
       ".xr-obj-type {\n",
       "  color: var(--xr-font-color2);\n",
       "}\n",
       "\n",
       ".xr-sections {\n",
       "  padding-left: 0 !important;\n",
       "  display: grid;\n",
       "  grid-template-columns: 150px auto auto 1fr 20px 20px;\n",
       "}\n",
       "\n",
       ".xr-section-item {\n",
       "  display: contents;\n",
       "}\n",
       "\n",
       ".xr-section-item input {\n",
       "  display: none;\n",
       "}\n",
       "\n",
       ".xr-section-item input + label {\n",
       "  color: var(--xr-disabled-color);\n",
       "}\n",
       "\n",
       ".xr-section-item input:enabled + label {\n",
       "  cursor: pointer;\n",
       "  color: var(--xr-font-color2);\n",
       "}\n",
       "\n",
       ".xr-section-item input:enabled + label:hover {\n",
       "  color: var(--xr-font-color0);\n",
       "}\n",
       "\n",
       ".xr-section-summary {\n",
       "  grid-column: 1;\n",
       "  color: var(--xr-font-color2);\n",
       "  font-weight: 500;\n",
       "}\n",
       "\n",
       ".xr-section-summary > span {\n",
       "  display: inline-block;\n",
       "  padding-left: 0.5em;\n",
       "}\n",
       "\n",
       ".xr-section-summary-in:disabled + label {\n",
       "  color: var(--xr-font-color2);\n",
       "}\n",
       "\n",
       ".xr-section-summary-in + label:before {\n",
       "  display: inline-block;\n",
       "  content: '►';\n",
       "  font-size: 11px;\n",
       "  width: 15px;\n",
       "  text-align: center;\n",
       "}\n",
       "\n",
       ".xr-section-summary-in:disabled + label:before {\n",
       "  color: var(--xr-disabled-color);\n",
       "}\n",
       "\n",
       ".xr-section-summary-in:checked + label:before {\n",
       "  content: '▼';\n",
       "}\n",
       "\n",
       ".xr-section-summary-in:checked + label > span {\n",
       "  display: none;\n",
       "}\n",
       "\n",
       ".xr-section-summary,\n",
       ".xr-section-inline-details {\n",
       "  padding-top: 4px;\n",
       "  padding-bottom: 4px;\n",
       "}\n",
       "\n",
       ".xr-section-inline-details {\n",
       "  grid-column: 2 / -1;\n",
       "}\n",
       "\n",
       ".xr-section-details {\n",
       "  display: none;\n",
       "  grid-column: 1 / -1;\n",
       "  margin-bottom: 5px;\n",
       "}\n",
       "\n",
       ".xr-section-summary-in:checked ~ .xr-section-details {\n",
       "  display: contents;\n",
       "}\n",
       "\n",
       ".xr-array-wrap {\n",
       "  grid-column: 1 / -1;\n",
       "  display: grid;\n",
       "  grid-template-columns: 20px auto;\n",
       "}\n",
       "\n",
       ".xr-array-wrap > label {\n",
       "  grid-column: 1;\n",
       "  vertical-align: top;\n",
       "}\n",
       "\n",
       ".xr-preview {\n",
       "  color: var(--xr-font-color3);\n",
       "}\n",
       "\n",
       ".xr-array-preview,\n",
       ".xr-array-data {\n",
       "  padding: 0 5px !important;\n",
       "  grid-column: 2;\n",
       "}\n",
       "\n",
       ".xr-array-data,\n",
       ".xr-array-in:checked ~ .xr-array-preview {\n",
       "  display: none;\n",
       "}\n",
       "\n",
       ".xr-array-in:checked ~ .xr-array-data,\n",
       ".xr-array-preview {\n",
       "  display: inline-block;\n",
       "}\n",
       "\n",
       ".xr-dim-list {\n",
       "  display: inline-block !important;\n",
       "  list-style: none;\n",
       "  padding: 0 !important;\n",
       "  margin: 0;\n",
       "}\n",
       "\n",
       ".xr-dim-list li {\n",
       "  display: inline-block;\n",
       "  padding: 0;\n",
       "  margin: 0;\n",
       "}\n",
       "\n",
       ".xr-dim-list:before {\n",
       "  content: '(';\n",
       "}\n",
       "\n",
       ".xr-dim-list:after {\n",
       "  content: ')';\n",
       "}\n",
       "\n",
       ".xr-dim-list li:not(:last-child):after {\n",
       "  content: ',';\n",
       "  padding-right: 5px;\n",
       "}\n",
       "\n",
       ".xr-has-index {\n",
       "  font-weight: bold;\n",
       "}\n",
       "\n",
       ".xr-var-list,\n",
       ".xr-var-item {\n",
       "  display: contents;\n",
       "}\n",
       "\n",
       ".xr-var-item > div,\n",
       ".xr-var-item label,\n",
       ".xr-var-item > .xr-var-name span {\n",
       "  background-color: var(--xr-background-color-row-even);\n",
       "  margin-bottom: 0;\n",
       "}\n",
       "\n",
       ".xr-var-item > .xr-var-name:hover span {\n",
       "  padding-right: 5px;\n",
       "}\n",
       "\n",
       ".xr-var-list > li:nth-child(odd) > div,\n",
       ".xr-var-list > li:nth-child(odd) > label,\n",
       ".xr-var-list > li:nth-child(odd) > .xr-var-name span {\n",
       "  background-color: var(--xr-background-color-row-odd);\n",
       "}\n",
       "\n",
       ".xr-var-name {\n",
       "  grid-column: 1;\n",
       "}\n",
       "\n",
       ".xr-var-dims {\n",
       "  grid-column: 2;\n",
       "}\n",
       "\n",
       ".xr-var-dtype {\n",
       "  grid-column: 3;\n",
       "  text-align: right;\n",
       "  color: var(--xr-font-color2);\n",
       "}\n",
       "\n",
       ".xr-var-preview {\n",
       "  grid-column: 4;\n",
       "}\n",
       "\n",
       ".xr-var-name,\n",
       ".xr-var-dims,\n",
       ".xr-var-dtype,\n",
       ".xr-preview,\n",
       ".xr-attrs dt {\n",
       "  white-space: nowrap;\n",
       "  overflow: hidden;\n",
       "  text-overflow: ellipsis;\n",
       "  padding-right: 10px;\n",
       "}\n",
       "\n",
       ".xr-var-name:hover,\n",
       ".xr-var-dims:hover,\n",
       ".xr-var-dtype:hover,\n",
       ".xr-attrs dt:hover {\n",
       "  overflow: visible;\n",
       "  width: auto;\n",
       "  z-index: 1;\n",
       "}\n",
       "\n",
       ".xr-var-attrs,\n",
       ".xr-var-data {\n",
       "  display: none;\n",
       "  background-color: var(--xr-background-color) !important;\n",
       "  padding-bottom: 5px !important;\n",
       "}\n",
       "\n",
       ".xr-var-attrs-in:checked ~ .xr-var-attrs,\n",
       ".xr-var-data-in:checked ~ .xr-var-data {\n",
       "  display: block;\n",
       "}\n",
       "\n",
       ".xr-var-data > table {\n",
       "  float: right;\n",
       "}\n",
       "\n",
       ".xr-var-name span,\n",
       ".xr-var-data,\n",
       ".xr-attrs {\n",
       "  padding-left: 25px !important;\n",
       "}\n",
       "\n",
       ".xr-attrs,\n",
       ".xr-var-attrs,\n",
       ".xr-var-data {\n",
       "  grid-column: 1 / -1;\n",
       "}\n",
       "\n",
       "dl.xr-attrs {\n",
       "  padding: 0;\n",
       "  margin: 0;\n",
       "  display: grid;\n",
       "  grid-template-columns: 125px auto;\n",
       "}\n",
       "\n",
       ".xr-attrs dt,\n",
       ".xr-attrs dd {\n",
       "  padding: 0;\n",
       "  margin: 0;\n",
       "  float: left;\n",
       "  padding-right: 10px;\n",
       "  width: auto;\n",
       "}\n",
       "\n",
       ".xr-attrs dt {\n",
       "  font-weight: normal;\n",
       "  grid-column: 1;\n",
       "}\n",
       "\n",
       ".xr-attrs dt:hover span {\n",
       "  display: inline-block;\n",
       "  background: var(--xr-background-color);\n",
       "  padding-right: 10px;\n",
       "}\n",
       "\n",
       ".xr-attrs dd {\n",
       "  grid-column: 2;\n",
       "  white-space: pre-wrap;\n",
       "  word-break: break-all;\n",
       "}\n",
       "\n",
       ".xr-icon-database,\n",
       ".xr-icon-file-text2 {\n",
       "  display: inline-block;\n",
       "  vertical-align: middle;\n",
       "  width: 1em;\n",
       "  height: 1.5em !important;\n",
       "  stroke-width: 0;\n",
       "  stroke: currentColor;\n",
       "  fill: currentColor;\n",
       "}\n",
       "</style><pre class='xr-text-repr-fallback'>&lt;xarray.Dataset&gt;\n",
       "Dimensions:  (lat: 10, lon: 10, time: 252)\n",
       "Coordinates:\n",
       "  * lat      (lat) float64 -55.15 -40.69 -26.22 -11.76 ... 46.1 60.56 75.02\n",
       "  * lon      (lon) float64 -180.0 -140.0 -100.0 -60.0 ... 60.0 100.0 140.0 180.0\n",
       "  * time     (time) datetime64[ns] 2000-01-31 2000-02-29 ... 2020-12-31\n",
       "Data variables:\n",
       "    feature  (lat, lon, time) float64 33.0 11.0 16.0 17.0 ... 45.0 13.0 36.0 nan\n",
       "    target   (lat, lon, time) float64 204.5 105.2 23.71 ... 154.5 48.1 125.8</pre><div class='xr-wrap' hidden><div class='xr-header'><div class='xr-obj-type'>xarray.Dataset</div></div><ul class='xr-sections'><li class='xr-section-item'><input id='section-5f961f24-dd95-4588-a47e-2c82c3d04852' class='xr-section-summary-in' type='checkbox' disabled ><label for='section-5f961f24-dd95-4588-a47e-2c82c3d04852' class='xr-section-summary'  title='Expand/collapse section'>Dimensions:</label><div class='xr-section-inline-details'><ul class='xr-dim-list'><li><span class='xr-has-index'>lat</span>: 10</li><li><span class='xr-has-index'>lon</span>: 10</li><li><span class='xr-has-index'>time</span>: 252</li></ul></div><div class='xr-section-details'></div></li><li class='xr-section-item'><input id='section-f31d21d6-b634-47c7-bb5b-00bf9c1168fc' class='xr-section-summary-in' type='checkbox'  checked><label for='section-f31d21d6-b634-47c7-bb5b-00bf9c1168fc' class='xr-section-summary' >Coordinates: <span>(3)</span></label><div class='xr-section-inline-details'></div><div class='xr-section-details'><ul class='xr-var-list'><li class='xr-var-item'><div class='xr-var-name'><span class='xr-has-index'>lat</span></div><div class='xr-var-dims'>(lat)</div><div class='xr-var-dtype'>float64</div><div class='xr-var-preview xr-preview'>-55.15 -40.69 ... 60.56 75.02</div><input id='attrs-b3a7078c-4318-4f3f-a724-f317a87f6abd' class='xr-var-attrs-in' type='checkbox' disabled><label for='attrs-b3a7078c-4318-4f3f-a724-f317a87f6abd' title='Show/Hide attributes'><svg class='icon xr-icon-file-text2'><use xlink:href='#icon-file-text2'></use></svg></label><input id='data-d8673e15-43dc-4240-af3f-c50998b1608a' class='xr-var-data-in' type='checkbox'><label for='data-d8673e15-43dc-4240-af3f-c50998b1608a' title='Show/Hide data repr'><svg class='icon xr-icon-database'><use xlink:href='#icon-database'></use></svg></label><div class='xr-var-attrs'><dl class='xr-attrs'></dl></div><div class='xr-var-data'><pre>array([-55.152, -40.688, -26.224, -11.76 ,   2.704,  17.168,  31.632,  46.096,\n",
       "        60.56 ,  75.024])</pre></div></li><li class='xr-var-item'><div class='xr-var-name'><span class='xr-has-index'>lon</span></div><div class='xr-var-dims'>(lon)</div><div class='xr-var-dtype'>float64</div><div class='xr-var-preview xr-preview'>-180.0 -140.0 ... 140.0 180.0</div><input id='attrs-7e0e8d4f-de62-4c49-ba97-ea5a6287dd36' class='xr-var-attrs-in' type='checkbox' disabled><label for='attrs-7e0e8d4f-de62-4c49-ba97-ea5a6287dd36' title='Show/Hide attributes'><svg class='icon xr-icon-file-text2'><use xlink:href='#icon-file-text2'></use></svg></label><input id='data-db84ab28-b483-4869-8815-22b94e0c56d3' class='xr-var-data-in' type='checkbox'><label for='data-db84ab28-b483-4869-8815-22b94e0c56d3' title='Show/Hide data repr'><svg class='icon xr-icon-database'><use xlink:href='#icon-database'></use></svg></label><div class='xr-var-attrs'><dl class='xr-attrs'></dl></div><div class='xr-var-data'><pre>array([-180., -140., -100.,  -60.,  -20.,   20.,   60.,  100.,  140.,  180.])</pre></div></li><li class='xr-var-item'><div class='xr-var-name'><span class='xr-has-index'>time</span></div><div class='xr-var-dims'>(time)</div><div class='xr-var-dtype'>datetime64[ns]</div><div class='xr-var-preview xr-preview'>2000-01-31 ... 2020-12-31</div><input id='attrs-4f8d2b5a-360c-4d29-a13c-8e52b24a63db' class='xr-var-attrs-in' type='checkbox' disabled><label for='attrs-4f8d2b5a-360c-4d29-a13c-8e52b24a63db' title='Show/Hide attributes'><svg class='icon xr-icon-file-text2'><use xlink:href='#icon-file-text2'></use></svg></label><input id='data-13574022-8595-4b60-9e06-26fcd196e604' class='xr-var-data-in' type='checkbox'><label for='data-13574022-8595-4b60-9e06-26fcd196e604' title='Show/Hide data repr'><svg class='icon xr-icon-database'><use xlink:href='#icon-database'></use></svg></label><div class='xr-var-attrs'><dl class='xr-attrs'></dl></div><div class='xr-var-data'><pre>array([&#x27;2000-01-31T00:00:00.000000000&#x27;, &#x27;2000-02-29T00:00:00.000000000&#x27;,\n",
       "       &#x27;2000-03-31T00:00:00.000000000&#x27;, ..., &#x27;2020-10-31T00:00:00.000000000&#x27;,\n",
       "       &#x27;2020-11-30T00:00:00.000000000&#x27;, &#x27;2020-12-31T00:00:00.000000000&#x27;],\n",
       "      dtype=&#x27;datetime64[ns]&#x27;)</pre></div></li></ul></div></li><li class='xr-section-item'><input id='section-826b11e3-2229-4d40-be8a-64e6a533382f' class='xr-section-summary-in' type='checkbox'  checked><label for='section-826b11e3-2229-4d40-be8a-64e6a533382f' class='xr-section-summary' >Data variables: <span>(2)</span></label><div class='xr-section-inline-details'></div><div class='xr-section-details'><ul class='xr-var-list'><li class='xr-var-item'><div class='xr-var-name'><span>feature</span></div><div class='xr-var-dims'>(lat, lon, time)</div><div class='xr-var-dtype'>float64</div><div class='xr-var-preview xr-preview'>33.0 11.0 16.0 ... 13.0 36.0 nan</div><input id='attrs-63448909-6705-4174-ae37-d37506ad1ab3' class='xr-var-attrs-in' type='checkbox' disabled><label for='attrs-63448909-6705-4174-ae37-d37506ad1ab3' title='Show/Hide attributes'><svg class='icon xr-icon-file-text2'><use xlink:href='#icon-file-text2'></use></svg></label><input id='data-a4063204-4cd9-4d27-9a49-2fb12747808d' class='xr-var-data-in' type='checkbox'><label for='data-a4063204-4cd9-4d27-9a49-2fb12747808d' title='Show/Hide data repr'><svg class='icon xr-icon-database'><use xlink:href='#icon-database'></use></svg></label><div class='xr-var-attrs'><dl class='xr-attrs'></dl></div><div class='xr-var-data'><pre>array([[[33., 11., 16., ..., 58., 58., nan],\n",
       "        [19., 76., 64., ..., 25., 48., nan],\n",
       "        [52., 26., 90., ..., 65., 94., nan],\n",
       "        ...,\n",
       "        [25., 60., 28., ..., 89., 59., nan],\n",
       "        [53., 15., 87., ..., 81.,  8., nan],\n",
       "        [15., 15., 17., ..., 63., 72., nan]],\n",
       "\n",
       "       [[48.,  7., 37., ..., 19., 58., nan],\n",
       "        [42., 65., 68., ..., 38., 38., nan],\n",
       "        [29.,  2., 40., ..., 76., 39., nan],\n",
       "        ...,\n",
       "        [83., 39., 60., ..., 40., 78., nan],\n",
       "        [58., 74., 30., ..., 48., 72., nan],\n",
       "        [19., 72.,  6., ..., 52., 11., nan]],\n",
       "\n",
       "       [[ 5., 30., 62., ..., 95., 47., nan],\n",
       "        [48.,  3., 35., ..., 57., 40., nan],\n",
       "        [67., 17., 92., ..., 70., 66., nan],\n",
       "        ...,\n",
       "...\n",
       "        ...,\n",
       "        [ 7.,  2., 80., ..., 29., 94., nan],\n",
       "        [71., 44.,  2., ..., 40., 64., nan],\n",
       "        [95., 43., 29., ..., 30.,  7., nan]],\n",
       "\n",
       "       [[22., 62., 89., ..., 65., 52., nan],\n",
       "        [73., 30., 36., ..., 72., 96., nan],\n",
       "        [59., 22., 95., ..., 18.,  8., nan],\n",
       "        ...,\n",
       "        [62., 38., 19., ...,  1., 41., nan],\n",
       "        [ 5., 88., 69., ...,  4., 99., nan],\n",
       "        [56., 97., 18., ..., 38., 61., nan]],\n",
       "\n",
       "       [[48., 31., 95., ..., 98., 82., nan],\n",
       "        [49., 76., 18., ..., 58., 71., nan],\n",
       "        [10., 73., 95., ..., 78.,  8., nan],\n",
       "        ...,\n",
       "        [21.,  2., 31., ...,  9., 64., nan],\n",
       "        [95., 69.,  4., ..., 98., 36., nan],\n",
       "        [97., 37., 19., ..., 13., 36., nan]]])</pre></div></li><li class='xr-var-item'><div class='xr-var-name'><span>target</span></div><div class='xr-var-dims'>(lat, lon, time)</div><div class='xr-var-dtype'>float64</div><div class='xr-var-preview xr-preview'>204.5 105.2 23.71 ... 48.1 125.8</div><input id='attrs-a4a0e391-c997-4efa-9a6c-671571e5cce2' class='xr-var-attrs-in' type='checkbox' disabled><label for='attrs-a4a0e391-c997-4efa-9a6c-671571e5cce2' title='Show/Hide attributes'><svg class='icon xr-icon-file-text2'><use xlink:href='#icon-file-text2'></use></svg></label><input id='data-cac2c1e0-ffef-43ee-80dd-f2ee07e9e74d' class='xr-var-data-in' type='checkbox'><label for='data-cac2c1e0-ffef-43ee-80dd-f2ee07e9e74d' title='Show/Hide data repr'><svg class='icon xr-icon-database'><use xlink:href='#icon-database'></use></svg></label><div class='xr-var-attrs'><dl class='xr-attrs'></dl></div><div class='xr-var-data'><pre>array([[[ 2.04539836e+02,  1.05214745e+02,  2.37110386e+01, ...,\n",
       "          2.78579997e+02,  1.90228851e+02,  2.01131425e+02],\n",
       "        [ 1.16829273e+02,  6.50233881e+01,  2.54851574e+02, ...,\n",
       "          1.89800902e+02,  1.03465409e+02,  1.70906209e+02],\n",
       "        [ 1.29723959e+02,  1.79238987e+02,  8.44220431e+01, ...,\n",
       "          2.71710243e+01,  2.41522974e+02,  3.24809897e+02],\n",
       "        ...,\n",
       "        [ 1.45172397e+02,  7.45242689e+01,  2.11226726e+02, ...,\n",
       "          2.99224654e+02,  3.07924308e+02,  1.96717528e+02],\n",
       "        [ 5.22243563e+01,  1.85068077e+02,  3.43193291e+01, ...,\n",
       "          2.15827118e+02,  2.79299488e+02,  2.13004867e+01],\n",
       "        [ 9.09516804e+01,  4.93174227e+01,  5.17289950e+01, ...,\n",
       "          2.29612717e+02,  2.31637930e+02,  2.41271879e+02]],\n",
       "\n",
       "       [[ 9.44401337e+01,  1.74983883e+02,  4.56091101e+00, ...,\n",
       "          9.76061135e+01,  6.15581962e+01,  2.01598993e+02],\n",
       "        [ 1.01590551e+02,  1.32141961e+02,  2.30317356e+02, ...,\n",
       "          1.07340047e+02,  1.23432015e+02,  1.37858835e+02],\n",
       "        [ 2.35195620e+02,  8.35205548e+01,  5.89520902e+00, ...,\n",
       "          1.43679792e+01,  2.72946177e+02,  1.26212405e+02],\n",
       "...\n",
       "        [ 1.75427399e+02,  2.21991253e+02,  1.25827409e+02, ...,\n",
       "          2.23422665e+02,  1.72322696e+01,  1.32192131e+02],\n",
       "        [ 2.88668240e+02,  1.83653587e+01,  3.15494382e+02, ...,\n",
       "          2.04182692e+02,  8.13460368e+00,  3.45083585e+02],\n",
       "        [ 1.94635215e+02,  1.89279095e+02,  3.61791792e+02, ...,\n",
       "          8.28728077e+01,  1.38232407e+02,  2.04406463e+02]],\n",
       "\n",
       "       [[ 3.27813801e+02,  1.56580177e+02,  1.17037699e+02, ...,\n",
       "          3.47739454e+02,  3.46429081e+02,  2.85703690e+02],\n",
       "        [ 2.31386469e+02,  1.68174712e+02,  2.62061573e+02, ...,\n",
       "          2.04997011e+02,  2.04671597e+02,  2.52786396e+02],\n",
       "        [ 2.45438143e+02,  1.57527988e+01,  2.55946091e+02, ...,\n",
       "          2.53025529e+02,  2.88146766e+02,  3.10572360e+01],\n",
       "        ...,\n",
       "        [ 2.31562568e+02,  8.04748800e+01,  1.31869230e+01, ...,\n",
       "          2.65976370e+02,  4.50254592e+01,  2.30316867e+02],\n",
       "        [ 3.11562633e+02,  3.15100132e+02,  2.37873191e+02, ...,\n",
       "          1.76166170e+02,  3.40719334e+02,  1.31545232e+02],\n",
       "        [ 2.94914030e+02,  3.38344963e+02,  1.40624605e+02, ...,\n",
       "          1.54453104e+02,  4.81018570e+01,  1.25766693e+02]]])</pre></div></li></ul></div></li><li class='xr-section-item'><input id='section-a19f0d02-5022-4a4d-850b-6e58c609be62' class='xr-section-summary-in' type='checkbox' disabled ><label for='section-a19f0d02-5022-4a4d-850b-6e58c609be62' class='xr-section-summary'  title='Expand/collapse section'>Attributes: <span>(0)</span></label><div class='xr-section-inline-details'></div><div class='xr-section-details'><dl class='xr-attrs'></dl></div></li></ul></div></div>"
      ],
      "text/plain": [
       "<xarray.Dataset>\n",
       "Dimensions:  (lat: 10, lon: 10, time: 252)\n",
       "Coordinates:\n",
       "  * lat      (lat) float64 -55.15 -40.69 -26.22 -11.76 ... 46.1 60.56 75.02\n",
       "  * lon      (lon) float64 -180.0 -140.0 -100.0 -60.0 ... 60.0 100.0 140.0 180.0\n",
       "  * time     (time) datetime64[ns] 2000-01-31 2000-02-29 ... 2020-12-31\n",
       "Data variables:\n",
       "    feature  (lat, lon, time) float64 33.0 11.0 16.0 17.0 ... 45.0 13.0 36.0 nan\n",
       "    target   (lat, lon, time) float64 204.5 105.2 23.71 ... 154.5 48.1 125.8"
      ]
     },
     "execution_count": 3,
     "metadata": {},
     "output_type": "execute_result"
    }
   ],
   "source": [
    "ds = create_linear_ds(epsilon_sigma=10)\n",
    "ds"
   ]
  },
  {
   "cell_type": "markdown",
   "id": "4b1cf254",
   "metadata": {},
   "source": [
    "# Load in Config File"
   ]
  },
  {
   "cell_type": "code",
   "execution_count": 4,
   "id": "6c63827d",
   "metadata": {},
   "outputs": [
    {
     "data": {
      "text/plain": [
       "{'autoregressive': False,\n",
       " 'batch_size': 100,\n",
       " 'data_dir': PosixPath('data'),\n",
       " 'early_stopping': 2,\n",
       " 'encode_doys': True,\n",
       " 'experiment_name': 'test',\n",
       " 'forecast_variables': ['feature'],\n",
       " 'hidden_size': 64,\n",
       " 'horizon': 1,\n",
       " 'input_variables': ['feature'],\n",
       " 'learning_rate': 0.01,\n",
       " 'loss': 'MSE',\n",
       " 'model': 'lstm',\n",
       " 'n_epochs': 4,\n",
       " 'num_workers': 0,\n",
       " 'optimizer': 'adamw',\n",
       " 'run_dir': None,\n",
       " 'scheduler': 'cycle',\n",
       " 'seed': 1234,\n",
       " 'seq_length': 1,\n",
       " 'static_inputs': 'embedding',\n",
       " 'target_variable': 'target',\n",
       " 'test_end_date': Timestamp('2020-12-31 00:00:00'),\n",
       " 'test_start_date': Timestamp('2016-01-31 00:00:00'),\n",
       " 'train_end_date': Timestamp('2015-12-31 00:00:00'),\n",
       " 'train_start_date': Timestamp('2003-01-31 00:00:00'),\n",
       " 'validation_end_date': Timestamp('2002-12-31 00:00:00'),\n",
       " 'validation_start_date': Timestamp('2000-01-31 00:00:00')}"
      ]
     },
     "execution_count": 4,
     "metadata": {},
     "output_type": "execute_result"
    }
   ],
   "source": [
    "cfg = Config(base_dir / \"configs/test_config.yml\")\n",
    "cfg._cfg[\"scheduler\"] = \"cycle\"\n",
    "cfg._cfg[\"optimizer\"] = \"adamw\"\n",
    "cfg._cfg[\"model\"] = \"lstm\"  # \"lstm\"   \"bilstm\"\n",
    "cfg._cfg[\"early_stopping\"] = 2\n",
    "cfg._cfg[\"n_epochs\"] = 4\n",
    "cfg._cfg[\"batch_size\"] = 100\n",
    "cfg._cfg[\"encode_doys\"] = True\n",
    "cfg._cfg[\"static_inputs\"] = \"embedding\"\n",
    "cfg._cfg[\"forecast_variables\"] = [\"feature\"]\n",
    "cfg._cfg[\"num_workers\"] = 0\n",
    "cfg"
   ]
  },
  {
   "cell_type": "markdown",
   "id": "c55501ef",
   "metadata": {},
   "source": [
    "# Create Trainer"
   ]
  },
  {
   "cell_type": "code",
   "execution_count": 5,
   "id": "f4f09d80",
   "metadata": {},
   "outputs": [
    {
     "name": "stderr",
     "output_type": "stream",
     "text": [
      "Loading Data:  20%|██        | 20/100 [00:00<00:00, 192.81it/s]"
     ]
    },
    {
     "name": "stdout",
     "output_type": "stream",
     "text": [
      "** Normalizer fit! **\n"
     ]
    },
    {
     "name": "stderr",
     "output_type": "stream",
     "text": [
      "Loading Data: 100%|██████████| 100/100 [00:00<00:00, 202.86it/s]\n",
      "Loading Data: 100%|██████████| 100/100 [00:00<00:00, 407.32it/s]\n"
     ]
    }
   ],
   "source": [
    "trainer = Trainer(cfg, ds)\n",
    "\n",
    "if cfg.static_inputs is None:\n",
    "    assert trainer.train_dl.static_input_size == 0\n",
    "else:\n",
    "    assert trainer.train_dl.static_input_size == 100"
   ]
  },
  {
   "cell_type": "code",
   "execution_count": 12,
   "id": "f6658992",
   "metadata": {},
   "outputs": [],
   "source": [
    "# print(dir(trainer.train_dl.dataset))"
   ]
  },
  {
   "cell_type": "code",
   "execution_count": null,
   "id": "7dac72fd",
   "metadata": {},
   "outputs": [],
   "source": []
  },
  {
   "cell_type": "code",
   "execution_count": 13,
   "id": "c17e076c",
   "metadata": {},
   "outputs": [
    {
     "data": {
      "text/plain": [
       "100"
      ]
     },
     "execution_count": 13,
     "metadata": {},
     "output_type": "execute_result"
    }
   ],
   "source": [
    "len(trainer.train_dl)\n",
    "trainer.train_dl.batch_size"
   ]
  },
  {
   "cell_type": "code",
   "execution_count": 14,
   "id": "6b5228b3",
   "metadata": {},
   "outputs": [
    {
     "name": "stderr",
     "output_type": "stream",
     "text": [
      "Training Epoch 1: 100%|██████████| 154/154 [00:01<00:00, 138.29it/s, 0.12 -- LR 4.02e-04]\n",
      "Validation Epoch 1: 100%|██████████| 34/34 [00:00<00:00, 260.68it/s]\n",
      "Training Epoch 2:  10%|▉         | 15/154 [00:00<00:00, 144.24it/s, 0.05 -- LR 4.02e-04]"
     ]
    },
    {
     "name": "stdout",
     "output_type": "stream",
     "text": [
      "Train Loss: 0.58\n",
      "Valid Loss: 0.09\n"
     ]
    },
    {
     "name": "stderr",
     "output_type": "stream",
     "text": [
      "Training Epoch 2: 100%|██████████| 154/154 [00:01<00:00, 145.28it/s, 0.05 -- LR 4.07e-04]\n",
      "Validation Epoch 2: 100%|██████████| 34/34 [00:00<00:00, 261.79it/s]\n",
      "Training Epoch 3:  10%|▉         | 15/154 [00:00<00:00, 140.57it/s, 0.03 -- LR 4.08e-04]"
     ]
    },
    {
     "name": "stdout",
     "output_type": "stream",
     "text": [
      "Train Loss: 0.05\n",
      "Valid Loss: 0.03\n"
     ]
    },
    {
     "name": "stderr",
     "output_type": "stream",
     "text": [
      "Training Epoch 3: 100%|██████████| 154/154 [00:01<00:00, 142.00it/s, 0.03 -- LR 4.15e-04]\n",
      "Validation Epoch 3: 100%|██████████| 34/34 [00:00<00:00, 258.79it/s]\n",
      "Training Epoch 4:  10%|▉         | 15/154 [00:00<00:00, 144.74it/s, 0.02 -- LR 4.17e-04]"
     ]
    },
    {
     "name": "stdout",
     "output_type": "stream",
     "text": [
      "Train Loss: 0.03\n",
      "Valid Loss: 0.03\n"
     ]
    },
    {
     "name": "stderr",
     "output_type": "stream",
     "text": [
      "Training Epoch 4: 100%|██████████| 154/154 [00:01<00:00, 144.63it/s, 0.03 -- LR 4.26e-04]\n",
      "Validation Epoch 4: 100%|██████████| 34/34 [00:00<00:00, 253.16it/s]"
     ]
    },
    {
     "name": "stdout",
     "output_type": "stream",
     "text": [
      "Train Loss: 0.03\n",
      "Valid Loss: 0.03\n"
     ]
    },
    {
     "name": "stderr",
     "output_type": "stream",
     "text": [
      "\n"
     ]
    }
   ],
   "source": [
    "losses = trainer.train_and_validate()"
   ]
  },
  {
   "cell_type": "code",
   "execution_count": 15,
   "id": "9f1412e7",
   "metadata": {},
   "outputs": [
    {
     "data": {
      "image/png": "[encoded data removed]",
      "text/plain": [
       "<Figure size 432x288 with 1 Axes>"
      ]
     },
     "metadata": {
      "needs_background": "light"
     },
     "output_type": "display_data"
    }
   ],
   "source": [
    "from spatio_temporal.training.eval_utils import _plot_loss_curves, save_loss_curves\n",
    "\n",
    "save_loss_curves(losses, cfg)\n",
    "# _plot_loss_curves(losses);"
   ]
  },
  {
   "cell_type": "code",
   "execution_count": 16,
   "id": "7ea14757",
   "metadata": {},
   "outputs": [
    {
     "data": {
      "text/plain": [
       "Text(0, 0.5, '$\\\\Delta$ Validation Losses')"
      ]
     },
     "execution_count": 16,
     "metadata": {},
     "output_type": "execute_result"
    },
    {
     "data": {
      "image/png": "[encoded data removed]",
      "text/plain": [
       "<Figure size 432x288 with 1 Axes>"
      ]
     },
     "metadata": {
      "needs_background": "light"
     },
     "output_type": "display_data"
    }
   ],
   "source": [
    "train_losses, valid_losses = losses\n",
    "plt.plot(np.diff(valid_losses), label=\"$\\Delta$ Loss\")\n",
    "np.diff(valid_losses)\n",
    "\n",
    "idx = np.argmin(valid_losses) - 1\n",
    "plt.scatter(idx, np.diff(valid_losses)[idx], color=\"r\", s=50, label=\"Termination\")\n",
    "plt.legend()\n",
    "plt.ylabel(\"$\\Delta$ Validation Losses\")"
   ]
  },
  {
   "cell_type": "markdown",
   "id": "1ae5457b",
   "metadata": {},
   "source": [
    "# Load the trained data"
   ]
  },
  {
   "cell_type": "code",
   "execution_count": 17,
   "id": "b1f8cb8d",
   "metadata": {},
   "outputs": [
    {
     "name": "stderr",
     "output_type": "stream",
     "text": [
      "Loading Data: 100%|██████████| 100/100 [00:00<00:00, 374.64it/s]\n"
     ]
    }
   ],
   "source": [
    "tester = Tester(cfg, ds)"
   ]
  },
  {
   "cell_type": "code",
   "execution_count": 18,
   "id": "fd9b79d7",
   "metadata": {},
   "outputs": [
    {
     "name": "stderr",
     "output_type": "stream",
     "text": [
      "Test set Forward Pass: 100%|██████████| 57/57 [00:00<00:00, 244.07it/s]\n"
     ]
    },
    {
     "ename": "AssertionError",
     "evalue": "Should have loaded Test Dataset!",
     "output_type": "error",
     "traceback": [
      "\u001b[0;31m---------------------------------------------------------------------------\u001b[0m",
      "\u001b[0;31mAssertionError\u001b[0m                            Traceback (most recent call last)",
      "\u001b[0;32m<ipython-input-18-c8f42b25f644>\u001b[0m in \u001b[0;36m<module>\u001b[0;34m\u001b[0m\n\u001b[0;32m----> 1\u001b[0;31m \u001b[0mtester\u001b[0m\u001b[0;34m.\u001b[0m\u001b[0mrun_test\u001b[0m\u001b[0;34m(\u001b[0m\u001b[0munnormalize\u001b[0m\u001b[0;34m=\u001b[0m\u001b[0;32mFalse\u001b[0m\u001b[0;34m)\u001b[0m\u001b[0;34m\u001b[0m\u001b[0;34m\u001b[0m\u001b[0m\n\u001b[0m",
      "\u001b[0;32m~/github/spatio_temporal/spatio_temporal/training/tester.py\u001b[0m in \u001b[0;36mrun_test\u001b[0;34m(self, epoch, unnormalize, plot, save_preds)\u001b[0m\n\u001b[1;32m    179\u001b[0m         \u001b[0mpreds\u001b[0m \u001b[0;34m=\u001b[0m \u001b[0mself\u001b[0m\u001b[0;34m.\u001b[0m\u001b[0mtest_default_dict_to_xarray\u001b[0m\u001b[0;34m(\u001b[0m\u001b[0mout\u001b[0m\u001b[0;34m)\u001b[0m\u001b[0;34m\u001b[0m\u001b[0;34m\u001b[0m\u001b[0m\n\u001b[1;32m    180\u001b[0m \u001b[0;34m\u001b[0m\u001b[0m\n\u001b[0;32m--> 181\u001b[0;31m         assert (\n\u001b[0m\u001b[1;32m    182\u001b[0m             \u001b[0mpreds\u001b[0m\u001b[0;34m.\u001b[0m\u001b[0mtime\u001b[0m\u001b[0;34m.\u001b[0m\u001b[0mmin\u001b[0m\u001b[0;34m(\u001b[0m\u001b[0;34m)\u001b[0m \u001b[0;34m==\u001b[0m \u001b[0mself\u001b[0m\u001b[0;34m.\u001b[0m\u001b[0mcfg\u001b[0m\u001b[0;34m.\u001b[0m\u001b[0mtest_start_date\u001b[0m\u001b[0;34m\u001b[0m\u001b[0;34m\u001b[0m\u001b[0m\n\u001b[1;32m    183\u001b[0m         ), \"Should have loaded Test Dataset!\"\n",
      "\u001b[0;31mAssertionError\u001b[0m: Should have loaded Test Dataset!"
     ]
    }
   ],
   "source": [
    "tester.run_test(unnormalize=False)"
   ]
  },
  {
   "cell_type": "markdown",
   "id": "be1c901f",
   "metadata": {},
   "source": [
    "# The output forecasts! "
   ]
  },
  {
   "cell_type": "code",
   "execution_count": null,
   "id": "f17cbb10",
   "metadata": {},
   "outputs": [],
   "source": [
    "xr_path = sorted(list(cfg.run_dir.glob(\"*.nc\")))[-1]\n",
    "preds = xr.open_dataset(xr_path).drop(\"horizon\")\n",
    "preds"
   ]
  },
  {
   "cell_type": "code",
   "execution_count": null,
   "id": "db2a63d1",
   "metadata": {},
   "outputs": [],
   "source": [
    "from spatio_temporal.training.eval_utils import save_timeseries\n",
    "\n",
    "for _ in range(2):\n",
    "    save_timeseries(preds, cfg)\n",
    "    sns.despine()"
   ]
  },
  {
   "cell_type": "code",
   "execution_count": null,
   "id": "390ad276",
   "metadata": {},
   "outputs": [],
   "source": [
    "stacked, sample = _stack_xarray(ds, cfg.pixel_dims)"
   ]
  },
  {
   "cell_type": "code",
   "execution_count": null,
   "id": "dae01876",
   "metadata": {},
   "outputs": [],
   "source": []
  }
 ],
 "metadata": {
  "kernelspec": {
   "display_name": "Python 3",
   "language": "python",
   "name": "python3"
  },
  "language_info": {
   "codemirror_mode": {
    "name": "ipython",
    "version": 3
   },
   "file_extension": ".py",
   "mimetype": "text/x-python",
   "name": "python",
   "nbconvert_exporter": "python",
   "pygments_lexer": "ipython3",
   "version": "3.8.2"
  }
 },
 "nbformat": 4,
 "nbformat_minor": 5
}
